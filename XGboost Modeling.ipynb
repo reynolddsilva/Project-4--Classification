{
 "cells": [
  {
   "cell_type": "code",
   "execution_count": 1,
   "metadata": {},
   "outputs": [
    {
     "ename": "ModuleNotFoundError",
     "evalue": "No module named 'xgboost'",
     "output_type": "error",
     "traceback": [
      "\u001b[1;31m---------------------------------------------------------------------------\u001b[0m",
      "\u001b[1;31mModuleNotFoundError\u001b[0m                       Traceback (most recent call last)",
      "\u001b[1;32m<ipython-input-1-67a8b9bd62af>\u001b[0m in \u001b[0;36m<module>\u001b[1;34m\u001b[0m\n\u001b[0;32m     24\u001b[0m \u001b[1;32mfrom\u001b[0m \u001b[0msklearn\u001b[0m\u001b[1;33m.\u001b[0m\u001b[0mensemble\u001b[0m \u001b[1;32mimport\u001b[0m \u001b[0mRandomForestClassifier\u001b[0m\u001b[1;33m\u001b[0m\u001b[1;33m\u001b[0m\u001b[0m\n\u001b[0;32m     25\u001b[0m \u001b[1;33m\u001b[0m\u001b[0m\n\u001b[1;32m---> 26\u001b[1;33m \u001b[1;32mimport\u001b[0m \u001b[0mxgboost\u001b[0m \u001b[1;32mas\u001b[0m \u001b[0mxgb\u001b[0m\u001b[1;33m\u001b[0m\u001b[1;33m\u001b[0m\u001b[0m\n\u001b[0m\u001b[0;32m     27\u001b[0m \u001b[1;32mfrom\u001b[0m \u001b[0mxgboost\u001b[0m \u001b[1;32mimport\u001b[0m \u001b[0mXGBClassifier\u001b[0m\u001b[1;33m\u001b[0m\u001b[1;33m\u001b[0m\u001b[0m\n\u001b[0;32m     28\u001b[0m \u001b[1;32mfrom\u001b[0m \u001b[0msklearn\u001b[0m\u001b[1;33m.\u001b[0m\u001b[0mmetrics\u001b[0m \u001b[1;32mimport\u001b[0m \u001b[0mfbeta_score\u001b[0m\u001b[1;33m,\u001b[0m \u001b[0mmake_scorer\u001b[0m\u001b[1;33m\u001b[0m\u001b[1;33m\u001b[0m\u001b[0m\n",
      "\u001b[1;31mModuleNotFoundError\u001b[0m: No module named 'xgboost'"
     ]
    }
   ],
   "source": [
    "import pandas as pd\n",
    "import numpy as np\n",
    "\n",
    "import seaborn as sns\n",
    "import matplotlib.pyplot as plt\n",
    "%matplotlib inline\n",
    "\n",
    "\n",
    "from sklearn.model_selection import train_test_split\n",
    "from sklearn.linear_model import LogisticRegression \n",
    "from sklearn.preprocessing import StandardScaler\n",
    "\n",
    "\n",
    "from sklearn.neighbors import KNeighborsClassifier\n",
    "from sklearn.metrics import precision_score, recall_score, precision_recall_curve\n",
    "from sklearn.metrics import accuracy_score, roc_auc_score, roc_curve\n",
    "from sklearn.metrics import f1_score, fbeta_score\n",
    "from sklearn.metrics import classification_report\n",
    "from sklearn.metrics import confusion_matrix\n",
    "from sklearn import metrics\n",
    "\n",
    "\n",
    "from sklearn.tree import DecisionTreeClassifier \n",
    "from sklearn.ensemble import RandomForestClassifier\n",
    "\n",
    "import xgboost as xgb\n",
    "from xgboost import XGBClassifier\n",
    "from sklearn.metrics import fbeta_score, make_scorer\n",
    "from sklearn.model_selection import GridSearchCV"
   ]
  },
  {
   "cell_type": "code",
   "execution_count": 2,
   "metadata": {},
   "outputs": [
    {
     "ename": "FileNotFoundError",
     "evalue": "[Errno 2] No such file or directory: 'data/loan_2018_2020_final_dummies.csv'",
     "output_type": "error",
     "traceback": [
      "\u001b[1;31m---------------------------------------------------------------------------\u001b[0m",
      "\u001b[1;31mFileNotFoundError\u001b[0m                         Traceback (most recent call last)",
      "\u001b[1;32m<ipython-input-2-992e68d7a56f>\u001b[0m in \u001b[0;36m<module>\u001b[1;34m\u001b[0m\n\u001b[0;32m      1\u001b[0m \u001b[1;31m# dummies\u001b[0m\u001b[1;33m\u001b[0m\u001b[1;33m\u001b[0m\u001b[1;33m\u001b[0m\u001b[0m\n\u001b[1;32m----> 2\u001b[1;33m \u001b[0mdata\u001b[0m \u001b[1;33m=\u001b[0m \u001b[0mpd\u001b[0m\u001b[1;33m.\u001b[0m\u001b[0mread_csv\u001b[0m\u001b[1;33m(\u001b[0m\u001b[1;34m'data/loan_2018_2020_final_dummies.csv'\u001b[0m\u001b[1;33m,\u001b[0m\u001b[0mindex_col\u001b[0m\u001b[1;33m=\u001b[0m\u001b[1;36m0\u001b[0m\u001b[1;33m)\u001b[0m\u001b[1;33m\u001b[0m\u001b[1;33m\u001b[0m\u001b[0m\n\u001b[0m\u001b[0;32m      3\u001b[0m \u001b[0mdata\u001b[0m\u001b[1;33m.\u001b[0m\u001b[0mhead\u001b[0m\u001b[1;33m(\u001b[0m\u001b[1;33m)\u001b[0m\u001b[1;33m\u001b[0m\u001b[1;33m\u001b[0m\u001b[0m\n",
      "\u001b[1;32m~\\anaconda3\\lib\\site-packages\\pandas\\io\\parsers.py\u001b[0m in \u001b[0;36mread_csv\u001b[1;34m(filepath_or_buffer, sep, delimiter, header, names, index_col, usecols, squeeze, prefix, mangle_dupe_cols, dtype, engine, converters, true_values, false_values, skipinitialspace, skiprows, skipfooter, nrows, na_values, keep_default_na, na_filter, verbose, skip_blank_lines, parse_dates, infer_datetime_format, keep_date_col, date_parser, dayfirst, cache_dates, iterator, chunksize, compression, thousands, decimal, lineterminator, quotechar, quoting, doublequote, escapechar, comment, encoding, dialect, error_bad_lines, warn_bad_lines, delim_whitespace, low_memory, memory_map, float_precision, storage_options)\u001b[0m\n\u001b[0;32m    608\u001b[0m     \u001b[0mkwds\u001b[0m\u001b[1;33m.\u001b[0m\u001b[0mupdate\u001b[0m\u001b[1;33m(\u001b[0m\u001b[0mkwds_defaults\u001b[0m\u001b[1;33m)\u001b[0m\u001b[1;33m\u001b[0m\u001b[1;33m\u001b[0m\u001b[0m\n\u001b[0;32m    609\u001b[0m \u001b[1;33m\u001b[0m\u001b[0m\n\u001b[1;32m--> 610\u001b[1;33m     \u001b[1;32mreturn\u001b[0m \u001b[0m_read\u001b[0m\u001b[1;33m(\u001b[0m\u001b[0mfilepath_or_buffer\u001b[0m\u001b[1;33m,\u001b[0m \u001b[0mkwds\u001b[0m\u001b[1;33m)\u001b[0m\u001b[1;33m\u001b[0m\u001b[1;33m\u001b[0m\u001b[0m\n\u001b[0m\u001b[0;32m    611\u001b[0m \u001b[1;33m\u001b[0m\u001b[0m\n\u001b[0;32m    612\u001b[0m \u001b[1;33m\u001b[0m\u001b[0m\n",
      "\u001b[1;32m~\\anaconda3\\lib\\site-packages\\pandas\\io\\parsers.py\u001b[0m in \u001b[0;36m_read\u001b[1;34m(filepath_or_buffer, kwds)\u001b[0m\n\u001b[0;32m    460\u001b[0m \u001b[1;33m\u001b[0m\u001b[0m\n\u001b[0;32m    461\u001b[0m     \u001b[1;31m# Create the parser.\u001b[0m\u001b[1;33m\u001b[0m\u001b[1;33m\u001b[0m\u001b[1;33m\u001b[0m\u001b[0m\n\u001b[1;32m--> 462\u001b[1;33m     \u001b[0mparser\u001b[0m \u001b[1;33m=\u001b[0m \u001b[0mTextFileReader\u001b[0m\u001b[1;33m(\u001b[0m\u001b[0mfilepath_or_buffer\u001b[0m\u001b[1;33m,\u001b[0m \u001b[1;33m**\u001b[0m\u001b[0mkwds\u001b[0m\u001b[1;33m)\u001b[0m\u001b[1;33m\u001b[0m\u001b[1;33m\u001b[0m\u001b[0m\n\u001b[0m\u001b[0;32m    463\u001b[0m \u001b[1;33m\u001b[0m\u001b[0m\n\u001b[0;32m    464\u001b[0m     \u001b[1;32mif\u001b[0m \u001b[0mchunksize\u001b[0m \u001b[1;32mor\u001b[0m \u001b[0miterator\u001b[0m\u001b[1;33m:\u001b[0m\u001b[1;33m\u001b[0m\u001b[1;33m\u001b[0m\u001b[0m\n",
      "\u001b[1;32m~\\anaconda3\\lib\\site-packages\\pandas\\io\\parsers.py\u001b[0m in \u001b[0;36m__init__\u001b[1;34m(self, f, engine, **kwds)\u001b[0m\n\u001b[0;32m    817\u001b[0m             \u001b[0mself\u001b[0m\u001b[1;33m.\u001b[0m\u001b[0moptions\u001b[0m\u001b[1;33m[\u001b[0m\u001b[1;34m\"has_index_names\"\u001b[0m\u001b[1;33m]\u001b[0m \u001b[1;33m=\u001b[0m \u001b[0mkwds\u001b[0m\u001b[1;33m[\u001b[0m\u001b[1;34m\"has_index_names\"\u001b[0m\u001b[1;33m]\u001b[0m\u001b[1;33m\u001b[0m\u001b[1;33m\u001b[0m\u001b[0m\n\u001b[0;32m    818\u001b[0m \u001b[1;33m\u001b[0m\u001b[0m\n\u001b[1;32m--> 819\u001b[1;33m         \u001b[0mself\u001b[0m\u001b[1;33m.\u001b[0m\u001b[0m_engine\u001b[0m \u001b[1;33m=\u001b[0m \u001b[0mself\u001b[0m\u001b[1;33m.\u001b[0m\u001b[0m_make_engine\u001b[0m\u001b[1;33m(\u001b[0m\u001b[0mself\u001b[0m\u001b[1;33m.\u001b[0m\u001b[0mengine\u001b[0m\u001b[1;33m)\u001b[0m\u001b[1;33m\u001b[0m\u001b[1;33m\u001b[0m\u001b[0m\n\u001b[0m\u001b[0;32m    820\u001b[0m \u001b[1;33m\u001b[0m\u001b[0m\n\u001b[0;32m    821\u001b[0m     \u001b[1;32mdef\u001b[0m \u001b[0mclose\u001b[0m\u001b[1;33m(\u001b[0m\u001b[0mself\u001b[0m\u001b[1;33m)\u001b[0m\u001b[1;33m:\u001b[0m\u001b[1;33m\u001b[0m\u001b[1;33m\u001b[0m\u001b[0m\n",
      "\u001b[1;32m~\\anaconda3\\lib\\site-packages\\pandas\\io\\parsers.py\u001b[0m in \u001b[0;36m_make_engine\u001b[1;34m(self, engine)\u001b[0m\n\u001b[0;32m   1048\u001b[0m             )\n\u001b[0;32m   1049\u001b[0m         \u001b[1;31m# error: Too many arguments for \"ParserBase\"\u001b[0m\u001b[1;33m\u001b[0m\u001b[1;33m\u001b[0m\u001b[1;33m\u001b[0m\u001b[0m\n\u001b[1;32m-> 1050\u001b[1;33m         \u001b[1;32mreturn\u001b[0m \u001b[0mmapping\u001b[0m\u001b[1;33m[\u001b[0m\u001b[0mengine\u001b[0m\u001b[1;33m]\u001b[0m\u001b[1;33m(\u001b[0m\u001b[0mself\u001b[0m\u001b[1;33m.\u001b[0m\u001b[0mf\u001b[0m\u001b[1;33m,\u001b[0m \u001b[1;33m**\u001b[0m\u001b[0mself\u001b[0m\u001b[1;33m.\u001b[0m\u001b[0moptions\u001b[0m\u001b[1;33m)\u001b[0m  \u001b[1;31m# type: ignore[call-arg]\u001b[0m\u001b[1;33m\u001b[0m\u001b[1;33m\u001b[0m\u001b[0m\n\u001b[0m\u001b[0;32m   1051\u001b[0m \u001b[1;33m\u001b[0m\u001b[0m\n\u001b[0;32m   1052\u001b[0m     \u001b[1;32mdef\u001b[0m \u001b[0m_failover_to_python\u001b[0m\u001b[1;33m(\u001b[0m\u001b[0mself\u001b[0m\u001b[1;33m)\u001b[0m\u001b[1;33m:\u001b[0m\u001b[1;33m\u001b[0m\u001b[1;33m\u001b[0m\u001b[0m\n",
      "\u001b[1;32m~\\anaconda3\\lib\\site-packages\\pandas\\io\\parsers.py\u001b[0m in \u001b[0;36m__init__\u001b[1;34m(self, src, **kwds)\u001b[0m\n\u001b[0;32m   1865\u001b[0m \u001b[1;33m\u001b[0m\u001b[0m\n\u001b[0;32m   1866\u001b[0m         \u001b[1;31m# open handles\u001b[0m\u001b[1;33m\u001b[0m\u001b[1;33m\u001b[0m\u001b[1;33m\u001b[0m\u001b[0m\n\u001b[1;32m-> 1867\u001b[1;33m         \u001b[0mself\u001b[0m\u001b[1;33m.\u001b[0m\u001b[0m_open_handles\u001b[0m\u001b[1;33m(\u001b[0m\u001b[0msrc\u001b[0m\u001b[1;33m,\u001b[0m \u001b[0mkwds\u001b[0m\u001b[1;33m)\u001b[0m\u001b[1;33m\u001b[0m\u001b[1;33m\u001b[0m\u001b[0m\n\u001b[0m\u001b[0;32m   1868\u001b[0m         \u001b[1;32massert\u001b[0m \u001b[0mself\u001b[0m\u001b[1;33m.\u001b[0m\u001b[0mhandles\u001b[0m \u001b[1;32mis\u001b[0m \u001b[1;32mnot\u001b[0m \u001b[1;32mNone\u001b[0m\u001b[1;33m\u001b[0m\u001b[1;33m\u001b[0m\u001b[0m\n\u001b[0;32m   1869\u001b[0m         \u001b[1;32mfor\u001b[0m \u001b[0mkey\u001b[0m \u001b[1;32min\u001b[0m \u001b[1;33m(\u001b[0m\u001b[1;34m\"storage_options\"\u001b[0m\u001b[1;33m,\u001b[0m \u001b[1;34m\"encoding\"\u001b[0m\u001b[1;33m,\u001b[0m \u001b[1;34m\"memory_map\"\u001b[0m\u001b[1;33m,\u001b[0m \u001b[1;34m\"compression\"\u001b[0m\u001b[1;33m)\u001b[0m\u001b[1;33m:\u001b[0m\u001b[1;33m\u001b[0m\u001b[1;33m\u001b[0m\u001b[0m\n",
      "\u001b[1;32m~\\anaconda3\\lib\\site-packages\\pandas\\io\\parsers.py\u001b[0m in \u001b[0;36m_open_handles\u001b[1;34m(self, src, kwds)\u001b[0m\n\u001b[0;32m   1360\u001b[0m         \u001b[0mLet\u001b[0m \u001b[0mthe\u001b[0m \u001b[0mreaders\u001b[0m \u001b[0mopen\u001b[0m \u001b[0mIOHanldes\u001b[0m \u001b[0mafter\u001b[0m \u001b[0mthey\u001b[0m \u001b[0mare\u001b[0m \u001b[0mdone\u001b[0m \u001b[1;32mwith\u001b[0m \u001b[0mtheir\u001b[0m \u001b[0mpotential\u001b[0m \u001b[0mraises\u001b[0m\u001b[1;33m.\u001b[0m\u001b[1;33m\u001b[0m\u001b[1;33m\u001b[0m\u001b[0m\n\u001b[0;32m   1361\u001b[0m         \"\"\"\n\u001b[1;32m-> 1362\u001b[1;33m         self.handles = get_handle(\n\u001b[0m\u001b[0;32m   1363\u001b[0m             \u001b[0msrc\u001b[0m\u001b[1;33m,\u001b[0m\u001b[1;33m\u001b[0m\u001b[1;33m\u001b[0m\u001b[0m\n\u001b[0;32m   1364\u001b[0m             \u001b[1;34m\"r\"\u001b[0m\u001b[1;33m,\u001b[0m\u001b[1;33m\u001b[0m\u001b[1;33m\u001b[0m\u001b[0m\n",
      "\u001b[1;32m~\\anaconda3\\lib\\site-packages\\pandas\\io\\common.py\u001b[0m in \u001b[0;36mget_handle\u001b[1;34m(path_or_buf, mode, encoding, compression, memory_map, is_text, errors, storage_options)\u001b[0m\n\u001b[0;32m    640\u001b[0m                 \u001b[0merrors\u001b[0m \u001b[1;33m=\u001b[0m \u001b[1;34m\"replace\"\u001b[0m\u001b[1;33m\u001b[0m\u001b[1;33m\u001b[0m\u001b[0m\n\u001b[0;32m    641\u001b[0m             \u001b[1;31m# Encoding\u001b[0m\u001b[1;33m\u001b[0m\u001b[1;33m\u001b[0m\u001b[1;33m\u001b[0m\u001b[0m\n\u001b[1;32m--> 642\u001b[1;33m             handle = open(\n\u001b[0m\u001b[0;32m    643\u001b[0m                 \u001b[0mhandle\u001b[0m\u001b[1;33m,\u001b[0m\u001b[1;33m\u001b[0m\u001b[1;33m\u001b[0m\u001b[0m\n\u001b[0;32m    644\u001b[0m                 \u001b[0mioargs\u001b[0m\u001b[1;33m.\u001b[0m\u001b[0mmode\u001b[0m\u001b[1;33m,\u001b[0m\u001b[1;33m\u001b[0m\u001b[1;33m\u001b[0m\u001b[0m\n",
      "\u001b[1;31mFileNotFoundError\u001b[0m: [Errno 2] No such file or directory: 'data/loan_2018_2020_final_dummies.csv'"
     ]
    }
   ],
   "source": [
    "# dummies\n",
    "data = pd.read_csv('data/loan_2018_2020_final_dummies.csv',index_col=0) \n",
    "data.head()"
   ]
  },
  {
   "cell_type": "code",
   "execution_count": 4,
   "metadata": {},
   "outputs": [
    {
     "name": "stdout",
     "output_type": "stream",
     "text": [
      "(246004, 27)\n",
      "(246004,)\n"
     ]
    }
   ],
   "source": [
    "# subset\n",
    "#subset = data[:10000]  # 10k \n",
    "                        \n",
    "#X = subset.iloc[:, 1:] # df                    # X = X.reshape(-1, 1)\n",
    "#y = subset['Charged Off'] # Series\n",
    "\n",
    "\n",
    "# all data\n",
    "\n",
    "X = data.iloc[:, 1:] \n",
    "y = data['Charged Off']\n",
    "\n",
    "\n",
    "print(X.shape)\n",
    "print(y.shape)"
   ]
  },
  {
   "cell_type": "code",
   "execution_count": 5,
   "metadata": {},
   "outputs": [],
   "source": [
    "X_train, X_test, y_train, y_test = train_test_split(X, y, test_size = 0.2, random_state = 10)"
   ]
  },
  {
   "cell_type": "markdown",
   "metadata": {},
   "source": [
    "## 3c. XGBoost\n",
    "\n",
    "### 0. baseline"
   ]
  },
  {
   "cell_type": "code",
   "execution_count": 3,
   "metadata": {},
   "outputs": [
    {
     "ename": "NameError",
     "evalue": "name 'XGBClassifier' is not defined",
     "output_type": "error",
     "traceback": [
      "\u001b[1;31m---------------------------------------------------------------------------\u001b[0m",
      "\u001b[1;31mNameError\u001b[0m                                 Traceback (most recent call last)",
      "\u001b[1;32m<ipython-input-3-38349c324035>\u001b[0m in \u001b[0;36m<module>\u001b[1;34m\u001b[0m\n\u001b[1;32m----> 1\u001b[1;33m \u001b[0mxgb_0\u001b[0m \u001b[1;33m=\u001b[0m \u001b[0mXGBClassifier\u001b[0m\u001b[1;33m(\u001b[0m\u001b[0meval_metric\u001b[0m\u001b[1;33m=\u001b[0m\u001b[1;34m'mlogloss'\u001b[0m\u001b[1;33m)\u001b[0m\u001b[1;33m\u001b[0m\u001b[1;33m\u001b[0m\u001b[0m\n\u001b[0m\u001b[0;32m      2\u001b[0m \u001b[0mxgb_0\u001b[0m\u001b[1;33m.\u001b[0m\u001b[0mfit\u001b[0m\u001b[1;33m(\u001b[0m\u001b[0mX_train\u001b[0m\u001b[1;33m,\u001b[0m\u001b[0my_train\u001b[0m\u001b[1;33m)\u001b[0m\u001b[1;33m\u001b[0m\u001b[1;33m\u001b[0m\u001b[0m\n\u001b[0;32m      3\u001b[0m \u001b[0my_pred_xgb_0\u001b[0m \u001b[1;33m=\u001b[0m \u001b[0mxgb_0\u001b[0m\u001b[1;33m.\u001b[0m\u001b[0mpredict\u001b[0m\u001b[1;33m(\u001b[0m\u001b[0mX_test\u001b[0m\u001b[1;33m)\u001b[0m\u001b[1;33m\u001b[0m\u001b[1;33m\u001b[0m\u001b[0m\n",
      "\u001b[1;31mNameError\u001b[0m: name 'XGBClassifier' is not defined"
     ]
    }
   ],
   "source": [
    "xgb_0 = XGBClassifier(eval_metric='mlogloss')\n",
    "xgb_0.fit(X_train,y_train)\n",
    "y_pred_xgb_0 = xgb_0.predict(X_test)"
   ]
  },
  {
   "cell_type": "code",
   "execution_count": 8,
   "metadata": {},
   "outputs": [
    {
     "name": "stdout",
     "output_type": "stream",
     "text": [
      "Accuracy:   0.7980528851039613\n",
      "Recall:     0.11556347086177897\n",
      "F_1:        0.19035202086049544\n",
      "F_beta2:    0.13711173197473764\n",
      "F_beta3:    0.12541877845545915\n",
      "Precision:  0.5394919168591225\n"
     ]
    }
   ],
   "source": [
    "print(\"Accuracy:  \",metrics.accuracy_score(y_test, y_pred_xgb_0 ))\n",
    "print(\"Recall:    \",metrics.recall_score(y_test, y_pred_xgb_0 ))\n",
    "print(\"F_1:       \",metrics.f1_score(y_test, y_pred_xgb_0 ))\n",
    "print(\"F_beta2:   \",metrics.fbeta_score(y_test, y_pred_xgb_0 , beta= 2))\n",
    "print(\"F_beta3:   \",metrics.fbeta_score(y_test, y_pred_xgb_0 , beta= 3))\n",
    "print(\"Precision: \",metrics.precision_score(y_test, y_pred_xgb_0))"
   ]
  },
  {
   "cell_type": "markdown",
   "metadata": {},
   "source": [
    "Now that we've set a baseline (_F2 score looks sad tho_), let's turn to xgboost. Most of the parameters we'll use here :\n",
    "\n",
    "\n",
    "- **n_estimators**: number of base learner trees  \n",
    "- **max_depth**: max depth per base tree (typical values are 3-12)   \n",
    "- **learning_rate**: shrinkage factor applied to each base tree update  \n",
    " \n",
    "- **min_child_weight**: roughly the minimum allowable child samples for a tree split to occur  \n",
    "- **subsample**: row subsampling rate (similar to RF)  \n",
    "- **colsample_bytree**: feature subsampling rate (similar to RF) \n",
    "\n",
    "https://xgboost.readthedocs.io/en/latest/parameter.html#"
   ]
  },
  {
   "cell_type": "markdown",
   "metadata": {},
   "source": [
    "## GridSerachCV  Tuning  "
   ]
  },
  {
   "cell_type": "markdown",
   "metadata": {},
   "source": [
    "### 0. make Fbeta score for GridSreach by myself\n",
    "\n",
    "https://scikit-learn.org/stable/modules/model_evaluation.html#scoring"
   ]
  },
  {
   "cell_type": "code",
   "execution_count": 9,
   "metadata": {},
   "outputs": [],
   "source": [
    "from sklearn.metrics import fbeta_score, make_scorer\n",
    "from sklearn.model_selection import GridSearchCV\n",
    "\n",
    "\n",
    "ftwo_scorer = make_scorer(fbeta_score, beta=2)"
   ]
  },
  {
   "cell_type": "markdown",
   "metadata": {},
   "source": [
    "### 1. scale_pos_weight\n",
    "fix Classes Imbalance (i know my data is imbalance so I tuned this first)"
   ]
  },
  {
   "cell_type": "code",
   "execution_count": 4,
   "metadata": {},
   "outputs": [
    {
     "ename": "NameError",
     "evalue": "name 'GridSearchCV' is not defined",
     "output_type": "error",
     "traceback": [
      "\u001b[1;31m---------------------------------------------------------------------------\u001b[0m",
      "\u001b[1;31mNameError\u001b[0m                                 Traceback (most recent call last)",
      "\u001b[1;32m<ipython-input-4-d453390e2612>\u001b[0m in \u001b[0;36m<module>\u001b[1;34m\u001b[0m\n\u001b[0;32m      2\u001b[0m \u001b[0mparam_test1\u001b[0m \u001b[1;33m=\u001b[0m \u001b[1;33m{\u001b[0m\u001b[1;34m\"scale_pos_weight\"\u001b[0m \u001b[1;33m:\u001b[0m \u001b[1;33m[\u001b[0m\u001b[1;36m1\u001b[0m\u001b[1;33m,\u001b[0m \u001b[1;36m2\u001b[0m\u001b[1;33m,\u001b[0m \u001b[1;36m3\u001b[0m\u001b[1;33m,\u001b[0m \u001b[1;36m4\u001b[0m\u001b[1;33m,\u001b[0m \u001b[1;36m5\u001b[0m\u001b[1;33m,\u001b[0m \u001b[1;36m6\u001b[0m\u001b[1;33m]\u001b[0m\u001b[1;33m}\u001b[0m     \u001b[1;31m#range(1,6)}\u001b[0m\u001b[1;33m\u001b[0m\u001b[1;33m\u001b[0m\u001b[0m\n\u001b[0;32m      3\u001b[0m \u001b[1;33m\u001b[0m\u001b[0m\n\u001b[1;32m----> 4\u001b[1;33m gsearch1 = GridSearchCV(estimator=XGBClassifier(eval_metric='mlogloss'),\n\u001b[0m\u001b[0;32m      5\u001b[0m                         param_grid=param_test1, scoring = ftwo_scorer, cv=10)\n\u001b[0;32m      6\u001b[0m \u001b[1;33m\u001b[0m\u001b[0m\n",
      "\u001b[1;31mNameError\u001b[0m: name 'GridSearchCV' is not defined"
     ]
    }
   ],
   "source": [
    "# GridSearchCV\n",
    "param_test1 = {\"scale_pos_weight\" : [1, 2, 3, 4, 5, 6]}     #range(1,6)}\n",
    "\n",
    "gsearch1 = GridSearchCV(estimator=XGBClassifier(eval_metric='mlogloss'),\n",
    "                        param_grid=param_test1, scoring = ftwo_scorer, cv=10)\n",
    "\n",
    "gsearch1.fit(X_train,y_train)\n",
    "#print(gsearch1.grid_scores_)\n",
    "print(gsearch1.best_params_)\n",
    "print(\"best F2 score:\", gsearch1.best_score_)"
   ]
  },
  {
   "cell_type": "markdown",
   "metadata": {},
   "source": [
    "{'scale_pos_weight': 6}\n",
    "best F2 score: 0.594046732347722"
   ]
  },
  {
   "cell_type": "code",
   "execution_count": 18,
   "metadata": {},
   "outputs": [
    {
     "name": "stdout",
     "output_type": "stream",
     "text": [
      "0.5955609677692181\n"
     ]
    }
   ],
   "source": [
    "print(gsearch1.best_score_)  #scale_pos_weight = 6"
   ]
  },
  {
   "cell_type": "code",
   "execution_count": 18,
   "metadata": {},
   "outputs": [
    {
     "name": "stdout",
     "output_type": "stream",
     "text": [
      "F_beta2:    0.5786693847294292\n"
     ]
    }
   ],
   "source": [
    "xgb_1 = XGBClassifier(eval_metric='mlogloss',scale_pos_weight = 5)  # 0.57866\n",
    "xgb_1.fit(X_train,y_train)\n",
    "y_pred_xgb_1 = xgb_1.predict(X_test)\n",
    "print(\"F_beta2:   \",metrics.fbeta_score(y_test, y_pred_xgb_1 , beta= 2)) "
   ]
  },
  {
   "cell_type": "code",
   "execution_count": 12,
   "metadata": {},
   "outputs": [
    {
     "name": "stdout",
     "output_type": "stream",
     "text": [
      "Accuracy:   0.604825105180789\n",
      "Recall:     0.7414663104778866\n",
      "F_1:        0.4353053933954866\n",
      "F_beta2:    0.5786693847294292\n",
      "Precision:  0.3080907745436606\n",
      "confusion matrix: \n",
      "\n",
      " [[22264 16830]\n",
      " [ 2613  7494]]\n"
     ]
    }
   ],
   "source": [
    "print(\"Accuracy:  \",metrics.accuracy_score(y_test, y_pred_xgb_1 ))\n",
    "print(\"Recall:    \",metrics.recall_score(y_test, y_pred_xgb_1 ))\n",
    "print(\"F_1:       \",metrics.f1_score(y_test, y_pred_xgb_1 ))\n",
    "print(\"F_beta2:   \",metrics.fbeta_score(y_test, y_pred_xgb_1 , beta= 2))\n",
    "#print(\"F_beta3:   \",metrics.fbeta_score(y_test, y_pred_xgb_1 , beta= 3))\n",
    "print(\"Precision: \",metrics.precision_score(y_test, y_pred_xgb_1))\n",
    "\n",
    "print(\"confusion matrix: \\n\\n\", \n",
    "      confusion_matrix(y_test, y_pred_xgb_1))"
   ]
  },
  {
   "cell_type": "code",
   "execution_count": 14,
   "metadata": {},
   "outputs": [
    {
     "name": "stdout",
     "output_type": "stream",
     "text": [
      "F_beta2:    0.5974126961685282\n"
     ]
    }
   ],
   "source": [
    "xgb_1_2 = XGBClassifier(eval_metric='mlogloss',scale_pos_weight = 7) # 0.5974\n",
    "xgb_1_2.fit(X_train,y_train)\n",
    "y_pred_xgb_1_2 = xgb_1_2.predict(X_test)\n",
    "print(\"F_beta2:   \",metrics.fbeta_score(y_test, y_pred_xgb_1_2 , beta= 2))"
   ]
  },
  {
   "cell_type": "code",
   "execution_count": 16,
   "metadata": {},
   "outputs": [
    {
     "name": "stdout",
     "output_type": "stream",
     "text": [
      "F_beta2:    0.5991474147414743\n"
     ]
    }
   ],
   "source": [
    "xgb_1_3 = XGBClassifier(eval_metric='mlogloss',scale_pos_weight = 8) # 0.5991\n",
    "xgb_1_3.fit(X_train,y_train)\n",
    "y_pred_xgb_1_3 = xgb_1_3.predict(X_test)\n",
    "print(\"F_beta2:   \",metrics.fbeta_score(y_test, y_pred_xgb_1_3 , beta= 2))"
   ]
  },
  {
   "cell_type": "code",
   "execution_count": null,
   "metadata": {},
   "outputs": [],
   "source": [
    "data[\"Charged Off\"].value_counts(normalize=True)"
   ]
  },
  {
   "cell_type": "markdown",
   "metadata": {},
   "source": [
    "- The class imbalance for original dataset is 0.79 (negative) vs 0.20(positive), so the most accurate scale_pos_weight should be around 4, but GridSearchCV shows me 5 worked out well so I choose 5 to continue my tunning. The reason I didn't choose anything above 6 (even their F2 score were higher) is because I don't want my classes got too many positive samples versus negative cases, and I assume the ideal ratio should be balance like 1: 1."
   ]
  },
  {
   "cell_type": "code",
   "execution_count": 19,
   "metadata": {},
   "outputs": [],
   "source": [
    "#multimetric_grid_search\n",
    "#sorted(model.cv_results_.keys())"
   ]
  },
  {
   "cell_type": "markdown",
   "metadata": {},
   "source": [
    "### 2. learning rate\n",
    "\n",
    "- the use of a learning rate/shrinkage factor is a form of regularization that can greatly reduce overfitting. It typically trades off with the n_estimators and depth parameters (raising these add complexity) -- lower learning rate usually wants higher n_estimators, higher max depth usually wants lower learning rate etc."
   ]
  },
  {
   "cell_type": "code",
   "execution_count": 5,
   "metadata": {},
   "outputs": [
    {
     "ename": "NameError",
     "evalue": "name 'GridSearchCV' is not defined",
     "output_type": "error",
     "traceback": [
      "\u001b[1;31m---------------------------------------------------------------------------\u001b[0m",
      "\u001b[1;31mNameError\u001b[0m                                 Traceback (most recent call last)",
      "\u001b[1;32m<ipython-input-5-a53377c1dd78>\u001b[0m in \u001b[0;36m<module>\u001b[1;34m\u001b[0m\n\u001b[0;32m      2\u001b[0m \u001b[1;33m\u001b[0m\u001b[0m\n\u001b[0;32m      3\u001b[0m                                                \u001b[1;31m# n_estimators=100,n_jobs = -1,\u001b[0m\u001b[1;33m\u001b[0m\u001b[1;33m\u001b[0m\u001b[1;33m\u001b[0m\u001b[0m\n\u001b[1;32m----> 4\u001b[1;33m gsearch2 = GridSearchCV(estimator=XGBClassifier(eval_metric='mlogloss', \n\u001b[0m\u001b[0;32m      5\u001b[0m                                                 scale_pos_weight= 5 ),\n\u001b[0;32m      6\u001b[0m                         param_grid=param_test2, scoring = ftwo_scorer, cv=10)\n",
      "\u001b[1;31mNameError\u001b[0m: name 'GridSearchCV' is not defined"
     ]
    }
   ],
   "source": [
    "param_test2 = {\"learning_rate\" : [0.01, 0.02, 0.05, 0.06, 0.07, 0.08, 0.09, 0.1, 0.2, 0.3, 0.4, 0.5, 0.6, 0.7, 0.8, 0.9, 1]}   #[round(x,2) for i in np.linspace(start = 0.01, stop = 0.6, num = 60)]}\n",
    "\n",
    "                                               # n_estimators=100,n_jobs = -1,\n",
    "gsearch2 = GridSearchCV(estimator=XGBClassifier(eval_metric='mlogloss', \n",
    "                                                scale_pos_weight= 5 ),\n",
    "                        param_grid=param_test2, scoring = ftwo_scorer, cv=10)\n",
    "\n",
    "gsearch2.fit(X_train,y_train)\n",
    "print(gsearch2.best_params_)\n",
    "print(\"best F2 score:\", gsearch2.best_score_)"
   ]
  },
  {
   "cell_type": "code",
   "execution_count": null,
   "metadata": {},
   "outputs": [],
   "source": [
    "gsearch2.best_score_"
   ]
  },
  {
   "cell_type": "markdown",
   "metadata": {},
   "source": [
    "{'learning_rate': 0.05}  , if scale_pos_weight=5"
   ]
  },
  {
   "cell_type": "markdown",
   "metadata": {},
   "source": [
    "### 3. min_child_weight\n",
    "\n",
    "\n",
    "- Minimum sum of instance weight(hessian) needed in a child. \n",
    "- default = 1\n",
    "\n",
    "- The two subsampling parameters (_subsample and colsample_bytree_) and min_child_weight are also forms of regularization. These types of tradeoffs are part of why it typically works better to follow a **manual tuning** procedure than to try a massive grid search across different parameter combinations. That simply doesn't scale well to large datasets."
   ]
  },
  {
   "cell_type": "code",
   "execution_count": null,
   "metadata": {},
   "outputs": [],
   "source": [
    "# let's just do manual for this\n",
    "\n",
    "\n",
    "# [1, 11, 21, 31, 41, 51, 61, 71, 81, 91]"
   ]
  },
  {
   "cell_type": "code",
   "execution_count": 6,
   "metadata": {},
   "outputs": [
    {
     "ename": "NameError",
     "evalue": "name 'GridSearchCV' is not defined",
     "output_type": "error",
     "traceback": [
      "\u001b[1;31m---------------------------------------------------------------------------\u001b[0m",
      "\u001b[1;31mNameError\u001b[0m                                 Traceback (most recent call last)",
      "\u001b[1;32m<ipython-input-6-152e1b53c58f>\u001b[0m in \u001b[0;36m<module>\u001b[1;34m\u001b[0m\n\u001b[0;32m      2\u001b[0m \u001b[1;33m\u001b[0m\u001b[0m\n\u001b[0;32m      3\u001b[0m \u001b[1;33m\u001b[0m\u001b[0m\n\u001b[1;32m----> 4\u001b[1;33m gsearch3 = GridSearchCV(estimator=XGBClassifier(eval_metric='mlogloss', #n_estimators=71,\n\u001b[0m\u001b[0;32m      5\u001b[0m                                                 \u001b[0mscale_pos_weight\u001b[0m\u001b[1;33m=\u001b[0m \u001b[1;36m5\u001b[0m\u001b[1;33m,\u001b[0m\u001b[1;33m\u001b[0m\u001b[1;33m\u001b[0m\u001b[0m\n\u001b[0;32m      6\u001b[0m                                                 learning_rate = 0.05),\n",
      "\u001b[1;31mNameError\u001b[0m: name 'GridSearchCV' is not defined"
     ]
    }
   ],
   "source": [
    "param_test3 =  {\"min_child_weight\" :range(1,102,2)}\n",
    "\n",
    "                                            \n",
    "gsearch3 = GridSearchCV(estimator=XGBClassifier(eval_metric='mlogloss', #n_estimators=71,\n",
    "                                                scale_pos_weight= 5, \n",
    "                                                learning_rate = 0.05),\n",
    "                        param_grid=param_test3, scoring = ftwo_scorer, cv=10)\n",
    "\n",
    "gsearch3.fit(X_train,y_train)\n",
    "print(gsearch3.best_params_)\n",
    "print(\"best F2 score:\", gsearch3.best_score_)"
   ]
  },
  {
   "cell_type": "markdown",
   "metadata": {},
   "source": [
    "- {\"min_child_weight\" :range(1,7)} -> {'min_child_weight': 6}\n",
    "- {\"min_child_weight\" :range(1,10)} - > {'min_child_weight': 9}\n",
    "\n",
    "- {\"min_child_weight\" :range(1,100,2)}  -> {'min_child_weight': 77}"
   ]
  },
  {
   "cell_type": "markdown",
   "metadata": {},
   "source": [
    "### 4. max depth \n",
    "- usually we put : 3 to 12"
   ]
  },
  {
   "cell_type": "code",
   "execution_count": null,
   "metadata": {},
   "outputs": [],
   "source": [
    "param_test4 =  {\"max_depth\" :range(3,14,2)}\n",
    "\n",
    "                                            \n",
    "gsearch4 = GridSearchCV(estimator=XGBClassifier(eval_metric='mlogloss', \n",
    "                                                scale_pos_weight= 5, \n",
    "                                                learning_rate = 0.05, \n",
    "                                                min_child_weight = 57), #\n",
    "                        param_grid=param_test4, scoring = ftwo_scorer, cv=10)\n",
    "\n",
    "gsearch4.fit(X_train,y_train)\n",
    "print(gsearch4.best_params_)\n",
    "print(\"best F2 score:\", gsearch4.best_score_)"
   ]
  },
  {
   "cell_type": "markdown",
   "metadata": {},
   "source": [
    "## TRY on model"
   ]
  },
  {
   "cell_type": "code",
   "execution_count": 19,
   "metadata": {},
   "outputs": [],
   "source": [
    "xgb_2 = XGBClassifier(eval_metric='mlogloss',\n",
    "                      scale_pos_weight = 5,\n",
    "                      learning_rate = 0.05, \n",
    "                      min_child_weight = 57, \n",
    "                      max_depth = 5)   #\n",
    "xgb_2.fit(X_train,y_train)\n",
    "y_pred_xgb_2 = xgb_2.predict(X_test)"
   ]
  },
  {
   "cell_type": "code",
   "execution_count": 20,
   "metadata": {},
   "outputs": [
    {
     "name": "stdout",
     "output_type": "stream",
     "text": [
      "Accuracy:   0.5517164285278755\n",
      "Recall:     0.7879687345404175\n",
      "F_1:        0.41933445661331087\n",
      "F_beta2:    0.5829734280067346\n",
      "Precision:  0.2856835384008322\n",
      "confusion matrix: \n",
      "\n",
      " [[19181 19913]\n",
      " [ 2143  7964]]\n"
     ]
    }
   ],
   "source": [
    "print(\"Accuracy:  \",metrics.accuracy_score(y_test, y_pred_xgb_2 ))\n",
    "print(\"Recall:    \",metrics.recall_score(y_test, y_pred_xgb_2 ))\n",
    "print(\"F_1:       \",metrics.f1_score(y_test, y_pred_xgb_2 ))\n",
    "print(\"F_beta2:   \",metrics.fbeta_score(y_test, y_pred_xgb_2 , beta= 2))\n",
    "#print(\"F_beta3:   \",metrics.fbeta_score(y_test, y_pred_xgb_1 , beta= 3))\n",
    "print(\"Precision: \",metrics.precision_score(y_test, y_pred_xgb_2))\n",
    "\n",
    "print(\"confusion matrix: \\n\\n\", \n",
    "      confusion_matrix(y_test, y_pred_xgb_2))"
   ]
  },
  {
   "cell_type": "markdown",
   "metadata": {},
   "source": [
    "### 5. n_estimators\n",
    "\n",
    "- or just set it very big number and use \"early stopping\" to save time\n",
    "\n",
    "- This way, we can set n_estimators to a very large number and simply train until we land at a good stopping point for validation error.\n",
    "\n",
    "- (One technical problem with early stopping is that n_estimators selection can overfit to the validation data. One reasonable solution is to combine early stopping with k-fold cross validation, and use the average n_estimators across k training rounds for training a new model"
   ]
  },
  {
   "cell_type": "code",
   "execution_count": null,
   "metadata": {},
   "outputs": [],
   "source": [
    "#param_test3 = {\"n_estimators\":range(1,301,10)}\n",
    "\n",
    "                                           # n_estimators=100( default) \n",
    "#gsearch3 = GridSearchCV(estimator=XGBClassifier(eval_metric='mlogloss', scale_pos_weight= 5, learning_rate = 0.05),\n",
    "                        #param_grid=param_test3, scoring = ftwo_scorer, cv=10)\n",
    "\n",
    "#gsearch3.fit(X_train,y_train)\n",
    "#print(gsearch3.best_params_)\n",
    "#print(\"best F2 score:\", gsearch3.best_score_)"
   ]
  },
  {
   "cell_type": "code",
   "execution_count": 23,
   "metadata": {},
   "outputs": [],
   "source": [
    "xgb_3 = XGBClassifier(eval_metric='mlogloss',\n",
    "                      scale_pos_weight = 5,\n",
    "                      learning_rate = 0.05, \n",
    "                      min_child_weight = 57, \n",
    "                      max_depth = 5,\n",
    "                      n_estimators = 300) \n",
    "xgb_3.fit(X_train,y_train)\n",
    "y_pred_xgb_3 = xgb_3.predict(X_test)\n",
    "\n"
   ]
  },
  {
   "cell_type": "code",
   "execution_count": 24,
   "metadata": {},
   "outputs": [
    {
     "name": "stdout",
     "output_type": "stream",
     "text": [
      "Accuracy:   0.5866140932094877\n",
      "Recall:     0.7666963490650045\n",
      "F_1:        0.4324580740575384\n",
      "F_beta2:    0.585643459596723\n",
      "Precision:  0.3011659541391372\n",
      "confusion matrix: \n",
      "\n",
      " [[21113 17981]\n",
      " [ 2358  7749]]\n"
     ]
    }
   ],
   "source": [
    "print(\"Accuracy:  \",metrics.accuracy_score(y_test, y_pred_xgb_3 ))\n",
    "print(\"Recall:    \",metrics.recall_score(y_test, y_pred_xgb_3 ))\n",
    "print(\"F_1:       \",metrics.f1_score(y_test, y_pred_xgb_3 ))\n",
    "print(\"F_beta2:   \",metrics.fbeta_score(y_test, y_pred_xgb_3 , beta= 2))\n",
    "#print(\"F_beta3:   \",metrics.fbeta_score(y_test, y_pred_xgb_1 , beta= 3))\n",
    "print(\"Precision: \",metrics.precision_score(y_test, y_pred_xgb_3))\n",
    "\n",
    "print(\"confusion matrix: \\n\\n\", \n",
    "      confusion_matrix(y_test, y_pred_xgb_3))"
   ]
  },
  {
   "cell_type": "markdown",
   "metadata": {},
   "source": [
    "# RUN THIS "
   ]
  },
  {
   "cell_type": "code",
   "execution_count": 26,
   "metadata": {},
   "outputs": [],
   "source": [
    "#   + n_jobs = -1, ,random_state =50,  \n",
    "\n",
    "xgb_4 = XGBClassifier(eval_metric='mlogloss',\n",
    "                      scale_pos_weight = 5,\n",
    "                      learning_rate = 0.05, \n",
    "                      min_child_weight = 57, \n",
    "                      max_depth = 5 ,\n",
    "                      n_estimators = 300,   \n",
    "                      n_jobs = -1 ,random_state =50) \n",
    "xgb_4.fit(X_train,y_train)\n",
    "\n",
    "\n",
    "y_pred_xgb_4 = xgb_4.predict(X_test)"
   ]
  },
  {
   "cell_type": "code",
   "execution_count": 29,
   "metadata": {},
   "outputs": [
    {
     "name": "stdout",
     "output_type": "stream",
     "text": [
      "Accuracy:   0.5866140932094877\n",
      "Recall:     0.7666963490650045\n",
      "F_1:        0.4324580740575384\n",
      "F_beta2:    0.585643459596723\n",
      "Precision:  0.3011659541391372\n",
      "confusion matrix: \n",
      "\n",
      " [[21113 17981]\n",
      " [ 2358  7749]]\n"
     ]
    }
   ],
   "source": [
    "print(\"Accuracy:  \",metrics.accuracy_score(y_test, y_pred_xgb_4 ))\n",
    "print(\"Recall:    \",metrics.recall_score(y_test, y_pred_xgb_4 ))\n",
    "print(\"F_1:       \",metrics.f1_score(y_test, y_pred_xgb_4 ))\n",
    "print(\"F_beta2:   \",metrics.fbeta_score(y_test, y_pred_xgb_4 , beta= 2))\n",
    "#print(\"F_beta3:   \",metrics.fbeta_score(y_test, y_pred_xgb_1 , beta= 3))\n",
    "print(\"Precision: \",metrics.precision_score(y_test, y_pred_xgb_4))\n",
    "\n",
    "print(\"confusion matrix: \\n\\n\", \n",
    "      confusion_matrix(y_test, y_pred_xgb_4))"
   ]
  },
  {
   "cell_type": "markdown",
   "metadata": {},
   "source": [
    "# MUST RUN"
   ]
  },
  {
   "cell_type": "code",
   "execution_count": 34,
   "metadata": {},
   "outputs": [
    {
     "name": "stdout",
     "output_type": "stream",
     "text": [
      "Variable: term_60              Importance: 0.21960000693798065\n",
      "Variable: home_ownership_RENT  Importance: 0.1859000027179718\n",
      "Variable: inq_last_6mths       Importance: 0.06390000134706497\n",
      "Variable: delinq_2yrs          Importance: 0.04540000110864639\n",
      "Variable: revol_util           Importance: 0.04320000112056732\n",
      "Variable: addr_state_West      Importance: 0.04320000112056732\n",
      "Variable: installment          Importance: 0.04170000180602074\n",
      "Variable: home_ownership_OWN   Importance: 0.041600000113248825\n",
      "Variable: total_acc            Importance: 0.03150000050663948\n",
      "Variable: log_annual_inc       Importance: 0.030899999663233757\n",
      "Variable: loan_amnt            Importance: 0.026900000870227814\n",
      "Variable: collections_12_mths_ex_med Importance: 0.02329999953508377\n",
      "Variable: purpose_credit_card  Importance: 0.021299999207258224\n",
      "Variable: dti                  Importance: 0.019899999722838402\n",
      "Variable: log_revol_bal        Importance: 0.019500000402331352\n",
      "Variable: earliest_cr_line     Importance: 0.019200000911951065\n",
      "Variable: open_acc             Importance: 0.01889999955892563\n",
      "Variable: addr_state_NorEast   Importance: 0.01889999955892563\n",
      "Variable: pub_rec              Importance: 0.015300000086426735\n",
      "Variable: addr_state_South     Importance: 0.013799999840557575\n",
      "Variable: application_type_Joint App Importance: 0.012500000186264515\n",
      "Variable: purpose_debt_consolidation Importance: 0.012400000356137753\n",
      "Variable: chargeoff_within_12_mths Importance: 0.011500000022351742\n",
      "Variable: pub_rec_bankruptcies Importance: 0.010599999688565731\n",
      "Variable: home_ownership_OTHER Importance: 0.00930000003427267\n",
      "Variable: acc_now_delinq       Importance: 0.0\n",
      "Variable: delinq_amnt          Importance: 0.0\n"
     ]
    },
    {
     "data": {
      "image/png": "[encoded data removed]",
      "text/plain": [
       "<Figure size 432x288 with 1 Axes>"
      ]
     },
     "metadata": {},
     "output_type": "display_data"
    }
   ],
   "source": [
    "# feature importance   \n",
    "\n",
    "feature_list = list(X_train.columns)\n",
    "importances = list(xgb_4.feature_importances_)  # change model here\n",
    "feature_importances = [(feature, round(importance, 4)) for feature, importance in zip(feature_list, importances)]\n",
    "feature_importances = sorted(feature_importances, key = lambda x: x[1], reverse = True)\n",
    "[print('Variable: {:20} Importance: {}'.format(*pair)) for pair in feature_importances];\n",
    "\n",
    "plt.style.use('fivethirtyeight')\n",
    "x_values = list(range(len(importances)))\n",
    "plt.bar(x_values, importances, orientation = 'vertical')\n",
    "plt.xticks(x_values, feature_list, rotation='vertical')\n",
    "plt.ylabel('Importance'); plt.xlabel('Variable'); plt.title('Variable Importances');"
   ]
  },
  {
   "cell_type": "markdown",
   "metadata": {},
   "source": [
    "### 6.  early_stopping_rounds\n",
    "\n",
    "Instead of trying to pick n_estimators by hand or do an intensive grid search, we'll use the early stopping technique as a massive time saver. This means that we track our validation error at each update step in the training process, and halt training once validation error hasn't improved in some number of early_stopping_rounds. This way, we can set n_estimators to a very large number and simply train until we land at a good stopping point for validation error."
   ]
  },
  {
   "cell_type": "code",
   "execution_count": null,
   "metadata": {},
   "outputs": [],
   "source": [
    "STOP HERE - 6 not working # future work"
   ]
  },
  {
   "cell_type": "code",
   "execution_count": null,
   "metadata": {},
   "outputs": [],
   "source": [
    "# 6.1\n",
    "\n",
    "xgb_6_1 = XGBClassifier( n_estimators=30000,\n",
    "                       scale_pos_weight= 5, learning_rate = 0.05, \n",
    "                       min_child_weight =_________ , \n",
    "                       eval_metric='mlogloss')\n",
    "\n",
    "xgb_6_1.fit(X_train,y_train, \n",
    "          early stopping = 50)\n",
    "\n",
    "y_pred_xgb_6_1 = xgb_6_1.predict(X_test)"
   ]
  },
  {
   "cell_type": "code",
   "execution_count": null,
   "metadata": {},
   "outputs": [],
   "source": [
    "# 6.2  (early stop 50 -> 30)\n",
    "\n",
    "\n",
    "xgb_6_2 = XGBClassifier( n_estimators=30000,\n",
    "                       scale_pos_weight= 5, learning_rate = 0.05, \n",
    "                       min_child_weight =_________ , \n",
    "                       eval_metric='mlogloss')\n",
    "                      \n",
    "xgb_6_2.fit(X_train,y_train, \n",
    "          early stopping = 30)\n",
    "\n",
    "y_pred_xgb_6_2 = xgb_6_2.predict(X_test)"
   ]
  },
  {
   "cell_type": "code",
   "execution_count": null,
   "metadata": {},
   "outputs": [],
   "source": [
    "print(\"Accuracy:  \",metrics.accuracy_score(y_test, y_pred_xgb_4 ))\n",
    "print(\"Recall:    \",metrics.recall_score(y_test, y_pred_xgb_4 ))\n",
    "print(\"F_1:       \",metrics.f1_score(y_test, y_pred_xgb_4 ))\n",
    "print(\"F_beta2:   \",metrics.fbeta_score(y_test, y_pred_xgb_4 , beta= 2))\n",
    "#print(\"F_beta3:   \",metrics.fbeta_score(y_test, y_pred_xgb_1 , beta= 3))\n",
    "print(\"Precision: \",metrics.precision_score(y_test, y_pred_xgb_4))\n",
    "\n",
    "print(\"confusion matrix: \\n\\n\", \n",
    "      confusion_matrix(y_test, y_pred_xgb_4))"
   ]
  },
  {
   "cell_type": "code",
   "execution_count": null,
   "metadata": {},
   "outputs": [],
   "source": [
    "\n",
    "\n",
    "\n",
    "\n",
    "gbm = xgb.XGBClassifier( \n",
    "                        n_estimators=30000,\n",
    "                        max_depth=4,\n",
    "                        objective='binary:logistic', #new objective\n",
    "                        learning_rate=.05, \n",
    "                        subsample=.8,\n",
    "                        min_child_weight=3,\n",
    "                        colsample_bytree=.8\n",
    "                       )\n",
    "\n",
    "eval_set=[(X_train,y_train),(X_val,y_val)]\n",
    "fit_model = gbm.fit( \n",
    "                    X_train, y_train, \n",
    "                    eval_set=eval_set,\n",
    "                    eval_metric='error', #new evaluation metric: classification error (could also use AUC, e.g.)\n",
    "                    early_stopping_rounds=50,\n",
    "                    verbose=False\n",
    "                   )\n",
    "\n",
    "accuracy_score(y_test, gbm.predict(X_test, ntree_limit=gbm.best_ntree_limit)) "
   ]
  },
  {
   "cell_type": "markdown",
   "metadata": {},
   "source": [
    "###  7.  subsample & colsample_by tree\n",
    "\n",
    "subsample: row subsampling rate (similar to RF)\n",
    "colsample_bytree: feature subsampling rate (similar to RF)"
   ]
  },
  {
   "cell_type": "code",
   "execution_count": 7,
   "metadata": {},
   "outputs": [
    {
     "ename": "NameError",
     "evalue": "name 'XGBClassifier' is not defined",
     "output_type": "error",
     "traceback": [
      "\u001b[1;31m---------------------------------------------------------------------------\u001b[0m",
      "\u001b[1;31mNameError\u001b[0m                                 Traceback (most recent call last)",
      "\u001b[1;32m<ipython-input-7-88c0a0de9b58>\u001b[0m in \u001b[0;36m<module>\u001b[1;34m\u001b[0m\n\u001b[0;32m      2\u001b[0m \u001b[1;33m\u001b[0m\u001b[0m\n\u001b[0;32m      3\u001b[0m \u001b[1;33m\u001b[0m\u001b[0m\n\u001b[1;32m----> 4\u001b[1;33m xgb_5 = XGBClassifier(eval_metric='mlogloss',\n\u001b[0m\u001b[0;32m      5\u001b[0m                       \u001b[0mscale_pos_weight\u001b[0m \u001b[1;33m=\u001b[0m \u001b[1;36m5\u001b[0m\u001b[1;33m,\u001b[0m\u001b[1;33m\u001b[0m\u001b[1;33m\u001b[0m\u001b[0m\n\u001b[0;32m      6\u001b[0m                       \u001b[0mlearning_rate\u001b[0m \u001b[1;33m=\u001b[0m \u001b[1;36m0.05\u001b[0m\u001b[1;33m,\u001b[0m\u001b[1;33m\u001b[0m\u001b[1;33m\u001b[0m\u001b[0m\n",
      "\u001b[1;31mNameError\u001b[0m: name 'XGBClassifier' is not defined"
     ]
    }
   ],
   "source": [
    "\n",
    "# tune it if i have time\n",
    "\n",
    "\n",
    "xgb_5 = XGBClassifier(eval_metric='mlogloss',\n",
    "                      scale_pos_weight = 5,\n",
    "                      learning_rate = 0.05, \n",
    "                      min_child_weight = 57, \n",
    "                      max_depth = 5 ,\n",
    "                      n_estimators = 300,   \n",
    "                      n_jobs = -1 ,random_state =50,\n",
    "                     subsample = 0.5) \n",
    "xgb_5.fit(X_train,y_train)\n",
    "\n",
    "\n",
    "y_pred_xgb_5 = xgb_5.predict(X_test)\n",
    "\n",
    "print(\"F_beta2:   \",metrics.fbeta_score(y_test, y_pred_xgb_5 , beta= 2))"
   ]
  },
  {
   "cell_type": "markdown",
   "metadata": {},
   "source": [
    "# Secret Recipe\n",
    "\n",
    "#### 10k data\n",
    "- {'scale_pos_weight': 5}\n",
    "- {'learning_rate': 0.02}\n",
    "- {'n_estimators': 71}\n",
    "- {'min_child_weight': 3}\n",
    "\n",
    "scale_pos_weight= 5, learning_rate = 0.05, \n",
    "                       min_child_weight =_________ , \n",
    "                       n_jobs = -1, ,random_state =50, eval_metric='m\n",
    "                       \n",
    "#### 100k data\n",
    "\n",
    "#### MUST tune\n",
    "learning rate,  early stopping \n",
    "XGB tune - Brian  (exercise: follow recipe!) notebook\n",
    "\n",
    "\n",
    "\n"
   ]
  },
  {
   "cell_type": "code",
   "execution_count": null,
   "metadata": {},
   "outputs": [],
   "source": [
    "# TA: can i save this recipe one by one and run itself? \n",
    "\n",
    "# can save in dict  # but still not good - hypermeters interaction exist in XGB"
   ]
  },
  {
   "cell_type": "markdown",
   "metadata": {},
   "source": [
    "# SHOW TIME! check if Fin Pro helps\n",
    "\n",
    "- compare our current best model score with and without Fin Pro features\n"
   ]
  },
  {
   "cell_type": "code",
   "execution_count": 11,
   "metadata": {},
   "outputs": [
    {
     "data": {
      "text/html": [
       "<div>\n",
       "<style scoped>\n",
       "    .dataframe tbody tr th:only-of-type {\n",
       "        vertical-align: middle;\n",
       "    }\n",
       "\n",
       "    .dataframe tbody tr th {\n",
       "        vertical-align: top;\n",
       "    }\n",
       "\n",
       "    .dataframe thead th {\n",
       "        text-align: right;\n",
       "    }\n",
       "</style>\n",
       "<table border=\"1\" class=\"dataframe\">\n",
       "  <thead>\n",
       "    <tr style=\"text-align: right;\">\n",
       "      <th></th>\n",
       "      <th>int_rate</th>\n",
       "      <th>sub_grade</th>\n",
       "      <th>fico_score</th>\n",
       "      <th>last_fico_score</th>\n",
       "    </tr>\n",
       "  </thead>\n",
       "  <tbody>\n",
       "    <tr>\n",
       "      <th>0</th>\n",
       "      <td>23.87</td>\n",
       "      <td>E2</td>\n",
       "      <td>662.0</td>\n",
       "      <td>717.0</td>\n",
       "    </tr>\n",
       "    <tr>\n",
       "      <th>1</th>\n",
       "      <td>14.07</td>\n",
       "      <td>C3</td>\n",
       "      <td>692.0</td>\n",
       "      <td>542.0</td>\n",
       "    </tr>\n",
       "    <tr>\n",
       "      <th>2</th>\n",
       "      <td>11.98</td>\n",
       "      <td>B5</td>\n",
       "      <td>697.0</td>\n",
       "      <td>707.0</td>\n",
       "    </tr>\n",
       "    <tr>\n",
       "      <th>3</th>\n",
       "      <td>20.39</td>\n",
       "      <td>D4</td>\n",
       "      <td>667.0</td>\n",
       "      <td>592.0</td>\n",
       "    </tr>\n",
       "    <tr>\n",
       "      <th>4</th>\n",
       "      <td>9.43</td>\n",
       "      <td>B1</td>\n",
       "      <td>732.0</td>\n",
       "      <td>777.0</td>\n",
       "    </tr>\n",
       "  </tbody>\n",
       "</table>\n",
       "</div>"
      ],
      "text/plain": [
       "   int_rate sub_grade  fico_score  last_fico_score\n",
       "0     23.87        E2       662.0            717.0\n",
       "1     14.07        C3       692.0            542.0\n",
       "2     11.98        B5       697.0            707.0\n",
       "3     20.39        D4       667.0            592.0\n",
       "4      9.43        B1       732.0            777.0"
      ]
     },
     "execution_count": 11,
     "metadata": {},
     "output_type": "execute_result"
    }
   ],
   "source": [
    "# fin pro df\n",
    "#data = pd.read_csv('data/loan_2018_2020_final_dummies.csv',index_col=0) \n",
    "#data.head()\n",
    "\n",
    "df_fin_pro = pd.read_csv('data/loan_2018_2020_FinPro.csv',index_col=0) \n",
    "df_fin_pro.head()"
   ]
  },
  {
   "cell_type": "code",
   "execution_count": 9,
   "metadata": {},
   "outputs": [
    {
     "data": {
      "text/plain": [
       "Index(['int_rate', 'sub_grade', 'fico_score', 'last_fico_score'], dtype='object')"
      ]
     },
     "execution_count": 9,
     "metadata": {},
     "output_type": "execute_result"
    }
   ],
   "source": [
    "df_fin_pro.columns"
   ]
  },
  {
   "cell_type": "code",
   "execution_count": 12,
   "metadata": {},
   "outputs": [
    {
     "data": {
      "text/html": [
       "<div>\n",
       "<style scoped>\n",
       "    .dataframe tbody tr th:only-of-type {\n",
       "        vertical-align: middle;\n",
       "    }\n",
       "\n",
       "    .dataframe tbody tr th {\n",
       "        vertical-align: top;\n",
       "    }\n",
       "\n",
       "    .dataframe thead th {\n",
       "        text-align: right;\n",
       "    }\n",
       "</style>\n",
       "<table border=\"1\" class=\"dataframe\">\n",
       "  <thead>\n",
       "    <tr style=\"text-align: right;\">\n",
       "      <th></th>\n",
       "      <th>int_rate</th>\n",
       "      <th>fico_score</th>\n",
       "      <th>last_fico_score</th>\n",
       "      <th>sub_grade_A2</th>\n",
       "      <th>sub_grade_A3</th>\n",
       "      <th>sub_grade_A4</th>\n",
       "      <th>sub_grade_A5</th>\n",
       "      <th>sub_grade_B1</th>\n",
       "      <th>sub_grade_B2</th>\n",
       "      <th>sub_grade_B3</th>\n",
       "      <th>...</th>\n",
       "      <th>sub_grade_F1</th>\n",
       "      <th>sub_grade_F2</th>\n",
       "      <th>sub_grade_F3</th>\n",
       "      <th>sub_grade_F4</th>\n",
       "      <th>sub_grade_F5</th>\n",
       "      <th>sub_grade_G1</th>\n",
       "      <th>sub_grade_G2</th>\n",
       "      <th>sub_grade_G3</th>\n",
       "      <th>sub_grade_G4</th>\n",
       "      <th>sub_grade_G5</th>\n",
       "    </tr>\n",
       "  </thead>\n",
       "  <tbody>\n",
       "    <tr>\n",
       "      <th>0</th>\n",
       "      <td>23.87</td>\n",
       "      <td>662.0</td>\n",
       "      <td>717.0</td>\n",
       "      <td>0</td>\n",
       "      <td>0</td>\n",
       "      <td>0</td>\n",
       "      <td>0</td>\n",
       "      <td>0</td>\n",
       "      <td>0</td>\n",
       "      <td>0</td>\n",
       "      <td>...</td>\n",
       "      <td>0</td>\n",
       "      <td>0</td>\n",
       "      <td>0</td>\n",
       "      <td>0</td>\n",
       "      <td>0</td>\n",
       "      <td>0</td>\n",
       "      <td>0</td>\n",
       "      <td>0</td>\n",
       "      <td>0</td>\n",
       "      <td>0</td>\n",
       "    </tr>\n",
       "    <tr>\n",
       "      <th>1</th>\n",
       "      <td>14.07</td>\n",
       "      <td>692.0</td>\n",
       "      <td>542.0</td>\n",
       "      <td>0</td>\n",
       "      <td>0</td>\n",
       "      <td>0</td>\n",
       "      <td>0</td>\n",
       "      <td>0</td>\n",
       "      <td>0</td>\n",
       "      <td>0</td>\n",
       "      <td>...</td>\n",
       "      <td>0</td>\n",
       "      <td>0</td>\n",
       "      <td>0</td>\n",
       "      <td>0</td>\n",
       "      <td>0</td>\n",
       "      <td>0</td>\n",
       "      <td>0</td>\n",
       "      <td>0</td>\n",
       "      <td>0</td>\n",
       "      <td>0</td>\n",
       "    </tr>\n",
       "    <tr>\n",
       "      <th>2</th>\n",
       "      <td>11.98</td>\n",
       "      <td>697.0</td>\n",
       "      <td>707.0</td>\n",
       "      <td>0</td>\n",
       "      <td>0</td>\n",
       "      <td>0</td>\n",
       "      <td>0</td>\n",
       "      <td>0</td>\n",
       "      <td>0</td>\n",
       "      <td>0</td>\n",
       "      <td>...</td>\n",
       "      <td>0</td>\n",
       "      <td>0</td>\n",
       "      <td>0</td>\n",
       "      <td>0</td>\n",
       "      <td>0</td>\n",
       "      <td>0</td>\n",
       "      <td>0</td>\n",
       "      <td>0</td>\n",
       "      <td>0</td>\n",
       "      <td>0</td>\n",
       "    </tr>\n",
       "    <tr>\n",
       "      <th>3</th>\n",
       "      <td>20.39</td>\n",
       "      <td>667.0</td>\n",
       "      <td>592.0</td>\n",
       "      <td>0</td>\n",
       "      <td>0</td>\n",
       "      <td>0</td>\n",
       "      <td>0</td>\n",
       "      <td>0</td>\n",
       "      <td>0</td>\n",
       "      <td>0</td>\n",
       "      <td>...</td>\n",
       "      <td>0</td>\n",
       "      <td>0</td>\n",
       "      <td>0</td>\n",
       "      <td>0</td>\n",
       "      <td>0</td>\n",
       "      <td>0</td>\n",
       "      <td>0</td>\n",
       "      <td>0</td>\n",
       "      <td>0</td>\n",
       "      <td>0</td>\n",
       "    </tr>\n",
       "    <tr>\n",
       "      <th>4</th>\n",
       "      <td>9.43</td>\n",
       "      <td>732.0</td>\n",
       "      <td>777.0</td>\n",
       "      <td>0</td>\n",
       "      <td>0</td>\n",
       "      <td>0</td>\n",
       "      <td>0</td>\n",
       "      <td>1</td>\n",
       "      <td>0</td>\n",
       "      <td>0</td>\n",
       "      <td>...</td>\n",
       "      <td>0</td>\n",
       "      <td>0</td>\n",
       "      <td>0</td>\n",
       "      <td>0</td>\n",
       "      <td>0</td>\n",
       "      <td>0</td>\n",
       "      <td>0</td>\n",
       "      <td>0</td>\n",
       "      <td>0</td>\n",
       "      <td>0</td>\n",
       "    </tr>\n",
       "  </tbody>\n",
       "</table>\n",
       "<p>5 rows × 37 columns</p>\n",
       "</div>"
      ],
      "text/plain": [
       "   int_rate  fico_score  last_fico_score  sub_grade_A2  sub_grade_A3  \\\n",
       "0     23.87       662.0            717.0             0             0   \n",
       "1     14.07       692.0            542.0             0             0   \n",
       "2     11.98       697.0            707.0             0             0   \n",
       "3     20.39       667.0            592.0             0             0   \n",
       "4      9.43       732.0            777.0             0             0   \n",
       "\n",
       "   sub_grade_A4  sub_grade_A5  sub_grade_B1  sub_grade_B2  sub_grade_B3  ...  \\\n",
       "0             0             0             0             0             0  ...   \n",
       "1             0             0             0             0             0  ...   \n",
       "2             0             0             0             0             0  ...   \n",
       "3             0             0             0             0             0  ...   \n",
       "4             0             0             1             0             0  ...   \n",
       "\n",
       "   sub_grade_F1  sub_grade_F2  sub_grade_F3  sub_grade_F4  sub_grade_F5  \\\n",
       "0             0             0             0             0             0   \n",
       "1             0             0             0             0             0   \n",
       "2             0             0             0             0             0   \n",
       "3             0             0             0             0             0   \n",
       "4             0             0             0             0             0   \n",
       "\n",
       "   sub_grade_G1  sub_grade_G2  sub_grade_G3  sub_grade_G4  sub_grade_G5  \n",
       "0             0             0             0             0             0  \n",
       "1             0             0             0             0             0  \n",
       "2             0             0             0             0             0  \n",
       "3             0             0             0             0             0  \n",
       "4             0             0             0             0             0  \n",
       "\n",
       "[5 rows x 37 columns]"
      ]
     },
     "execution_count": 12,
     "metadata": {},
     "output_type": "execute_result"
    }
   ],
   "source": [
    "fin_dummies = pd.get_dummies(df_fin_pro, columns=['sub_grade'], drop_first=True)\n",
    "fin_dummies.head()"
   ]
  },
  {
   "cell_type": "code",
   "execution_count": 15,
   "metadata": {},
   "outputs": [],
   "source": [
    "all_data = data.merge(fin_dummies, left_index=True, right_index=True)"
   ]
  },
  {
   "cell_type": "code",
   "execution_count": null,
   "metadata": {},
   "outputs": [],
   "source": [
    "X1 = all_data.iloc[:, 1:]                \n",
    "y1 = all_data['Charged Off']\n",
    "\n",
    "X_tr, X_te, y_tr, y_te = train_test_split(X1, y1, test_size = 0.2, random_state = 10)\n"
   ]
  },
  {
   "cell_type": "code",
   "execution_count": null,
   "metadata": {},
   "outputs": [],
   "source": [
    "\n",
    "\n",
    "\n"
   ]
  },
  {
   "cell_type": "code",
   "execution_count": null,
   "metadata": {},
   "outputs": [],
   "source": []
  },
  {
   "cell_type": "code",
   "execution_count": null,
   "metadata": {},
   "outputs": [],
   "source": []
  },
  {
   "cell_type": "code",
   "execution_count": null,
   "metadata": {},
   "outputs": [],
   "source": []
  },
  {
   "cell_type": "code",
   "execution_count": null,
   "metadata": {},
   "outputs": [],
   "source": []
  },
  {
   "cell_type": "code",
   "execution_count": null,
   "metadata": {},
   "outputs": [],
   "source": []
  },
  {
   "cell_type": "code",
   "execution_count": null,
   "metadata": {},
   "outputs": [],
   "source": []
  },
  {
   "cell_type": "code",
   "execution_count": null,
   "metadata": {},
   "outputs": [],
   "source": []
  },
  {
   "cell_type": "code",
   "execution_count": null,
   "metadata": {},
   "outputs": [],
   "source": []
  },
  {
   "cell_type": "code",
   "execution_count": null,
   "metadata": {},
   "outputs": [],
   "source": []
  }
 ],
 "metadata": {
  "kernelspec": {
   "display_name": "Python 3",
   "language": "python",
   "name": "python3"
  },
  "language_info": {
   "codemirror_mode": {
    "name": "ipython",
    "version": 3
   },
   "file_extension": ".py",
   "mimetype": "text/x-python",
   "name": "python",
   "nbconvert_exporter": "python",
   "pygments_lexer": "ipython3",
   "version": "3.8.8"
  }
 },
 "nbformat": 4,
 "nbformat_minor": 4
}
