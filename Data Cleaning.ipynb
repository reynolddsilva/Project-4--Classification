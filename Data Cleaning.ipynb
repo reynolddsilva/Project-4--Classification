{
 "cells": [
  {
   "cell_type": "code",
   "execution_count": 1,
   "metadata": {},
   "outputs": [],
   "source": [
    "import pandas as pd\n",
    "import numpy as np\n",
    "\n",
    "# import random as rnd\n",
    "# import scipy as sp\n",
    "\n",
    "import seaborn as sns\n",
    "import matplotlib.pyplot as plt\n",
    "%matplotlib inline\n",
    "\n",
    "from sklearn.model_selection import train_test_split\n",
    "from sklearn.linear_model import LogisticRegression "
   ]
  },
  {
   "cell_type": "markdown",
   "metadata": {},
   "source": [
    "## 0. Project Guide\n",
    "\n",
    "https://github.com/thisismetis/NBM_Classification_Student/blob/main/curriculum/classification-workflow/classification-workflow.md\n",
    "\n",
    "https://github.com/thisismetis/NBM_Classification_Student/blob/main/curriculum/project-introduction/project_success_guide.md\n",
    "    \n",
    "https://github.com/thisismetis/NBM_Classification_Student/blob/main/curriculum/project-introduction/project_intro.md"
   ]
  },
  {
   "cell_type": "markdown",
   "metadata": {},
   "source": [
    "## 1. Load data & cleaning"
   ]
  },
  {
   "cell_type": "code",
   "execution_count": 2,
   "metadata": {},
   "outputs": [
    {
     "ename": "FileNotFoundError",
     "evalue": "[Errno 2] No such file or directory: 'data/Loan_status_2007-2020Q3.gzip'",
     "output_type": "error",
     "traceback": [
      "\u001b[1;31m---------------------------------------------------------------------------\u001b[0m",
      "\u001b[1;31mFileNotFoundError\u001b[0m                         Traceback (most recent call last)",
      "\u001b[1;32m<ipython-input-2-32cbe02df89a>\u001b[0m in \u001b[0;36m<module>\u001b[1;34m\u001b[0m\n\u001b[1;32m----> 1\u001b[1;33m \u001b[0mloans\u001b[0m \u001b[1;33m=\u001b[0m \u001b[0mpd\u001b[0m\u001b[1;33m.\u001b[0m\u001b[0mread_csv\u001b[0m\u001b[1;33m(\u001b[0m\u001b[1;34m'data/Loan_status_2007-2020Q3.gzip'\u001b[0m\u001b[1;33m)\u001b[0m  \u001b[1;31m# , low_memory=False)\u001b[0m\u001b[1;33m\u001b[0m\u001b[1;33m\u001b[0m\u001b[0m\n\u001b[0m\u001b[0;32m      2\u001b[0m \u001b[1;31m# pd.read_csv('directory/ csv stored file name')\u001b[0m\u001b[1;33m\u001b[0m\u001b[1;33m\u001b[0m\u001b[1;33m\u001b[0m\u001b[0m\n\u001b[0;32m      3\u001b[0m \u001b[1;33m\u001b[0m\u001b[0m\n\u001b[0;32m      4\u001b[0m \u001b[1;31m# Ignore DtypeWarnings from pandas' read_csv\u001b[0m\u001b[1;33m\u001b[0m\u001b[1;33m\u001b[0m\u001b[1;33m\u001b[0m\u001b[0m\n\u001b[0;32m      5\u001b[0m \u001b[1;31m#warnings.filterwarnings('ignore', message=\"^Columns.*\")\u001b[0m\u001b[1;33m\u001b[0m\u001b[1;33m\u001b[0m\u001b[1;33m\u001b[0m\u001b[0m\n",
      "\u001b[1;32m~\\anaconda3\\lib\\site-packages\\pandas\\io\\parsers.py\u001b[0m in \u001b[0;36mread_csv\u001b[1;34m(filepath_or_buffer, sep, delimiter, header, names, index_col, usecols, squeeze, prefix, mangle_dupe_cols, dtype, engine, converters, true_values, false_values, skipinitialspace, skiprows, skipfooter, nrows, na_values, keep_default_na, na_filter, verbose, skip_blank_lines, parse_dates, infer_datetime_format, keep_date_col, date_parser, dayfirst, cache_dates, iterator, chunksize, compression, thousands, decimal, lineterminator, quotechar, quoting, doublequote, escapechar, comment, encoding, dialect, error_bad_lines, warn_bad_lines, delim_whitespace, low_memory, memory_map, float_precision, storage_options)\u001b[0m\n\u001b[0;32m    608\u001b[0m     \u001b[0mkwds\u001b[0m\u001b[1;33m.\u001b[0m\u001b[0mupdate\u001b[0m\u001b[1;33m(\u001b[0m\u001b[0mkwds_defaults\u001b[0m\u001b[1;33m)\u001b[0m\u001b[1;33m\u001b[0m\u001b[1;33m\u001b[0m\u001b[0m\n\u001b[0;32m    609\u001b[0m \u001b[1;33m\u001b[0m\u001b[0m\n\u001b[1;32m--> 610\u001b[1;33m     \u001b[1;32mreturn\u001b[0m \u001b[0m_read\u001b[0m\u001b[1;33m(\u001b[0m\u001b[0mfilepath_or_buffer\u001b[0m\u001b[1;33m,\u001b[0m \u001b[0mkwds\u001b[0m\u001b[1;33m)\u001b[0m\u001b[1;33m\u001b[0m\u001b[1;33m\u001b[0m\u001b[0m\n\u001b[0m\u001b[0;32m    611\u001b[0m \u001b[1;33m\u001b[0m\u001b[0m\n\u001b[0;32m    612\u001b[0m \u001b[1;33m\u001b[0m\u001b[0m\n",
      "\u001b[1;32m~\\anaconda3\\lib\\site-packages\\pandas\\io\\parsers.py\u001b[0m in \u001b[0;36m_read\u001b[1;34m(filepath_or_buffer, kwds)\u001b[0m\n\u001b[0;32m    460\u001b[0m \u001b[1;33m\u001b[0m\u001b[0m\n\u001b[0;32m    461\u001b[0m     \u001b[1;31m# Create the parser.\u001b[0m\u001b[1;33m\u001b[0m\u001b[1;33m\u001b[0m\u001b[1;33m\u001b[0m\u001b[0m\n\u001b[1;32m--> 462\u001b[1;33m     \u001b[0mparser\u001b[0m \u001b[1;33m=\u001b[0m \u001b[0mTextFileReader\u001b[0m\u001b[1;33m(\u001b[0m\u001b[0mfilepath_or_buffer\u001b[0m\u001b[1;33m,\u001b[0m \u001b[1;33m**\u001b[0m\u001b[0mkwds\u001b[0m\u001b[1;33m)\u001b[0m\u001b[1;33m\u001b[0m\u001b[1;33m\u001b[0m\u001b[0m\n\u001b[0m\u001b[0;32m    463\u001b[0m \u001b[1;33m\u001b[0m\u001b[0m\n\u001b[0;32m    464\u001b[0m     \u001b[1;32mif\u001b[0m \u001b[0mchunksize\u001b[0m \u001b[1;32mor\u001b[0m \u001b[0miterator\u001b[0m\u001b[1;33m:\u001b[0m\u001b[1;33m\u001b[0m\u001b[1;33m\u001b[0m\u001b[0m\n",
      "\u001b[1;32m~\\anaconda3\\lib\\site-packages\\pandas\\io\\parsers.py\u001b[0m in \u001b[0;36m__init__\u001b[1;34m(self, f, engine, **kwds)\u001b[0m\n\u001b[0;32m    817\u001b[0m             \u001b[0mself\u001b[0m\u001b[1;33m.\u001b[0m\u001b[0moptions\u001b[0m\u001b[1;33m[\u001b[0m\u001b[1;34m\"has_index_names\"\u001b[0m\u001b[1;33m]\u001b[0m \u001b[1;33m=\u001b[0m \u001b[0mkwds\u001b[0m\u001b[1;33m[\u001b[0m\u001b[1;34m\"has_index_names\"\u001b[0m\u001b[1;33m]\u001b[0m\u001b[1;33m\u001b[0m\u001b[1;33m\u001b[0m\u001b[0m\n\u001b[0;32m    818\u001b[0m \u001b[1;33m\u001b[0m\u001b[0m\n\u001b[1;32m--> 819\u001b[1;33m         \u001b[0mself\u001b[0m\u001b[1;33m.\u001b[0m\u001b[0m_engine\u001b[0m \u001b[1;33m=\u001b[0m \u001b[0mself\u001b[0m\u001b[1;33m.\u001b[0m\u001b[0m_make_engine\u001b[0m\u001b[1;33m(\u001b[0m\u001b[0mself\u001b[0m\u001b[1;33m.\u001b[0m\u001b[0mengine\u001b[0m\u001b[1;33m)\u001b[0m\u001b[1;33m\u001b[0m\u001b[1;33m\u001b[0m\u001b[0m\n\u001b[0m\u001b[0;32m    820\u001b[0m \u001b[1;33m\u001b[0m\u001b[0m\n\u001b[0;32m    821\u001b[0m     \u001b[1;32mdef\u001b[0m \u001b[0mclose\u001b[0m\u001b[1;33m(\u001b[0m\u001b[0mself\u001b[0m\u001b[1;33m)\u001b[0m\u001b[1;33m:\u001b[0m\u001b[1;33m\u001b[0m\u001b[1;33m\u001b[0m\u001b[0m\n",
      "\u001b[1;32m~\\anaconda3\\lib\\site-packages\\pandas\\io\\parsers.py\u001b[0m in \u001b[0;36m_make_engine\u001b[1;34m(self, engine)\u001b[0m\n\u001b[0;32m   1048\u001b[0m             )\n\u001b[0;32m   1049\u001b[0m         \u001b[1;31m# error: Too many arguments for \"ParserBase\"\u001b[0m\u001b[1;33m\u001b[0m\u001b[1;33m\u001b[0m\u001b[1;33m\u001b[0m\u001b[0m\n\u001b[1;32m-> 1050\u001b[1;33m         \u001b[1;32mreturn\u001b[0m \u001b[0mmapping\u001b[0m\u001b[1;33m[\u001b[0m\u001b[0mengine\u001b[0m\u001b[1;33m]\u001b[0m\u001b[1;33m(\u001b[0m\u001b[0mself\u001b[0m\u001b[1;33m.\u001b[0m\u001b[0mf\u001b[0m\u001b[1;33m,\u001b[0m \u001b[1;33m**\u001b[0m\u001b[0mself\u001b[0m\u001b[1;33m.\u001b[0m\u001b[0moptions\u001b[0m\u001b[1;33m)\u001b[0m  \u001b[1;31m# type: ignore[call-arg]\u001b[0m\u001b[1;33m\u001b[0m\u001b[1;33m\u001b[0m\u001b[0m\n\u001b[0m\u001b[0;32m   1051\u001b[0m \u001b[1;33m\u001b[0m\u001b[0m\n\u001b[0;32m   1052\u001b[0m     \u001b[1;32mdef\u001b[0m \u001b[0m_failover_to_python\u001b[0m\u001b[1;33m(\u001b[0m\u001b[0mself\u001b[0m\u001b[1;33m)\u001b[0m\u001b[1;33m:\u001b[0m\u001b[1;33m\u001b[0m\u001b[1;33m\u001b[0m\u001b[0m\n",
      "\u001b[1;32m~\\anaconda3\\lib\\site-packages\\pandas\\io\\parsers.py\u001b[0m in \u001b[0;36m__init__\u001b[1;34m(self, src, **kwds)\u001b[0m\n\u001b[0;32m   1865\u001b[0m \u001b[1;33m\u001b[0m\u001b[0m\n\u001b[0;32m   1866\u001b[0m         \u001b[1;31m# open handles\u001b[0m\u001b[1;33m\u001b[0m\u001b[1;33m\u001b[0m\u001b[1;33m\u001b[0m\u001b[0m\n\u001b[1;32m-> 1867\u001b[1;33m         \u001b[0mself\u001b[0m\u001b[1;33m.\u001b[0m\u001b[0m_open_handles\u001b[0m\u001b[1;33m(\u001b[0m\u001b[0msrc\u001b[0m\u001b[1;33m,\u001b[0m \u001b[0mkwds\u001b[0m\u001b[1;33m)\u001b[0m\u001b[1;33m\u001b[0m\u001b[1;33m\u001b[0m\u001b[0m\n\u001b[0m\u001b[0;32m   1868\u001b[0m         \u001b[1;32massert\u001b[0m \u001b[0mself\u001b[0m\u001b[1;33m.\u001b[0m\u001b[0mhandles\u001b[0m \u001b[1;32mis\u001b[0m \u001b[1;32mnot\u001b[0m \u001b[1;32mNone\u001b[0m\u001b[1;33m\u001b[0m\u001b[1;33m\u001b[0m\u001b[0m\n\u001b[0;32m   1869\u001b[0m         \u001b[1;32mfor\u001b[0m \u001b[0mkey\u001b[0m \u001b[1;32min\u001b[0m \u001b[1;33m(\u001b[0m\u001b[1;34m\"storage_options\"\u001b[0m\u001b[1;33m,\u001b[0m \u001b[1;34m\"encoding\"\u001b[0m\u001b[1;33m,\u001b[0m \u001b[1;34m\"memory_map\"\u001b[0m\u001b[1;33m,\u001b[0m \u001b[1;34m\"compression\"\u001b[0m\u001b[1;33m)\u001b[0m\u001b[1;33m:\u001b[0m\u001b[1;33m\u001b[0m\u001b[1;33m\u001b[0m\u001b[0m\n",
      "\u001b[1;32m~\\anaconda3\\lib\\site-packages\\pandas\\io\\parsers.py\u001b[0m in \u001b[0;36m_open_handles\u001b[1;34m(self, src, kwds)\u001b[0m\n\u001b[0;32m   1360\u001b[0m         \u001b[0mLet\u001b[0m \u001b[0mthe\u001b[0m \u001b[0mreaders\u001b[0m \u001b[0mopen\u001b[0m \u001b[0mIOHanldes\u001b[0m \u001b[0mafter\u001b[0m \u001b[0mthey\u001b[0m \u001b[0mare\u001b[0m \u001b[0mdone\u001b[0m \u001b[1;32mwith\u001b[0m \u001b[0mtheir\u001b[0m \u001b[0mpotential\u001b[0m \u001b[0mraises\u001b[0m\u001b[1;33m.\u001b[0m\u001b[1;33m\u001b[0m\u001b[1;33m\u001b[0m\u001b[0m\n\u001b[0;32m   1361\u001b[0m         \"\"\"\n\u001b[1;32m-> 1362\u001b[1;33m         self.handles = get_handle(\n\u001b[0m\u001b[0;32m   1363\u001b[0m             \u001b[0msrc\u001b[0m\u001b[1;33m,\u001b[0m\u001b[1;33m\u001b[0m\u001b[1;33m\u001b[0m\u001b[0m\n\u001b[0;32m   1364\u001b[0m             \u001b[1;34m\"r\"\u001b[0m\u001b[1;33m,\u001b[0m\u001b[1;33m\u001b[0m\u001b[1;33m\u001b[0m\u001b[0m\n",
      "\u001b[1;32m~\\anaconda3\\lib\\site-packages\\pandas\\io\\common.py\u001b[0m in \u001b[0;36mget_handle\u001b[1;34m(path_or_buf, mode, encoding, compression, memory_map, is_text, errors, storage_options)\u001b[0m\n\u001b[0;32m    640\u001b[0m                 \u001b[0merrors\u001b[0m \u001b[1;33m=\u001b[0m \u001b[1;34m\"replace\"\u001b[0m\u001b[1;33m\u001b[0m\u001b[1;33m\u001b[0m\u001b[0m\n\u001b[0;32m    641\u001b[0m             \u001b[1;31m# Encoding\u001b[0m\u001b[1;33m\u001b[0m\u001b[1;33m\u001b[0m\u001b[1;33m\u001b[0m\u001b[0m\n\u001b[1;32m--> 642\u001b[1;33m             handle = open(\n\u001b[0m\u001b[0;32m    643\u001b[0m                 \u001b[0mhandle\u001b[0m\u001b[1;33m,\u001b[0m\u001b[1;33m\u001b[0m\u001b[1;33m\u001b[0m\u001b[0m\n\u001b[0;32m    644\u001b[0m                 \u001b[0mioargs\u001b[0m\u001b[1;33m.\u001b[0m\u001b[0mmode\u001b[0m\u001b[1;33m,\u001b[0m\u001b[1;33m\u001b[0m\u001b[1;33m\u001b[0m\u001b[0m\n",
      "\u001b[1;31mFileNotFoundError\u001b[0m: [Errno 2] No such file or directory: 'data/Loan_status_2007-2020Q3.gzip'"
     ]
    }
   ],
   "source": [
    "loans = pd.read_csv('data/Loan_status_2007-2020Q3.gzip')  # , low_memory=False) \n",
    "# pd.read_csv('directory/ csv stored file name')\n",
    "\n",
    "# Ignore DtypeWarnings from pandas' read_csv                                                                                                                                                                                            \n",
    "#warnings.filterwarnings('ignore', message=\"^Columns.*\")"
   ]
  },
  {
   "cell_type": "code",
   "execution_count": 185,
   "metadata": {},
   "outputs": [
    {
     "data": {
      "text/html": [
       "<div>\n",
       "<style scoped>\n",
       "    .dataframe tbody tr th:only-of-type {\n",
       "        vertical-align: middle;\n",
       "    }\n",
       "\n",
       "    .dataframe tbody tr th {\n",
       "        vertical-align: top;\n",
       "    }\n",
       "\n",
       "    .dataframe thead th {\n",
       "        text-align: right;\n",
       "    }\n",
       "</style>\n",
       "<table border=\"1\" class=\"dataframe\">\n",
       "  <thead>\n",
       "    <tr style=\"text-align: right;\">\n",
       "      <th></th>\n",
       "      <th>Unnamed: 0</th>\n",
       "      <th>id</th>\n",
       "      <th>loan_amnt</th>\n",
       "      <th>funded_amnt</th>\n",
       "      <th>funded_amnt_inv</th>\n",
       "      <th>term</th>\n",
       "      <th>int_rate</th>\n",
       "      <th>installment</th>\n",
       "      <th>grade</th>\n",
       "      <th>sub_grade</th>\n",
       "      <th>...</th>\n",
       "      <th>hardship_start_date</th>\n",
       "      <th>hardship_end_date</th>\n",
       "      <th>payment_plan_start_date</th>\n",
       "      <th>hardship_length</th>\n",
       "      <th>hardship_dpd</th>\n",
       "      <th>hardship_loan_status</th>\n",
       "      <th>orig_projected_additional_accrued_interest</th>\n",
       "      <th>hardship_payoff_balance_amount</th>\n",
       "      <th>hardship_last_payment_amount</th>\n",
       "      <th>debt_settlement_flag</th>\n",
       "    </tr>\n",
       "  </thead>\n",
       "  <tbody>\n",
       "    <tr>\n",
       "      <th>0</th>\n",
       "      <td>0</td>\n",
       "      <td>1077501</td>\n",
       "      <td>5000.0</td>\n",
       "      <td>5000.0</td>\n",
       "      <td>4975.0</td>\n",
       "      <td>36 months</td>\n",
       "      <td>10.65%</td>\n",
       "      <td>162.87</td>\n",
       "      <td>B</td>\n",
       "      <td>B2</td>\n",
       "      <td>...</td>\n",
       "      <td>NaN</td>\n",
       "      <td>NaN</td>\n",
       "      <td>NaN</td>\n",
       "      <td>NaN</td>\n",
       "      <td>NaN</td>\n",
       "      <td>NaN</td>\n",
       "      <td>NaN</td>\n",
       "      <td>NaN</td>\n",
       "      <td>NaN</td>\n",
       "      <td>N</td>\n",
       "    </tr>\n",
       "    <tr>\n",
       "      <th>1</th>\n",
       "      <td>1</td>\n",
       "      <td>1077430</td>\n",
       "      <td>2500.0</td>\n",
       "      <td>2500.0</td>\n",
       "      <td>2500.0</td>\n",
       "      <td>60 months</td>\n",
       "      <td>15.27%</td>\n",
       "      <td>59.83</td>\n",
       "      <td>C</td>\n",
       "      <td>C4</td>\n",
       "      <td>...</td>\n",
       "      <td>NaN</td>\n",
       "      <td>NaN</td>\n",
       "      <td>NaN</td>\n",
       "      <td>NaN</td>\n",
       "      <td>NaN</td>\n",
       "      <td>NaN</td>\n",
       "      <td>NaN</td>\n",
       "      <td>NaN</td>\n",
       "      <td>NaN</td>\n",
       "      <td>N</td>\n",
       "    </tr>\n",
       "    <tr>\n",
       "      <th>2</th>\n",
       "      <td>2</td>\n",
       "      <td>1077175</td>\n",
       "      <td>2400.0</td>\n",
       "      <td>2400.0</td>\n",
       "      <td>2400.0</td>\n",
       "      <td>36 months</td>\n",
       "      <td>15.96%</td>\n",
       "      <td>84.33</td>\n",
       "      <td>C</td>\n",
       "      <td>C5</td>\n",
       "      <td>...</td>\n",
       "      <td>NaN</td>\n",
       "      <td>NaN</td>\n",
       "      <td>NaN</td>\n",
       "      <td>NaN</td>\n",
       "      <td>NaN</td>\n",
       "      <td>NaN</td>\n",
       "      <td>NaN</td>\n",
       "      <td>NaN</td>\n",
       "      <td>NaN</td>\n",
       "      <td>N</td>\n",
       "    </tr>\n",
       "    <tr>\n",
       "      <th>3</th>\n",
       "      <td>3</td>\n",
       "      <td>1076863</td>\n",
       "      <td>10000.0</td>\n",
       "      <td>10000.0</td>\n",
       "      <td>10000.0</td>\n",
       "      <td>36 months</td>\n",
       "      <td>13.49%</td>\n",
       "      <td>339.31</td>\n",
       "      <td>C</td>\n",
       "      <td>C1</td>\n",
       "      <td>...</td>\n",
       "      <td>NaN</td>\n",
       "      <td>NaN</td>\n",
       "      <td>NaN</td>\n",
       "      <td>NaN</td>\n",
       "      <td>NaN</td>\n",
       "      <td>NaN</td>\n",
       "      <td>NaN</td>\n",
       "      <td>NaN</td>\n",
       "      <td>NaN</td>\n",
       "      <td>N</td>\n",
       "    </tr>\n",
       "    <tr>\n",
       "      <th>4</th>\n",
       "      <td>4</td>\n",
       "      <td>1075358</td>\n",
       "      <td>3000.0</td>\n",
       "      <td>3000.0</td>\n",
       "      <td>3000.0</td>\n",
       "      <td>60 months</td>\n",
       "      <td>12.69%</td>\n",
       "      <td>67.79</td>\n",
       "      <td>B</td>\n",
       "      <td>B5</td>\n",
       "      <td>...</td>\n",
       "      <td>NaN</td>\n",
       "      <td>NaN</td>\n",
       "      <td>NaN</td>\n",
       "      <td>NaN</td>\n",
       "      <td>NaN</td>\n",
       "      <td>NaN</td>\n",
       "      <td>NaN</td>\n",
       "      <td>NaN</td>\n",
       "      <td>NaN</td>\n",
       "      <td>N</td>\n",
       "    </tr>\n",
       "  </tbody>\n",
       "</table>\n",
       "<p>5 rows × 142 columns</p>\n",
       "</div>"
      ],
      "text/plain": [
       "   Unnamed: 0       id  loan_amnt  funded_amnt  funded_amnt_inv        term  \\\n",
       "0           0  1077501     5000.0       5000.0           4975.0   36 months   \n",
       "1           1  1077430     2500.0       2500.0           2500.0   60 months   \n",
       "2           2  1077175     2400.0       2400.0           2400.0   36 months   \n",
       "3           3  1076863    10000.0      10000.0          10000.0   36 months   \n",
       "4           4  1075358     3000.0       3000.0           3000.0   60 months   \n",
       "\n",
       "  int_rate  installment grade sub_grade  ... hardship_start_date  \\\n",
       "0   10.65%       162.87     B        B2  ...                 NaN   \n",
       "1   15.27%        59.83     C        C4  ...                 NaN   \n",
       "2   15.96%        84.33     C        C5  ...                 NaN   \n",
       "3   13.49%       339.31     C        C1  ...                 NaN   \n",
       "4   12.69%        67.79     B        B5  ...                 NaN   \n",
       "\n",
       "  hardship_end_date payment_plan_start_date  hardship_length hardship_dpd  \\\n",
       "0               NaN                     NaN              NaN          NaN   \n",
       "1               NaN                     NaN              NaN          NaN   \n",
       "2               NaN                     NaN              NaN          NaN   \n",
       "3               NaN                     NaN              NaN          NaN   \n",
       "4               NaN                     NaN              NaN          NaN   \n",
       "\n",
       "  hardship_loan_status orig_projected_additional_accrued_interest  \\\n",
       "0                  NaN                                        NaN   \n",
       "1                  NaN                                        NaN   \n",
       "2                  NaN                                        NaN   \n",
       "3                  NaN                                        NaN   \n",
       "4                  NaN                                        NaN   \n",
       "\n",
       "  hardship_payoff_balance_amount hardship_last_payment_amount  \\\n",
       "0                            NaN                          NaN   \n",
       "1                            NaN                          NaN   \n",
       "2                            NaN                          NaN   \n",
       "3                            NaN                          NaN   \n",
       "4                            NaN                          NaN   \n",
       "\n",
       "  debt_settlement_flag  \n",
       "0                    N  \n",
       "1                    N  \n",
       "2                    N  \n",
       "3                    N  \n",
       "4                    N  \n",
       "\n",
       "[5 rows x 142 columns]"
      ]
     },
     "execution_count": 185,
     "metadata": {},
     "output_type": "execute_result"
    }
   ],
   "source": [
    "loans.head()"
   ]
  },
  {
   "cell_type": "code",
   "execution_count": 186,
   "metadata": {},
   "outputs": [],
   "source": [
    "del loans['Unnamed: 0']"
   ]
  },
  {
   "cell_type": "code",
   "execution_count": 187,
   "metadata": {},
   "outputs": [
    {
     "name": "stdout",
     "output_type": "stream",
     "text": [
      "<class 'pandas.core.frame.DataFrame'>\n",
      "RangeIndex: 2925493 entries, 0 to 2925492\n",
      "Columns: 141 entries, id to debt_settlement_flag\n",
      "dtypes: float64(106), object(35)\n",
      "memory usage: 3.1+ GB\n"
     ]
    },
    {
     "data": {
      "text/plain": [
       "(2925493, 141)"
      ]
     },
     "execution_count": 187,
     "metadata": {},
     "output_type": "execute_result"
    }
   ],
   "source": [
    "loans.info()\n",
    "loans.shape  #141 features"
   ]
  },
  {
   "cell_type": "markdown",
   "metadata": {},
   "source": [
    "###  1a. check features - drop or keep?\n",
    "\n",
    "-  check all columns descriptions from Loan Dictionary \n",
    "-  drop the columns and rows that have too many missing values\n",
    "-  and only keep the following columns based on the accessibility of data in the loan application.\n"
   ]
  },
  {
   "cell_type": "code",
   "execution_count": 188,
   "metadata": {},
   "outputs": [
    {
     "data": {
      "text/plain": [
       "hardship_loan_status    2782082\n",
       "hardship_reason         2781861\n",
       "hardship_status         2781858\n",
       "hardship_dpd            2781856\n",
       "hardship_type           2781855\n",
       "                         ...   \n",
       "out_prncp                     1\n",
       "initial_list_status           1\n",
       "revol_bal                     1\n",
       "fico_range_high               1\n",
       "id                            0\n",
       "Length: 141, dtype: int64"
      ]
     },
     "execution_count": 188,
     "metadata": {},
     "output_type": "execute_result"
    }
   ],
   "source": [
    "# check missing values\n",
    "loans.isnull().sum().sort_values(ascending = False)"
   ]
  },
  {
   "cell_type": "code",
   "execution_count": 189,
   "metadata": {},
   "outputs": [],
   "source": [
    "# removing missing values: drop the columns which has more than 30 % of null values\n",
    "mask = (loans.isnull().sum() > (2925493*0.3))    # 877647.9\n",
    "# mask[mask == True]  "
   ]
  },
  {
   "cell_type": "code",
   "execution_count": 190,
   "metadata": {},
   "outputs": [],
   "source": [
    "drop_missing_1  = list(mask[mask == True].index)\n",
    "loans.drop(labels = drop_missing_1 , axis = 1, inplace = True)\n"
   ]
  },
  {
   "cell_type": "code",
   "execution_count": 191,
   "metadata": {},
   "outputs": [
    {
     "data": {
      "text/plain": [
       "['annual_inc_joint',\n",
       " 'deferral_term',\n",
       " 'dti_joint',\n",
       " 'hardship_amount',\n",
       " 'hardship_dpd',\n",
       " 'hardship_end_date',\n",
       " 'hardship_last_payment_amount',\n",
       " 'hardship_length',\n",
       " 'hardship_loan_status',\n",
       " 'hardship_payoff_balance_amount',\n",
       " 'hardship_reason',\n",
       " 'hardship_start_date',\n",
       " 'hardship_status',\n",
       " 'hardship_type',\n",
       " 'il_util',\n",
       " 'mths_since_last_delinq',\n",
       " 'mths_since_last_major_derog',\n",
       " 'mths_since_last_record',\n",
       " 'mths_since_rcnt_il',\n",
       " 'mths_since_recent_bc_dlq',\n",
       " 'mths_since_recent_revol_delinq',\n",
       " 'next_pymnt_d',\n",
       " 'orig_projected_additional_accrued_interest',\n",
       " 'payment_plan_start_date',\n",
       " 'revol_bal_joint',\n",
       " 'sec_app_chargeoff_within_12_mths',\n",
       " 'sec_app_collections_12_mths_ex_med',\n",
       " 'sec_app_earliest_cr_line',\n",
       " 'sec_app_fico_range_high',\n",
       " 'sec_app_fico_range_low',\n",
       " 'sec_app_inq_last_6mths',\n",
       " 'sec_app_mort_acc',\n",
       " 'sec_app_num_rev_accts',\n",
       " 'sec_app_open_acc',\n",
       " 'sec_app_open_act_il',\n",
       " 'sec_app_revol_util',\n",
       " 'verification_status_joint']"
      ]
     },
     "execution_count": 191,
     "metadata": {},
     "output_type": "execute_result"
    }
   ],
   "source": [
    "# DROP LIST 1: missing more than 30 % \n",
    "\n",
    "sorted(drop_missing_1)"
   ]
  },
  {
   "cell_type": "code",
   "execution_count": 192,
   "metadata": {},
   "outputs": [
    {
     "data": {
      "text/plain": [
       "(2925493, 104)"
      ]
     },
     "execution_count": 192,
     "metadata": {},
     "output_type": "execute_result"
    }
   ],
   "source": [
    "loans.shape\n",
    "\n",
    "# 140 features cut down to 104\n",
    "\n",
    "# KEEP LIST: now we have 104 features\n",
    "\n",
    "# list(sorted(loans.columns)) \n"
   ]
  },
  {
   "cell_type": "markdown",
   "metadata": {},
   "source": [
    "__Check Dictionary for DROP__\n",
    "    \n",
    "    # 必drop\n",
    "\n",
    "'acc_open_past_24mths'\n",
    "'collection_recovery_fee'\n",
    "'emp_title'\n",
    "'last_credit_pull_d'\n",
    "'num_actv_rev_tl'\n",
    "'num_rev_tl_bal_gt_0'\n",
    "'open_acc_6m'\n",
    "'out_prncp_inv'\n",
    "'tax_liens'\n",
    "'total_bal_il'\n",
    "'total_cu_tl'\n",
    "'total_pymnt'\n",
    "'total_pymnt_inv'\n",
    "'url'\n",
    "\n",
    "    # not sure if I will drop\n",
    "\n",
    "'addr_state'\n",
    "'earliest_cr_line'\n",
    "'initial_list_status'\n",
    "'out_prncp_inv'\n",
    "'policy_code'\n",
    "'title'"
   ]
  },
  {
   "cell_type": "markdown",
   "metadata": {},
   "source": [
    "### 1b. start with a subset for EDA and check features -  drop more!"
   ]
  },
  {
   "cell_type": "code",
   "execution_count": 193,
   "metadata": {},
   "outputs": [
    {
     "data": {
      "text/html": [
       "<div>\n",
       "<style scoped>\n",
       "    .dataframe tbody tr th:only-of-type {\n",
       "        vertical-align: middle;\n",
       "    }\n",
       "\n",
       "    .dataframe tbody tr th {\n",
       "        vertical-align: top;\n",
       "    }\n",
       "\n",
       "    .dataframe thead th {\n",
       "        text-align: right;\n",
       "    }\n",
       "</style>\n",
       "<table border=\"1\" class=\"dataframe\">\n",
       "  <thead>\n",
       "    <tr style=\"text-align: right;\">\n",
       "      <th></th>\n",
       "      <th>id</th>\n",
       "      <th>loan_amnt</th>\n",
       "      <th>funded_amnt</th>\n",
       "      <th>funded_amnt_inv</th>\n",
       "      <th>term</th>\n",
       "      <th>int_rate</th>\n",
       "      <th>installment</th>\n",
       "      <th>grade</th>\n",
       "      <th>sub_grade</th>\n",
       "      <th>emp_title</th>\n",
       "      <th>...</th>\n",
       "      <th>pct_tl_nvr_dlq</th>\n",
       "      <th>percent_bc_gt_75</th>\n",
       "      <th>pub_rec_bankruptcies</th>\n",
       "      <th>tax_liens</th>\n",
       "      <th>tot_hi_cred_lim</th>\n",
       "      <th>total_bal_ex_mort</th>\n",
       "      <th>total_bc_limit</th>\n",
       "      <th>total_il_high_credit_limit</th>\n",
       "      <th>hardship_flag</th>\n",
       "      <th>debt_settlement_flag</th>\n",
       "    </tr>\n",
       "  </thead>\n",
       "  <tbody>\n",
       "    <tr>\n",
       "      <th>0</th>\n",
       "      <td>1077501</td>\n",
       "      <td>5000.0</td>\n",
       "      <td>5000.0</td>\n",
       "      <td>4975.0</td>\n",
       "      <td>36 months</td>\n",
       "      <td>10.65%</td>\n",
       "      <td>162.87</td>\n",
       "      <td>B</td>\n",
       "      <td>B2</td>\n",
       "      <td>NaN</td>\n",
       "      <td>...</td>\n",
       "      <td>NaN</td>\n",
       "      <td>NaN</td>\n",
       "      <td>0.0</td>\n",
       "      <td>0.0</td>\n",
       "      <td>NaN</td>\n",
       "      <td>NaN</td>\n",
       "      <td>NaN</td>\n",
       "      <td>NaN</td>\n",
       "      <td>N</td>\n",
       "      <td>N</td>\n",
       "    </tr>\n",
       "    <tr>\n",
       "      <th>1</th>\n",
       "      <td>1077430</td>\n",
       "      <td>2500.0</td>\n",
       "      <td>2500.0</td>\n",
       "      <td>2500.0</td>\n",
       "      <td>60 months</td>\n",
       "      <td>15.27%</td>\n",
       "      <td>59.83</td>\n",
       "      <td>C</td>\n",
       "      <td>C4</td>\n",
       "      <td>Ryder</td>\n",
       "      <td>...</td>\n",
       "      <td>NaN</td>\n",
       "      <td>NaN</td>\n",
       "      <td>0.0</td>\n",
       "      <td>0.0</td>\n",
       "      <td>NaN</td>\n",
       "      <td>NaN</td>\n",
       "      <td>NaN</td>\n",
       "      <td>NaN</td>\n",
       "      <td>N</td>\n",
       "      <td>N</td>\n",
       "    </tr>\n",
       "    <tr>\n",
       "      <th>2</th>\n",
       "      <td>1077175</td>\n",
       "      <td>2400.0</td>\n",
       "      <td>2400.0</td>\n",
       "      <td>2400.0</td>\n",
       "      <td>36 months</td>\n",
       "      <td>15.96%</td>\n",
       "      <td>84.33</td>\n",
       "      <td>C</td>\n",
       "      <td>C5</td>\n",
       "      <td>NaN</td>\n",
       "      <td>...</td>\n",
       "      <td>NaN</td>\n",
       "      <td>NaN</td>\n",
       "      <td>0.0</td>\n",
       "      <td>0.0</td>\n",
       "      <td>NaN</td>\n",
       "      <td>NaN</td>\n",
       "      <td>NaN</td>\n",
       "      <td>NaN</td>\n",
       "      <td>N</td>\n",
       "      <td>N</td>\n",
       "    </tr>\n",
       "    <tr>\n",
       "      <th>3</th>\n",
       "      <td>1076863</td>\n",
       "      <td>10000.0</td>\n",
       "      <td>10000.0</td>\n",
       "      <td>10000.0</td>\n",
       "      <td>36 months</td>\n",
       "      <td>13.49%</td>\n",
       "      <td>339.31</td>\n",
       "      <td>C</td>\n",
       "      <td>C1</td>\n",
       "      <td>AIR RESOURCES BOARD</td>\n",
       "      <td>...</td>\n",
       "      <td>NaN</td>\n",
       "      <td>NaN</td>\n",
       "      <td>0.0</td>\n",
       "      <td>0.0</td>\n",
       "      <td>NaN</td>\n",
       "      <td>NaN</td>\n",
       "      <td>NaN</td>\n",
       "      <td>NaN</td>\n",
       "      <td>N</td>\n",
       "      <td>N</td>\n",
       "    </tr>\n",
       "    <tr>\n",
       "      <th>4</th>\n",
       "      <td>1075358</td>\n",
       "      <td>3000.0</td>\n",
       "      <td>3000.0</td>\n",
       "      <td>3000.0</td>\n",
       "      <td>60 months</td>\n",
       "      <td>12.69%</td>\n",
       "      <td>67.79</td>\n",
       "      <td>B</td>\n",
       "      <td>B5</td>\n",
       "      <td>University Medical Group</td>\n",
       "      <td>...</td>\n",
       "      <td>NaN</td>\n",
       "      <td>NaN</td>\n",
       "      <td>0.0</td>\n",
       "      <td>0.0</td>\n",
       "      <td>NaN</td>\n",
       "      <td>NaN</td>\n",
       "      <td>NaN</td>\n",
       "      <td>NaN</td>\n",
       "      <td>N</td>\n",
       "      <td>N</td>\n",
       "    </tr>\n",
       "    <tr>\n",
       "      <th>...</th>\n",
       "      <td>...</td>\n",
       "      <td>...</td>\n",
       "      <td>...</td>\n",
       "      <td>...</td>\n",
       "      <td>...</td>\n",
       "      <td>...</td>\n",
       "      <td>...</td>\n",
       "      <td>...</td>\n",
       "      <td>...</td>\n",
       "      <td>...</td>\n",
       "      <td>...</td>\n",
       "      <td>...</td>\n",
       "      <td>...</td>\n",
       "      <td>...</td>\n",
       "      <td>...</td>\n",
       "      <td>...</td>\n",
       "      <td>...</td>\n",
       "      <td>...</td>\n",
       "      <td>...</td>\n",
       "      <td>...</td>\n",
       "      <td>...</td>\n",
       "    </tr>\n",
       "    <tr>\n",
       "      <th>495</th>\n",
       "      <td>1063602</td>\n",
       "      <td>16100.0</td>\n",
       "      <td>16100.0</td>\n",
       "      <td>16075.0</td>\n",
       "      <td>60 months</td>\n",
       "      <td>11.71%</td>\n",
       "      <td>355.79</td>\n",
       "      <td>B</td>\n",
       "      <td>B3</td>\n",
       "      <td>Akzo Nobel</td>\n",
       "      <td>...</td>\n",
       "      <td>NaN</td>\n",
       "      <td>NaN</td>\n",
       "      <td>0.0</td>\n",
       "      <td>0.0</td>\n",
       "      <td>NaN</td>\n",
       "      <td>NaN</td>\n",
       "      <td>NaN</td>\n",
       "      <td>NaN</td>\n",
       "      <td>N</td>\n",
       "      <td>N</td>\n",
       "    </tr>\n",
       "    <tr>\n",
       "      <th>496</th>\n",
       "      <td>1063393</td>\n",
       "      <td>35000.0</td>\n",
       "      <td>23250.0</td>\n",
       "      <td>23225.0</td>\n",
       "      <td>60 months</td>\n",
       "      <td>20.30%</td>\n",
       "      <td>619.88</td>\n",
       "      <td>E</td>\n",
       "      <td>E5</td>\n",
       "      <td>The Crexent Business Centers</td>\n",
       "      <td>...</td>\n",
       "      <td>NaN</td>\n",
       "      <td>NaN</td>\n",
       "      <td>0.0</td>\n",
       "      <td>0.0</td>\n",
       "      <td>NaN</td>\n",
       "      <td>NaN</td>\n",
       "      <td>NaN</td>\n",
       "      <td>NaN</td>\n",
       "      <td>N</td>\n",
       "      <td>N</td>\n",
       "    </tr>\n",
       "    <tr>\n",
       "      <th>497</th>\n",
       "      <td>1063388</td>\n",
       "      <td>10525.0</td>\n",
       "      <td>10525.0</td>\n",
       "      <td>10525.0</td>\n",
       "      <td>36 months</td>\n",
       "      <td>7.90%</td>\n",
       "      <td>329.33</td>\n",
       "      <td>A</td>\n",
       "      <td>A4</td>\n",
       "      <td>Pasadena city college</td>\n",
       "      <td>...</td>\n",
       "      <td>NaN</td>\n",
       "      <td>NaN</td>\n",
       "      <td>0.0</td>\n",
       "      <td>0.0</td>\n",
       "      <td>NaN</td>\n",
       "      <td>NaN</td>\n",
       "      <td>NaN</td>\n",
       "      <td>NaN</td>\n",
       "      <td>N</td>\n",
       "      <td>N</td>\n",
       "    </tr>\n",
       "    <tr>\n",
       "      <th>498</th>\n",
       "      <td>1063582</td>\n",
       "      <td>7200.0</td>\n",
       "      <td>7200.0</td>\n",
       "      <td>7200.0</td>\n",
       "      <td>36 months</td>\n",
       "      <td>15.96%</td>\n",
       "      <td>252.99</td>\n",
       "      <td>C</td>\n",
       "      <td>C5</td>\n",
       "      <td>Harrah's Resort</td>\n",
       "      <td>...</td>\n",
       "      <td>NaN</td>\n",
       "      <td>NaN</td>\n",
       "      <td>0.0</td>\n",
       "      <td>0.0</td>\n",
       "      <td>NaN</td>\n",
       "      <td>NaN</td>\n",
       "      <td>NaN</td>\n",
       "      <td>NaN</td>\n",
       "      <td>N</td>\n",
       "      <td>N</td>\n",
       "    </tr>\n",
       "    <tr>\n",
       "      <th>499</th>\n",
       "      <td>988402</td>\n",
       "      <td>18500.0</td>\n",
       "      <td>15775.0</td>\n",
       "      <td>15775.0</td>\n",
       "      <td>60 months</td>\n",
       "      <td>10.65%</td>\n",
       "      <td>340.24</td>\n",
       "      <td>B</td>\n",
       "      <td>B2</td>\n",
       "      <td>CNMI Government</td>\n",
       "      <td>...</td>\n",
       "      <td>NaN</td>\n",
       "      <td>NaN</td>\n",
       "      <td>0.0</td>\n",
       "      <td>0.0</td>\n",
       "      <td>NaN</td>\n",
       "      <td>NaN</td>\n",
       "      <td>NaN</td>\n",
       "      <td>NaN</td>\n",
       "      <td>N</td>\n",
       "      <td>N</td>\n",
       "    </tr>\n",
       "  </tbody>\n",
       "</table>\n",
       "<p>500 rows × 104 columns</p>\n",
       "</div>"
      ],
      "text/plain": [
       "          id  loan_amnt  funded_amnt  funded_amnt_inv        term int_rate  \\\n",
       "0    1077501     5000.0       5000.0           4975.0   36 months   10.65%   \n",
       "1    1077430     2500.0       2500.0           2500.0   60 months   15.27%   \n",
       "2    1077175     2400.0       2400.0           2400.0   36 months   15.96%   \n",
       "3    1076863    10000.0      10000.0          10000.0   36 months   13.49%   \n",
       "4    1075358     3000.0       3000.0           3000.0   60 months   12.69%   \n",
       "..       ...        ...          ...              ...         ...      ...   \n",
       "495  1063602    16100.0      16100.0          16075.0   60 months   11.71%   \n",
       "496  1063393    35000.0      23250.0          23225.0   60 months   20.30%   \n",
       "497  1063388    10525.0      10525.0          10525.0   36 months    7.90%   \n",
       "498  1063582     7200.0       7200.0           7200.0   36 months   15.96%   \n",
       "499   988402    18500.0      15775.0          15775.0   60 months   10.65%   \n",
       "\n",
       "     installment grade sub_grade                     emp_title  ...  \\\n",
       "0         162.87     B        B2                           NaN  ...   \n",
       "1          59.83     C        C4                         Ryder  ...   \n",
       "2          84.33     C        C5                           NaN  ...   \n",
       "3         339.31     C        C1           AIR RESOURCES BOARD  ...   \n",
       "4          67.79     B        B5      University Medical Group  ...   \n",
       "..           ...   ...       ...                           ...  ...   \n",
       "495       355.79     B        B3                    Akzo Nobel  ...   \n",
       "496       619.88     E        E5  The Crexent Business Centers  ...   \n",
       "497       329.33     A        A4         Pasadena city college  ...   \n",
       "498       252.99     C        C5               Harrah's Resort  ...   \n",
       "499       340.24     B        B2               CNMI Government  ...   \n",
       "\n",
       "    pct_tl_nvr_dlq percent_bc_gt_75  pub_rec_bankruptcies tax_liens  \\\n",
       "0              NaN              NaN                   0.0       0.0   \n",
       "1              NaN              NaN                   0.0       0.0   \n",
       "2              NaN              NaN                   0.0       0.0   \n",
       "3              NaN              NaN                   0.0       0.0   \n",
       "4              NaN              NaN                   0.0       0.0   \n",
       "..             ...              ...                   ...       ...   \n",
       "495            NaN              NaN                   0.0       0.0   \n",
       "496            NaN              NaN                   0.0       0.0   \n",
       "497            NaN              NaN                   0.0       0.0   \n",
       "498            NaN              NaN                   0.0       0.0   \n",
       "499            NaN              NaN                   0.0       0.0   \n",
       "\n",
       "    tot_hi_cred_lim total_bal_ex_mort total_bc_limit  \\\n",
       "0               NaN               NaN            NaN   \n",
       "1               NaN               NaN            NaN   \n",
       "2               NaN               NaN            NaN   \n",
       "3               NaN               NaN            NaN   \n",
       "4               NaN               NaN            NaN   \n",
       "..              ...               ...            ...   \n",
       "495             NaN               NaN            NaN   \n",
       "496             NaN               NaN            NaN   \n",
       "497             NaN               NaN            NaN   \n",
       "498             NaN               NaN            NaN   \n",
       "499             NaN               NaN            NaN   \n",
       "\n",
       "    total_il_high_credit_limit hardship_flag debt_settlement_flag  \n",
       "0                          NaN             N                    N  \n",
       "1                          NaN             N                    N  \n",
       "2                          NaN             N                    N  \n",
       "3                          NaN             N                    N  \n",
       "4                          NaN             N                    N  \n",
       "..                         ...           ...                  ...  \n",
       "495                        NaN             N                    N  \n",
       "496                        NaN             N                    N  \n",
       "497                        NaN             N                    N  \n",
       "498                        NaN             N                    N  \n",
       "499                        NaN             N                    N  \n",
       "\n",
       "[500 rows x 104 columns]"
      ]
     },
     "execution_count": 193,
     "metadata": {},
     "output_type": "execute_result"
    }
   ],
   "source": [
    "# 0 : set subset to do baseline -> first 500 rows\n",
    "\n",
    "subset = loans.iloc[:500,:]              \n",
    "#subset = loans.iloc[-301:-1, :]  # the last 300 rows\n",
    "subset"
   ]
  },
  {
   "cell_type": "code",
   "execution_count": 194,
   "metadata": {},
   "outputs": [],
   "source": [
    "# subset.describe()  # 79 out of 104 cols are numberic , the rest are catergorical"
   ]
  },
  {
   "cell_type": "code",
   "execution_count": 195,
   "metadata": {},
   "outputs": [
    {
     "data": {
      "text/plain": [
       "inq_last_12m             500\n",
       "mths_since_recent_bc     500\n",
       "mo_sin_rcnt_tl           500\n",
       "mo_sin_rcnt_rev_tl_op    500\n",
       "mo_sin_old_rev_tl_op     500\n",
       "                        ... \n",
       "initial_list_status        0\n",
       "total_acc                  0\n",
       "revol_util                 0\n",
       "revol_bal                  0\n",
       "id                         0\n",
       "Length: 104, dtype: int64"
      ]
     },
     "execution_count": 195,
     "metadata": {},
     "output_type": "execute_result"
    }
   ],
   "source": [
    "subset.isnull().sum().sort_values(ascending = False)"
   ]
  },
  {
   "cell_type": "code",
   "execution_count": 196,
   "metadata": {},
   "outputs": [],
   "source": [
    "# drop the columns which has lots of of null values in subset \n",
    "# theory: if they are missing ALL in a smaller set, probably likely missing most of it in the main dataset and wont be useful for modeling\n",
    "\n",
    "mask = (subset.isnull().sum() == 500)   \n",
    "#mask[mask == True]"
   ]
  },
  {
   "cell_type": "code",
   "execution_count": null,
   "metadata": {},
   "outputs": [],
   "source": [
    "\n"
   ]
  },
  {
   "cell_type": "code",
   "execution_count": 198,
   "metadata": {},
   "outputs": [
    {
     "data": {
      "text/plain": [
       "(500, 58)"
      ]
     },
     "execution_count": 198,
     "metadata": {},
     "output_type": "execute_result"
    }
   ],
   "source": [
    "subset.shape  # features numbers cut down :  104 -> 58 features"
   ]
  },
  {
   "cell_type": "code",
   "execution_count": 199,
   "metadata": {},
   "outputs": [
    {
     "data": {
      "text/plain": [
       "['acc_open_past_24mths',\n",
       " 'all_util',\n",
       " 'avg_cur_bal',\n",
       " 'bc_open_to_buy',\n",
       " 'bc_util',\n",
       " 'inq_fi',\n",
       " 'inq_last_12m',\n",
       " 'max_bal_bc',\n",
       " 'mo_sin_old_il_acct',\n",
       " 'mo_sin_old_rev_tl_op',\n",
       " 'mo_sin_rcnt_rev_tl_op',\n",
       " 'mo_sin_rcnt_tl',\n",
       " 'mort_acc',\n",
       " 'mths_since_recent_bc',\n",
       " 'mths_since_recent_inq',\n",
       " 'num_accts_ever_120_pd',\n",
       " 'num_actv_bc_tl',\n",
       " 'num_actv_rev_tl',\n",
       " 'num_bc_sats',\n",
       " 'num_bc_tl',\n",
       " 'num_il_tl',\n",
       " 'num_op_rev_tl',\n",
       " 'num_rev_accts',\n",
       " 'num_rev_tl_bal_gt_0',\n",
       " 'num_sats',\n",
       " 'num_tl_120dpd_2m',\n",
       " 'num_tl_30dpd',\n",
       " 'num_tl_90g_dpd_24m',\n",
       " 'num_tl_op_past_12m',\n",
       " 'open_acc_6m',\n",
       " 'open_act_il',\n",
       " 'open_il_12m',\n",
       " 'open_il_24m',\n",
       " 'open_rv_12m',\n",
       " 'open_rv_24m',\n",
       " 'pct_tl_nvr_dlq',\n",
       " 'percent_bc_gt_75',\n",
       " 'tot_coll_amt',\n",
       " 'tot_cur_bal',\n",
       " 'tot_hi_cred_lim',\n",
       " 'total_bal_ex_mort',\n",
       " 'total_bal_il',\n",
       " 'total_bc_limit',\n",
       " 'total_cu_tl',\n",
       " 'total_il_high_credit_limit',\n",
       " 'total_rev_hi_lim']"
      ]
     },
     "execution_count": 199,
     "metadata": {},
     "output_type": "execute_result"
    }
   ],
   "source": [
    "# DROP  LIST 2\n",
    "\n",
    "sorted(drop_missing_2)"
   ]
  },
  {
   "cell_type": "code",
   "execution_count": 200,
   "metadata": {},
   "outputs": [],
   "source": [
    "# DROP LIST 3 \n",
    "\n",
    "# Check Loan Dictionary definitions to take out less important features\n",
    "\n",
    "drop_missing_3 = ['collection_recovery_fee',\n",
    "                        'emp_title',\n",
    "                        'last_credit_pull_d',\n",
    "                        'tax_liens',\n",
    "                        'total_pymnt',\n",
    "                        'total_pymnt_inv',\n",
    "                        'url']\n",
    "\n",
    "subset.drop(labels = drop_missing_3 , axis = 1, inplace = True)\n",
    "loans.drop(labels = drop_missing_3 , axis = 1, inplace = True)"
   ]
  },
  {
   "cell_type": "code",
   "execution_count": 201,
   "metadata": {},
   "outputs": [
    {
     "data": {
      "text/plain": [
       "(2925493, 51)"
      ]
     },
     "execution_count": 201,
     "metadata": {},
     "output_type": "execute_result"
    }
   ],
   "source": [
    "loans.shape  # features numbers cut down :  58 -> 51 features"
   ]
  },
  {
   "cell_type": "code",
   "execution_count": 202,
   "metadata": {},
   "outputs": [
    {
     "data": {
      "text/plain": [
       "['acc_now_delinq',\n",
       " 'addr_state',\n",
       " 'annual_inc',\n",
       " 'application_type',\n",
       " 'chargeoff_within_12_mths',\n",
       " 'collections_12_mths_ex_med',\n",
       " 'debt_settlement_flag',\n",
       " 'delinq_2yrs',\n",
       " 'delinq_amnt',\n",
       " 'dti',\n",
       " 'earliest_cr_line',\n",
       " 'emp_length',\n",
       " 'fico_range_high',\n",
       " 'fico_range_low',\n",
       " 'funded_amnt',\n",
       " 'funded_amnt_inv',\n",
       " 'grade',\n",
       " 'hardship_flag',\n",
       " 'home_ownership',\n",
       " 'id',\n",
       " 'initial_list_status',\n",
       " 'inq_last_6mths',\n",
       " 'installment',\n",
       " 'int_rate',\n",
       " 'issue_d',\n",
       " 'last_fico_range_high',\n",
       " 'last_fico_range_low',\n",
       " 'last_pymnt_amnt',\n",
       " 'last_pymnt_d',\n",
       " 'loan_amnt',\n",
       " 'loan_status',\n",
       " 'open_acc',\n",
       " 'out_prncp',\n",
       " 'out_prncp_inv',\n",
       " 'policy_code',\n",
       " 'pub_rec',\n",
       " 'pub_rec_bankruptcies',\n",
       " 'purpose',\n",
       " 'pymnt_plan',\n",
       " 'recoveries',\n",
       " 'revol_bal',\n",
       " 'revol_util',\n",
       " 'sub_grade',\n",
       " 'term',\n",
       " 'title',\n",
       " 'total_acc',\n",
       " 'total_rec_int',\n",
       " 'total_rec_late_fee',\n",
       " 'total_rec_prncp',\n",
       " 'verification_status',\n",
       " 'zip_code']"
      ]
     },
     "execution_count": 202,
     "metadata": {},
     "output_type": "execute_result"
    }
   ],
   "source": [
    "# KEEP LIST: now we have 51 features\n",
    "\n",
    "list(sorted(loans.columns)) # loans doesnt have issue_d_month ,issue_d_year yet. That will be adding 2 more features later"
   ]
  },
  {
   "cell_type": "markdown",
   "metadata": {},
   "source": [
    "### 1d. delete the rows have many missing values\n"
   ]
  },
  {
   "cell_type": "code",
   "execution_count": 203,
   "metadata": {},
   "outputs": [
    {
     "data": {
      "text/html": [
       "<div>\n",
       "<style scoped>\n",
       "    .dataframe tbody tr th:only-of-type {\n",
       "        vertical-align: middle;\n",
       "    }\n",
       "\n",
       "    .dataframe tbody tr th {\n",
       "        vertical-align: top;\n",
       "    }\n",
       "\n",
       "    .dataframe thead th {\n",
       "        text-align: right;\n",
       "    }\n",
       "</style>\n",
       "<table border=\"1\" class=\"dataframe\">\n",
       "  <thead>\n",
       "    <tr style=\"text-align: right;\">\n",
       "      <th></th>\n",
       "      <th>id</th>\n",
       "      <th>loan_amnt</th>\n",
       "      <th>funded_amnt</th>\n",
       "      <th>funded_amnt_inv</th>\n",
       "      <th>term</th>\n",
       "      <th>int_rate</th>\n",
       "      <th>installment</th>\n",
       "      <th>grade</th>\n",
       "      <th>sub_grade</th>\n",
       "      <th>emp_length</th>\n",
       "      <th>...</th>\n",
       "      <th>last_fico_range_low</th>\n",
       "      <th>collections_12_mths_ex_med</th>\n",
       "      <th>policy_code</th>\n",
       "      <th>application_type</th>\n",
       "      <th>acc_now_delinq</th>\n",
       "      <th>chargeoff_within_12_mths</th>\n",
       "      <th>delinq_amnt</th>\n",
       "      <th>pub_rec_bankruptcies</th>\n",
       "      <th>hardship_flag</th>\n",
       "      <th>debt_settlement_flag</th>\n",
       "    </tr>\n",
       "  </thead>\n",
       "  <tbody>\n",
       "    <tr>\n",
       "      <th>26</th>\n",
       "      <td>1069800</td>\n",
       "      <td>15000.0</td>\n",
       "      <td>15000.0</td>\n",
       "      <td>8725.0</td>\n",
       "      <td>36 months</td>\n",
       "      <td>14.27%</td>\n",
       "      <td>514.64</td>\n",
       "      <td>C</td>\n",
       "      <td>C2</td>\n",
       "      <td>9 years</td>\n",
       "      <td>...</td>\n",
       "      <td>555.0</td>\n",
       "      <td>0.0</td>\n",
       "      <td>1.0</td>\n",
       "      <td>Individual</td>\n",
       "      <td>0.0</td>\n",
       "      <td>0.0</td>\n",
       "      <td>0.0</td>\n",
       "      <td>0.0</td>\n",
       "      <td>N</td>\n",
       "      <td>N</td>\n",
       "    </tr>\n",
       "    <tr>\n",
       "      <th>168</th>\n",
       "      <td>1067644</td>\n",
       "      <td>2500.0</td>\n",
       "      <td>2500.0</td>\n",
       "      <td>2500.0</td>\n",
       "      <td>36 months</td>\n",
       "      <td>7.51%</td>\n",
       "      <td>77.78</td>\n",
       "      <td>A</td>\n",
       "      <td>A3</td>\n",
       "      <td>NaN</td>\n",
       "      <td>...</td>\n",
       "      <td>605.0</td>\n",
       "      <td>0.0</td>\n",
       "      <td>1.0</td>\n",
       "      <td>Individual</td>\n",
       "      <td>0.0</td>\n",
       "      <td>0.0</td>\n",
       "      <td>0.0</td>\n",
       "      <td>0.0</td>\n",
       "      <td>N</td>\n",
       "      <td>N</td>\n",
       "    </tr>\n",
       "    <tr>\n",
       "      <th>323</th>\n",
       "      <td>1058717</td>\n",
       "      <td>18000.0</td>\n",
       "      <td>18000.0</td>\n",
       "      <td>18000.0</td>\n",
       "      <td>60 months</td>\n",
       "      <td>17.58%</td>\n",
       "      <td>452.98</td>\n",
       "      <td>D</td>\n",
       "      <td>D4</td>\n",
       "      <td>NaN</td>\n",
       "      <td>...</td>\n",
       "      <td>660.0</td>\n",
       "      <td>0.0</td>\n",
       "      <td>1.0</td>\n",
       "      <td>Individual</td>\n",
       "      <td>0.0</td>\n",
       "      <td>0.0</td>\n",
       "      <td>0.0</td>\n",
       "      <td>0.0</td>\n",
       "      <td>N</td>\n",
       "      <td>N</td>\n",
       "    </tr>\n",
       "    <tr>\n",
       "      <th>394</th>\n",
       "      <td>1064582</td>\n",
       "      <td>4000.0</td>\n",
       "      <td>4000.0</td>\n",
       "      <td>4000.0</td>\n",
       "      <td>36 months</td>\n",
       "      <td>11.71%</td>\n",
       "      <td>132.31</td>\n",
       "      <td>B</td>\n",
       "      <td>B3</td>\n",
       "      <td>NaN</td>\n",
       "      <td>...</td>\n",
       "      <td>700.0</td>\n",
       "      <td>0.0</td>\n",
       "      <td>1.0</td>\n",
       "      <td>Individual</td>\n",
       "      <td>0.0</td>\n",
       "      <td>0.0</td>\n",
       "      <td>0.0</td>\n",
       "      <td>0.0</td>\n",
       "      <td>N</td>\n",
       "      <td>N</td>\n",
       "    </tr>\n",
       "    <tr>\n",
       "      <th>422</th>\n",
       "      <td>1064366</td>\n",
       "      <td>1000.0</td>\n",
       "      <td>1000.0</td>\n",
       "      <td>1000.0</td>\n",
       "      <td>36 months</td>\n",
       "      <td>14.65%</td>\n",
       "      <td>34.50</td>\n",
       "      <td>C</td>\n",
       "      <td>C3</td>\n",
       "      <td>NaN</td>\n",
       "      <td>...</td>\n",
       "      <td>0.0</td>\n",
       "      <td>0.0</td>\n",
       "      <td>1.0</td>\n",
       "      <td>Individual</td>\n",
       "      <td>0.0</td>\n",
       "      <td>0.0</td>\n",
       "      <td>0.0</td>\n",
       "      <td>1.0</td>\n",
       "      <td>N</td>\n",
       "      <td>N</td>\n",
       "    </tr>\n",
       "    <tr>\n",
       "      <th>439</th>\n",
       "      <td>1063912</td>\n",
       "      <td>8250.0</td>\n",
       "      <td>8250.0</td>\n",
       "      <td>8250.0</td>\n",
       "      <td>36 months</td>\n",
       "      <td>7.51%</td>\n",
       "      <td>256.67</td>\n",
       "      <td>A</td>\n",
       "      <td>A3</td>\n",
       "      <td>NaN</td>\n",
       "      <td>...</td>\n",
       "      <td>615.0</td>\n",
       "      <td>0.0</td>\n",
       "      <td>1.0</td>\n",
       "      <td>Individual</td>\n",
       "      <td>0.0</td>\n",
       "      <td>0.0</td>\n",
       "      <td>0.0</td>\n",
       "      <td>0.0</td>\n",
       "      <td>N</td>\n",
       "      <td>N</td>\n",
       "    </tr>\n",
       "  </tbody>\n",
       "</table>\n",
       "<p>6 rows × 51 columns</p>\n",
       "</div>"
      ],
      "text/plain": [
       "          id  loan_amnt  funded_amnt  funded_amnt_inv        term int_rate  \\\n",
       "26   1069800    15000.0      15000.0           8725.0   36 months   14.27%   \n",
       "168  1067644     2500.0       2500.0           2500.0   36 months    7.51%   \n",
       "323  1058717    18000.0      18000.0          18000.0   60 months   17.58%   \n",
       "394  1064582     4000.0       4000.0           4000.0   36 months   11.71%   \n",
       "422  1064366     1000.0       1000.0           1000.0   36 months   14.65%   \n",
       "439  1063912     8250.0       8250.0           8250.0   36 months    7.51%   \n",
       "\n",
       "     installment grade sub_grade emp_length  ... last_fico_range_low  \\\n",
       "26        514.64     C        C2    9 years  ...               555.0   \n",
       "168        77.78     A        A3        NaN  ...               605.0   \n",
       "323       452.98     D        D4        NaN  ...               660.0   \n",
       "394       132.31     B        B3        NaN  ...               700.0   \n",
       "422        34.50     C        C3        NaN  ...                 0.0   \n",
       "439       256.67     A        A3        NaN  ...               615.0   \n",
       "\n",
       "     collections_12_mths_ex_med policy_code application_type acc_now_delinq  \\\n",
       "26                          0.0         1.0       Individual            0.0   \n",
       "168                         0.0         1.0       Individual            0.0   \n",
       "323                         0.0         1.0       Individual            0.0   \n",
       "394                         0.0         1.0       Individual            0.0   \n",
       "422                         0.0         1.0       Individual            0.0   \n",
       "439                         0.0         1.0       Individual            0.0   \n",
       "\n",
       "    chargeoff_within_12_mths delinq_amnt pub_rec_bankruptcies hardship_flag  \\\n",
       "26                       0.0         0.0                  0.0             N   \n",
       "168                      0.0         0.0                  0.0             N   \n",
       "323                      0.0         0.0                  0.0             N   \n",
       "394                      0.0         0.0                  0.0             N   \n",
       "422                      0.0         0.0                  1.0             N   \n",
       "439                      0.0         0.0                  0.0             N   \n",
       "\n",
       "    debt_settlement_flag  \n",
       "26                     N  \n",
       "168                    N  \n",
       "323                    N  \n",
       "394                    N  \n",
       "422                    N  \n",
       "439                    N  \n",
       "\n",
       "[6 rows x 51 columns]"
      ]
     },
     "execution_count": 203,
     "metadata": {},
     "output_type": "execute_result"
    }
   ],
   "source": [
    "subset[subset.isnull().any(axis=1)]"
   ]
  },
  {
   "cell_type": "code",
   "execution_count": 204,
   "metadata": {},
   "outputs": [],
   "source": [
    "# return only those rows have missing values\n",
    "\n",
    "loans = loans[~loans.isnull().any(axis=1)]"
   ]
  },
  {
   "cell_type": "code",
   "execution_count": 205,
   "metadata": {},
   "outputs": [
    {
     "data": {
      "text/plain": [
       "(2657654, 51)"
      ]
     },
     "execution_count": 205,
     "metadata": {},
     "output_type": "execute_result"
    }
   ],
   "source": [
    "loans.shape  # row numbers cut down :  2925493 -> 2657654"
   ]
  },
  {
   "cell_type": "markdown",
   "metadata": {},
   "source": [
    "### 1e. loan issued date (data timeframe)"
   ]
  },
  {
   "cell_type": "code",
   "execution_count": 206,
   "metadata": {},
   "outputs": [
    {
     "data": {
      "text/plain": [
       "1850683    Sep-2020\n",
       "1845845    Sep-2020\n",
       "1845843    Sep-2020\n",
       "1845842    Sep-2020\n",
       "1845841    Sep-2020\n",
       "             ...   \n",
       "41752      Apr-2008\n",
       "41753      Apr-2008\n",
       "41754      Apr-2008\n",
       "41758      Apr-2008\n",
       "38951      Apr-2008\n",
       "Name: issue_d, Length: 2657654, dtype: object"
      ]
     },
     "execution_count": 206,
     "metadata": {},
     "output_type": "execute_result"
    }
   ],
   "source": [
    "loans.issue_d.sort_values(ascending= False)"
   ]
  },
  {
   "cell_type": "markdown",
   "metadata": {},
   "source": [
    "confirm data are collected from 2008 April to 2020 September"
   ]
  },
  {
   "cell_type": "code",
   "execution_count": 207,
   "metadata": {},
   "outputs": [
    {
     "data": {
      "text/plain": [
       "Mar-2016    0.020087\n",
       "Oct-2015    0.017123\n",
       "Jul-2019    0.016962\n",
       "Jul-2015    0.016286\n",
       "Aug-2019    0.015920\n",
       "              ...   \n",
       "Jan-2008    0.000006\n",
       "Feb-2008    0.000005\n",
       "Dec-2007    0.000002\n",
       "Oct-2007    0.000002\n",
       "Nov-2007    0.000002\n",
       "Name: issue_d, Length: 156, dtype: float64"
      ]
     },
     "execution_count": 207,
     "metadata": {},
     "output_type": "execute_result"
    }
   ],
   "source": [
    "loans.issue_d.value_counts(normalize= True)"
   ]
  },
  {
   "cell_type": "code",
   "execution_count": 208,
   "metadata": {},
   "outputs": [
    {
     "data": {
      "image/png": "[encoded data removed]",
      "text/plain": [
       "<Figure size 2160x504 with 1 Axes>"
      ]
     },
     "metadata": {
      "needs_background": "light"
     },
     "output_type": "display_data"
    }
   ],
   "source": [
    "# Create histogram\n",
    "fig, ax = plt.subplots(figsize =(30, 7), tight_layout = True)\n",
    "ax.hist(loans.issue_d)  #, bins = [0, 25, 50, 75, 100])\n",
    "plt.xticks(rotation='vertical')  \n",
    "plt.show()\n",
    "\n",
    "# wrong timeline. Fix later."
   ]
  },
  {
   "cell_type": "markdown",
   "metadata": {},
   "source": [
    "## 2. EDA and more data cleaning"
   ]
  },
  {
   "cell_type": "markdown",
   "metadata": {},
   "source": [
    "### 2a. Target: loan_status (check Imbalance)\n",
    "The binary dependent variable not_fully_paid indicates that the loan was not paid back in full (the borrower either defaulted or the loan was \"charged off,\" meaning the borrower was deemed unlikely to ever pay it back)."
   ]
  },
  {
   "cell_type": "code",
   "execution_count": 209,
   "metadata": {},
   "outputs": [
    {
     "data": {
      "text/plain": [
       "array(['Fully Paid', 'Charged Off',\n",
       "       'Does not meet the credit policy. Status:Fully Paid',\n",
       "       'Does not meet the credit policy. Status:Charged Off', 'Current',\n",
       "       'Late (31-120 days)', 'In Grace Period', 'Late (16-30 days)',\n",
       "       'Default', 'Issued'], dtype=object)"
      ]
     },
     "execution_count": 209,
     "metadata": {},
     "output_type": "execute_result"
    }
   ],
   "source": [
    "loans.loan_status.unique() \n",
    "#subset.loan_status.unique()"
   ]
  },
  {
   "cell_type": "code",
   "execution_count": 210,
   "metadata": {},
   "outputs": [
    {
     "data": {
      "text/plain": [
       "Fully Paid                                             1389476\n",
       "Current                                                 925005\n",
       "Charged Off                                             322095\n",
       "Late (31-120 days)                                        9853\n",
       "In Grace Period                                           6610\n",
       "Late (16-30 days)                                         1763\n",
       "Does not meet the credit policy. Status:Fully Paid        1506\n",
       "Does not meet the credit policy. Status:Charged Off        518\n",
       "Issued                                                     500\n",
       "Default                                                    328\n",
       "Name: loan_status, dtype: int64"
      ]
     },
     "execution_count": 210,
     "metadata": {},
     "output_type": "execute_result"
    }
   ],
   "source": [
    "loans.loan_status.value_counts()"
   ]
  },
  {
   "cell_type": "code",
   "execution_count": 211,
   "metadata": {},
   "outputs": [
    {
     "data": {
      "text/plain": [
       "(1711571, 51)"
      ]
     },
     "execution_count": 211,
     "metadata": {},
     "output_type": "execute_result"
    }
   ],
   "source": [
    "# only pick Fully Paid and Charged Off\n",
    "\n",
    "loans =  loans[loans['loan_status'].isin(['Fully Paid', 'Charged Off'])]\n",
    "loans.shape  # row numbers cut down :  2657654  -> 1711571"
   ]
  },
  {
   "cell_type": "code",
   "execution_count": 212,
   "metadata": {},
   "outputs": [
    {
     "data": {
      "text/plain": [
       "Fully Paid     0.811813\n",
       "Charged Off    0.188187\n",
       "Name: loan_status, dtype: float64"
      ]
     },
     "execution_count": 212,
     "metadata": {},
     "output_type": "execute_result"
    }
   ],
   "source": [
    "loans['loan_status'].value_counts(normalize=True)"
   ]
  },
  {
   "cell_type": "markdown",
   "metadata": {},
   "source": [
    "- This is an imbalance problem. Fully Paid to Charged Off ratio are 8:2. It's because we have a lot more entries of people that fully paid their loans then people that did not pay back.\n",
    "\n",
    "- We can expect to probably do very well in terms of accuracy but our precision and recall are going to be the true metrics that we will have to evaluate our model based off of.\n"
   ]
  },
  {
   "cell_type": "markdown",
   "metadata": {},
   "source": [
    "### 2b. Timeframe : only take recent 3 years loan data : 2018 to 2020"
   ]
  },
  {
   "cell_type": "code",
   "execution_count": 213,
   "metadata": {},
   "outputs": [
    {
     "data": {
      "text/plain": [
       "issue_d \n",
       "Mar-2016    49638\n",
       "Oct-2015    42575\n",
       "Jul-2015    40962\n",
       "Dec-2015    38453\n",
       "Oct-2014    36676\n",
       "            ...  \n",
       "Feb-2008        7\n",
       "Jan-2008        6\n",
       "Dec-2007        2\n",
       "Nov-2007        2\n",
       "Oct-2007        1\n",
       "Length: 156, dtype: int64"
      ]
     },
     "execution_count": 213,
     "metadata": {},
     "output_type": "execute_result"
    }
   ],
   "source": [
    "loans[['issue_d']].value_counts()"
   ]
  },
  {
   "cell_type": "code",
   "execution_count": 214,
   "metadata": {},
   "outputs": [],
   "source": [
    "def loan_years(x, y):\n",
    "    \n",
    "    k = []\n",
    "\n",
    "    for i in range(x, y+1):\n",
    "        m1 = 'Jan' + '-' + str(i)\n",
    "        m2 = 'Feb' + '-' + str(i)\n",
    "        m3 = 'Mar' + '-' + str(i)\n",
    "        m4 = 'Apr' + '-' + str(i)\n",
    "        m5 = 'May' + '-' + str(i)    \n",
    "        m6 = 'Jun' + '-' + str(i) \n",
    "        m7 = 'Jul' + '-' + str(i) \n",
    "        m8 = 'Aug' + '-' + str(i)\n",
    "        m9 = 'Sep' + '-' + str(i)\n",
    "        m10 = 'Oct' + '-' + str(i)\n",
    "        m11 = 'Nov' + '-' + str(i)\n",
    "        m12 = 'Dec' + '-' + str(i)\n",
    "\n",
    "        k.append(m1)\n",
    "        k.append(m2)\n",
    "        k.append(m3)\n",
    "        k.append(m4)\n",
    "        k.append(m5)\n",
    "        k.append(m6)\n",
    "        k.append(m7)\n",
    "        k.append(m8)\n",
    "        k.append(m9)\n",
    "        k.append(m10)\n",
    "        k.append(m11)\n",
    "        k.append(m12)\n",
    "    \n",
    "    \n",
    "    return k"
   ]
  },
  {
   "cell_type": "code",
   "execution_count": 215,
   "metadata": {},
   "outputs": [],
   "source": [
    "year_3 = loan_years(2018, 2020)[:-3]"
   ]
  },
  {
   "cell_type": "code",
   "execution_count": 216,
   "metadata": {},
   "outputs": [
    {
     "data": {
      "text/plain": [
       "(246004, 51)"
      ]
     },
     "execution_count": 216,
     "metadata": {},
     "output_type": "execute_result"
    }
   ],
   "source": [
    "# only take recent 3 years loan data : 2018 Jan to 2020 Sep\n",
    "    \n",
    "df = loans[loans['issue_d'].isin(year_3)]    \n",
    "                            \n",
    "df.reset_index(drop=True, inplace=True)\n",
    "df.shape                                    "
   ]
  },
  {
   "cell_type": "code",
   "execution_count": 217,
   "metadata": {},
   "outputs": [],
   "source": [
    "# save it into a smaller df as 2018 to 2020 for the sake of less memory and more speed.\n",
    "\n",
    "df.to_csv('data/loan_2018_2020.csv') "
   ]
  },
  {
   "cell_type": "code",
   "execution_count": 218,
   "metadata": {
    "scrolled": true
   },
   "outputs": [
    {
     "data": {
      "text/plain": [
       "Fully Paid     3644\n",
       "Charged Off      22\n",
       "Name: loan_status, dtype: int64"
      ]
     },
     "execution_count": 218,
     "metadata": {},
     "output_type": "execute_result"
    }
   ],
   "source": [
    "# randomly target imbalance check for year 2020\n",
    "\n",
    "loans[loans['issue_d'].isin(['Jan-2020', 'Feb-2020', 'Mar-2020', 'Apr-2020', 'May-2020', 'Jun-2020', 'Jul-2020', 'Aug-2020', 'Sep-2020'])].loan_status.value_counts() "
   ]
  },
  {
   "cell_type": "code",
   "execution_count": 219,
   "metadata": {},
   "outputs": [
    {
     "data": {
      "text/plain": [
       "Fully Paid     0.794137\n",
       "Charged Off    0.205863\n",
       "Name: loan_status, dtype: float64"
      ]
     },
     "execution_count": 219,
     "metadata": {},
     "output_type": "execute_result"
    }
   ],
   "source": [
    "df['loan_status'].value_counts(normalize=True)"
   ]
  },
  {
   "cell_type": "code",
   "execution_count": 220,
   "metadata": {},
   "outputs": [
    {
     "name": "stdout",
     "output_type": "stream",
     "text": [
      "<class 'pandas.core.frame.DataFrame'>\n",
      "RangeIndex: 246004 entries, 0 to 246003\n",
      "Data columns (total 51 columns):\n",
      " #   Column                      Non-Null Count   Dtype  \n",
      "---  ------                      --------------   -----  \n",
      " 0   id                          246004 non-null  object \n",
      " 1   loan_amnt                   246004 non-null  float64\n",
      " 2   funded_amnt                 246004 non-null  float64\n",
      " 3   funded_amnt_inv             246004 non-null  float64\n",
      " 4   term                        246004 non-null  object \n",
      " 5   int_rate                    246004 non-null  object \n",
      " 6   installment                 246004 non-null  float64\n",
      " 7   grade                       246004 non-null  object \n",
      " 8   sub_grade                   246004 non-null  object \n",
      " 9   emp_length                  246004 non-null  object \n",
      " 10  home_ownership              246004 non-null  object \n",
      " 11  annual_inc                  246004 non-null  float64\n",
      " 12  verification_status         246004 non-null  object \n",
      " 13  issue_d                     246004 non-null  object \n",
      " 14  loan_status                 246004 non-null  object \n",
      " 15  pymnt_plan                  246004 non-null  object \n",
      " 16  purpose                     246004 non-null  object \n",
      " 17  title                       246004 non-null  object \n",
      " 18  zip_code                    246004 non-null  object \n",
      " 19  addr_state                  246004 non-null  object \n",
      " 20  dti                         246004 non-null  float64\n",
      " 21  delinq_2yrs                 246004 non-null  float64\n",
      " 22  earliest_cr_line            246004 non-null  object \n",
      " 23  fico_range_low              246004 non-null  float64\n",
      " 24  fico_range_high             246004 non-null  float64\n",
      " 25  inq_last_6mths              246004 non-null  float64\n",
      " 26  open_acc                    246004 non-null  float64\n",
      " 27  pub_rec                     246004 non-null  float64\n",
      " 28  revol_bal                   246004 non-null  float64\n",
      " 29  revol_util                  246004 non-null  object \n",
      " 30  total_acc                   246004 non-null  float64\n",
      " 31  initial_list_status         246004 non-null  object \n",
      " 32  out_prncp                   246004 non-null  float64\n",
      " 33  out_prncp_inv               246004 non-null  float64\n",
      " 34  total_rec_prncp             246004 non-null  float64\n",
      " 35  total_rec_int               246004 non-null  float64\n",
      " 36  total_rec_late_fee          246004 non-null  float64\n",
      " 37  recoveries                  246004 non-null  float64\n",
      " 38  last_pymnt_d                246004 non-null  object \n",
      " 39  last_pymnt_amnt             246004 non-null  float64\n",
      " 40  last_fico_range_high        246004 non-null  float64\n",
      " 41  last_fico_range_low         246004 non-null  float64\n",
      " 42  collections_12_mths_ex_med  246004 non-null  float64\n",
      " 43  policy_code                 246004 non-null  float64\n",
      " 44  application_type            246004 non-null  object \n",
      " 45  acc_now_delinq              246004 non-null  float64\n",
      " 46  chargeoff_within_12_mths    246004 non-null  float64\n",
      " 47  delinq_amnt                 246004 non-null  float64\n",
      " 48  pub_rec_bankruptcies        246004 non-null  float64\n",
      " 49  hardship_flag               246004 non-null  object \n",
      " 50  debt_settlement_flag        246004 non-null  object \n",
      "dtypes: float64(29), object(22)\n",
      "memory usage: 95.7+ MB\n"
     ]
    }
   ],
   "source": [
    "df.info()"
   ]
  },
  {
   "cell_type": "markdown",
   "metadata": {},
   "source": [
    "### 2c. Features Checking\n",
    "\n",
    "1. numerical features\n",
    "\n",
    "2. catergorical features"
   ]
  },
  {
   "cell_type": "code",
   "execution_count": 221,
   "metadata": {},
   "outputs": [
    {
     "data": {
      "text/plain": [
       "Index(['id', 'loan_amnt', 'funded_amnt', 'funded_amnt_inv', 'term', 'int_rate',\n",
       "       'installment', 'grade', 'sub_grade', 'emp_length', 'home_ownership',\n",
       "       'annual_inc', 'verification_status', 'issue_d', 'loan_status',\n",
       "       'pymnt_plan', 'purpose', 'title', 'zip_code', 'addr_state', 'dti',\n",
       "       'delinq_2yrs', 'earliest_cr_line', 'fico_range_low', 'fico_range_high',\n",
       "       'inq_last_6mths', 'open_acc', 'pub_rec', 'revol_bal', 'revol_util',\n",
       "       'total_acc', 'initial_list_status', 'out_prncp', 'out_prncp_inv',\n",
       "       'total_rec_prncp', 'total_rec_int', 'total_rec_late_fee', 'recoveries',\n",
       "       'last_pymnt_d', 'last_pymnt_amnt', 'last_fico_range_high',\n",
       "       'last_fico_range_low', 'collections_12_mths_ex_med', 'policy_code',\n",
       "       'application_type', 'acc_now_delinq', 'chargeoff_within_12_mths',\n",
       "       'delinq_amnt', 'pub_rec_bankruptcies', 'hardship_flag',\n",
       "       'debt_settlement_flag'],\n",
       "      dtype='object')"
      ]
     },
     "execution_count": 221,
     "metadata": {},
     "output_type": "execute_result"
    }
   ],
   "source": [
    "df.columns"
   ]
  },
  {
   "cell_type": "code",
   "execution_count": 222,
   "metadata": {},
   "outputs": [
    {
     "data": {
      "text/html": [
       "<div>\n",
       "<style scoped>\n",
       "    .dataframe tbody tr th:only-of-type {\n",
       "        vertical-align: middle;\n",
       "    }\n",
       "\n",
       "    .dataframe tbody tr th {\n",
       "        vertical-align: top;\n",
       "    }\n",
       "\n",
       "    .dataframe thead th {\n",
       "        text-align: right;\n",
       "    }\n",
       "</style>\n",
       "<table border=\"1\" class=\"dataframe\">\n",
       "  <thead>\n",
       "    <tr style=\"text-align: right;\">\n",
       "      <th></th>\n",
       "      <th>id</th>\n",
       "      <th>term</th>\n",
       "      <th>int_rate</th>\n",
       "      <th>grade</th>\n",
       "      <th>sub_grade</th>\n",
       "      <th>emp_length</th>\n",
       "      <th>home_ownership</th>\n",
       "      <th>verification_status</th>\n",
       "      <th>issue_d</th>\n",
       "      <th>loan_status</th>\n",
       "      <th>...</th>\n",
       "      <th>title</th>\n",
       "      <th>zip_code</th>\n",
       "      <th>addr_state</th>\n",
       "      <th>earliest_cr_line</th>\n",
       "      <th>revol_util</th>\n",
       "      <th>initial_list_status</th>\n",
       "      <th>last_pymnt_d</th>\n",
       "      <th>application_type</th>\n",
       "      <th>hardship_flag</th>\n",
       "      <th>debt_settlement_flag</th>\n",
       "    </tr>\n",
       "  </thead>\n",
       "  <tbody>\n",
       "    <tr>\n",
       "      <th>count</th>\n",
       "      <td>246004</td>\n",
       "      <td>246004</td>\n",
       "      <td>246004</td>\n",
       "      <td>246004</td>\n",
       "      <td>246004</td>\n",
       "      <td>246004</td>\n",
       "      <td>246004</td>\n",
       "      <td>246004</td>\n",
       "      <td>246004</td>\n",
       "      <td>246004</td>\n",
       "      <td>...</td>\n",
       "      <td>246004</td>\n",
       "      <td>246004</td>\n",
       "      <td>246004</td>\n",
       "      <td>246004</td>\n",
       "      <td>246004</td>\n",
       "      <td>246004</td>\n",
       "      <td>246004</td>\n",
       "      <td>246004</td>\n",
       "      <td>246004</td>\n",
       "      <td>246004</td>\n",
       "    </tr>\n",
       "    <tr>\n",
       "      <th>unique</th>\n",
       "      <td>246004</td>\n",
       "      <td>2</td>\n",
       "      <td>152</td>\n",
       "      <td>7</td>\n",
       "      <td>35</td>\n",
       "      <td>11</td>\n",
       "      <td>4</td>\n",
       "      <td>3</td>\n",
       "      <td>33</td>\n",
       "      <td>2</td>\n",
       "      <td>...</td>\n",
       "      <td>12</td>\n",
       "      <td>884</td>\n",
       "      <td>50</td>\n",
       "      <td>658</td>\n",
       "      <td>1099</td>\n",
       "      <td>2</td>\n",
       "      <td>34</td>\n",
       "      <td>2</td>\n",
       "      <td>2</td>\n",
       "      <td>2</td>\n",
       "    </tr>\n",
       "    <tr>\n",
       "      <th>top</th>\n",
       "      <td>148046796</td>\n",
       "      <td>36 months</td>\n",
       "      <td>8.19%</td>\n",
       "      <td>B</td>\n",
       "      <td>A4</td>\n",
       "      <td>10+ years</td>\n",
       "      <td>MORTGAGE</td>\n",
       "      <td>Source Verified</td>\n",
       "      <td>May-2018</td>\n",
       "      <td>Fully Paid</td>\n",
       "      <td>...</td>\n",
       "      <td>Debt consolidation</td>\n",
       "      <td>750xx</td>\n",
       "      <td>CA</td>\n",
       "      <td>Aug-2006</td>\n",
       "      <td>0%</td>\n",
       "      <td>w</td>\n",
       "      <td>Jul-2019</td>\n",
       "      <td>Individual</td>\n",
       "      <td>N</td>\n",
       "      <td>N</td>\n",
       "    </tr>\n",
       "    <tr>\n",
       "      <th>freq</th>\n",
       "      <td>1</td>\n",
       "      <td>180668</td>\n",
       "      <td>6669</td>\n",
       "      <td>66891</td>\n",
       "      <td>15953</td>\n",
       "      <td>85254</td>\n",
       "      <td>124361</td>\n",
       "      <td>103383</td>\n",
       "      <td>18259</td>\n",
       "      <td>195361</td>\n",
       "      <td>...</td>\n",
       "      <td>131062</td>\n",
       "      <td>2658</td>\n",
       "      <td>35096</td>\n",
       "      <td>2321</td>\n",
       "      <td>3207</td>\n",
       "      <td>211241</td>\n",
       "      <td>15609</td>\n",
       "      <td>216302</td>\n",
       "      <td>244943</td>\n",
       "      <td>240959</td>\n",
       "    </tr>\n",
       "  </tbody>\n",
       "</table>\n",
       "<p>4 rows × 22 columns</p>\n",
       "</div>"
      ],
      "text/plain": [
       "               id        term int_rate   grade sub_grade emp_length  \\\n",
       "count      246004      246004   246004  246004    246004     246004   \n",
       "unique     246004           2      152       7        35         11   \n",
       "top     148046796   36 months    8.19%       B        A4  10+ years   \n",
       "freq            1      180668     6669   66891     15953      85254   \n",
       "\n",
       "       home_ownership verification_status   issue_d loan_status  ...  \\\n",
       "count          246004              246004    246004      246004  ...   \n",
       "unique              4                   3        33           2  ...   \n",
       "top          MORTGAGE     Source Verified  May-2018  Fully Paid  ...   \n",
       "freq           124361              103383     18259      195361  ...   \n",
       "\n",
       "                     title zip_code addr_state earliest_cr_line revol_util  \\\n",
       "count               246004   246004     246004           246004     246004   \n",
       "unique                  12      884         50              658       1099   \n",
       "top     Debt consolidation    750xx         CA         Aug-2006         0%   \n",
       "freq                131062     2658      35096             2321       3207   \n",
       "\n",
       "       initial_list_status last_pymnt_d application_type hardship_flag  \\\n",
       "count               246004       246004           246004        246004   \n",
       "unique                   2           34                2             2   \n",
       "top                      w     Jul-2019       Individual             N   \n",
       "freq                211241        15609           216302        244943   \n",
       "\n",
       "       debt_settlement_flag  \n",
       "count                246004  \n",
       "unique                    2  \n",
       "top                       N  \n",
       "freq                 240959  \n",
       "\n",
       "[4 rows x 22 columns]"
      ]
     },
     "execution_count": 222,
     "metadata": {},
     "output_type": "execute_result"
    }
   ],
   "source": [
    "df.describe(include=np.object)"
   ]
  },
  {
   "cell_type": "markdown",
   "metadata": {},
   "source": [
    "#### 2c1. id\n",
    "\n",
    "From Data Dictionary and the above chart, we found id is unique for each loan record, and it's not helpful for modeling, so we drop this feature."
   ]
  },
  {
   "cell_type": "code",
   "execution_count": null,
   "metadata": {},
   "outputs": [],
   "source": []
  },
  {
   "cell_type": "markdown",
   "metadata": {},
   "source": [
    "#### 2c2. loan_amnt "
   ]
  },
  {
   "cell_type": "code",
   "execution_count": 224,
   "metadata": {},
   "outputs": [
    {
     "data": {
      "text/plain": [
       "count    246004.000000\n",
       "mean      15435.868624\n",
       "std       10079.596159\n",
       "min        1000.000000\n",
       "25%        7943.750000\n",
       "50%       12750.000000\n",
       "75%       20650.000000\n",
       "max       40000.000000\n",
       "Name: loan_amnt, dtype: float64"
      ]
     },
     "execution_count": 224,
     "metadata": {},
     "output_type": "execute_result"
    }
   ],
   "source": [
    "df['loan_amnt'].describe()"
   ]
  },
  {
   "cell_type": "code",
   "execution_count": 225,
   "metadata": {},
   "outputs": [
    {
     "data": {
      "image/png": "[encoded data removed]",
      "text/plain": [
       "<Figure size 432x288 with 1 Axes>"
      ]
     },
     "metadata": {
      "needs_background": "light"
     },
     "output_type": "display_data"
    }
   ],
   "source": [
    "plt.hist(df['loan_amnt'])  #, density=True)\n",
    "plt.ylabel('Loan Amount')\n",
    "plt.xlabel('Count');"
   ]
  },
  {
   "cell_type": "code",
   "execution_count": 226,
   "metadata": {},
   "outputs": [
    {
     "data": {
      "text/html": [
       "<div>\n",
       "<style scoped>\n",
       "    .dataframe tbody tr th:only-of-type {\n",
       "        vertical-align: middle;\n",
       "    }\n",
       "\n",
       "    .dataframe tbody tr th {\n",
       "        vertical-align: top;\n",
       "    }\n",
       "\n",
       "    .dataframe thead th {\n",
       "        text-align: right;\n",
       "    }\n",
       "</style>\n",
       "<table border=\"1\" class=\"dataframe\">\n",
       "  <thead>\n",
       "    <tr style=\"text-align: right;\">\n",
       "      <th></th>\n",
       "      <th>count</th>\n",
       "      <th>mean</th>\n",
       "      <th>std</th>\n",
       "      <th>min</th>\n",
       "      <th>25%</th>\n",
       "      <th>50%</th>\n",
       "      <th>75%</th>\n",
       "      <th>max</th>\n",
       "    </tr>\n",
       "    <tr>\n",
       "      <th>loan_status</th>\n",
       "      <th></th>\n",
       "      <th></th>\n",
       "      <th></th>\n",
       "      <th></th>\n",
       "      <th></th>\n",
       "      <th></th>\n",
       "      <th></th>\n",
       "      <th></th>\n",
       "    </tr>\n",
       "  </thead>\n",
       "  <tbody>\n",
       "    <tr>\n",
       "      <th>Charged Off</th>\n",
       "      <td>50643.0</td>\n",
       "      <td>17640.007010</td>\n",
       "      <td>10227.883732</td>\n",
       "      <td>1000.0</td>\n",
       "      <td>10000.0</td>\n",
       "      <td>15000.0</td>\n",
       "      <td>25000.0</td>\n",
       "      <td>40000.0</td>\n",
       "    </tr>\n",
       "    <tr>\n",
       "      <th>Fully Paid</th>\n",
       "      <td>195361.0</td>\n",
       "      <td>14864.494705</td>\n",
       "      <td>9961.541143</td>\n",
       "      <td>1000.0</td>\n",
       "      <td>7000.0</td>\n",
       "      <td>12000.0</td>\n",
       "      <td>20000.0</td>\n",
       "      <td>40000.0</td>\n",
       "    </tr>\n",
       "  </tbody>\n",
       "</table>\n",
       "</div>"
      ],
      "text/plain": [
       "                count          mean           std     min      25%      50%  \\\n",
       "loan_status                                                                   \n",
       "Charged Off   50643.0  17640.007010  10227.883732  1000.0  10000.0  15000.0   \n",
       "Fully Paid   195361.0  14864.494705   9961.541143  1000.0   7000.0  12000.0   \n",
       "\n",
       "                 75%      max  \n",
       "loan_status                    \n",
       "Charged Off  25000.0  40000.0  \n",
       "Fully Paid   20000.0  40000.0  "
      ]
     },
     "execution_count": 226,
     "metadata": {},
     "output_type": "execute_result"
    }
   ],
   "source": [
    "df.groupby('loan_status')['loan_amnt'].describe()"
   ]
  },
  {
   "cell_type": "markdown",
   "metadata": {},
   "source": [
    "#### 2c3. funded_amnt & funded_amnt_inv\n",
    "\n",
    "\n",
    "Check Data Dictionary and EDA below, both are similar to loan amount but won't add much values for modeling, so we decided to drop these two features. \n",
    "\n",
    "- funded_amnt\t: The total amount committed to that loan at that point in time.\n",
    "- funded_amnt_inv: The total amount committed by investors for that loan at that point in time."
   ]
  },
  {
   "cell_type": "code",
   "execution_count": 227,
   "metadata": {},
   "outputs": [
    {
     "data": {
      "text/plain": [
       "count    246004.000000\n",
       "mean      15435.868624\n",
       "std       10079.596159\n",
       "min        1000.000000\n",
       "25%        7943.750000\n",
       "50%       12750.000000\n",
       "75%       20650.000000\n",
       "max       40000.000000\n",
       "Name: funded_amnt, dtype: float64"
      ]
     },
     "execution_count": 227,
     "metadata": {},
     "output_type": "execute_result"
    }
   ],
   "source": [
    "df['funded_amnt'].describe()"
   ]
  },
  {
   "cell_type": "code",
   "execution_count": 228,
   "metadata": {},
   "outputs": [
    {
     "data": {
      "text/plain": [
       "(array([27232., 44840., 50605., 34035., 27576., 12726., 14703., 13325.,\n",
       "        10606., 10356.]),\n",
       " array([ 1000.,  4900.,  8800., 12700., 16600., 20500., 24400., 28300.,\n",
       "        32200., 36100., 40000.]),\n",
       " <BarContainer object of 10 artists>)"
      ]
     },
     "execution_count": 228,
     "metadata": {},
     "output_type": "execute_result"
    },
    {
     "data": {
      "image/png": "[encoded data removed]",
      "text/plain": [
       "<Figure size 432x288 with 1 Axes>"
      ]
     },
     "metadata": {
      "needs_background": "light"
     },
     "output_type": "display_data"
    }
   ],
   "source": [
    "plt.hist(df['funded_amnt'])"
   ]
  },
  {
   "cell_type": "code",
   "execution_count": 229,
   "metadata": {},
   "outputs": [
    {
     "data": {
      "text/plain": [
       "count    246004.000000\n",
       "mean      15432.548472\n",
       "std       10079.679752\n",
       "min         725.000000\n",
       "25%        7825.000000\n",
       "50%       12750.000000\n",
       "75%       20650.000000\n",
       "max       40000.000000\n",
       "Name: funded_amnt_inv, dtype: float64"
      ]
     },
     "execution_count": 229,
     "metadata": {},
     "output_type": "execute_result"
    }
   ],
   "source": [
    "df['funded_amnt_inv'].describe()"
   ]
  },
  {
   "cell_type": "code",
   "execution_count": 230,
   "metadata": {},
   "outputs": [
    {
     "data": {
      "text/plain": [
       "(array([25651., 46199., 50538., 33856., 27803., 12928., 14726., 13324.,\n",
       "        10620., 10359.]),\n",
       " array([  725. ,  4652.5,  8580. , 12507.5, 16435. , 20362.5, 24290. ,\n",
       "        28217.5, 32145. , 36072.5, 40000. ]),\n",
       " <BarContainer object of 10 artists>)"
      ]
     },
     "execution_count": 230,
     "metadata": {},
     "output_type": "execute_result"
    },
    {
     "data": {
      "image/png": "[encoded data removed]",
      "text/plain": [
       "<Figure size 432x288 with 1 Axes>"
      ]
     },
     "metadata": {
      "needs_background": "light"
     },
     "output_type": "display_data"
    }
   ],
   "source": [
    "plt.hist(df['funded_amnt_inv'])"
   ]
  },
  {
   "cell_type": "code",
   "execution_count": null,
   "metadata": {},
   "outputs": [],
   "source": []
  },
  {
   "cell_type": "markdown",
   "metadata": {},
   "source": [
    "#### 2c4. term\n",
    "\n",
    "From Data Dictionary\n",
    "- term: The number of payments on the loan. Values are in months and can be either 36 or 60."
   ]
  },
  {
   "cell_type": "code",
   "execution_count": 232,
   "metadata": {},
   "outputs": [
    {
     "data": {
      "text/plain": [
       " 36 months    180668\n",
       " 60 months     65336\n",
       "Name: term, dtype: int64"
      ]
     },
     "execution_count": 232,
     "metadata": {},
     "output_type": "execute_result"
    }
   ],
   "source": [
    "df['term'].value_counts()"
   ]
  },
  {
   "cell_type": "code",
   "execution_count": null,
   "metadata": {},
   "outputs": [],
   "source": []
  },
  {
   "cell_type": "code",
   "execution_count": 234,
   "metadata": {},
   "outputs": [
    {
     "data": {
      "text/plain": [
       "36    0.734411\n",
       "60    0.265589\n",
       "Name: term, dtype: float64"
      ]
     },
     "execution_count": 234,
     "metadata": {},
     "output_type": "execute_result"
    }
   ],
   "source": [
    "df['term'].value_counts(normalize=True)"
   ]
  },
  {
   "cell_type": "markdown",
   "metadata": {},
   "source": [
    "73% are 36 months term and 26% are 60 months term."
   ]
  },
  {
   "cell_type": "code",
   "execution_count": 235,
   "metadata": {},
   "outputs": [
    {
     "data": {
      "text/html": [
       "<div>\n",
       "<style scoped>\n",
       "    .dataframe tbody tr th:only-of-type {\n",
       "        vertical-align: middle;\n",
       "    }\n",
       "\n",
       "    .dataframe tbody tr th {\n",
       "        vertical-align: top;\n",
       "    }\n",
       "\n",
       "    .dataframe thead th {\n",
       "        text-align: right;\n",
       "    }\n",
       "</style>\n",
       "<table border=\"1\" class=\"dataframe\">\n",
       "  <thead>\n",
       "    <tr style=\"text-align: right;\">\n",
       "      <th></th>\n",
       "      <th>count</th>\n",
       "      <th>unique</th>\n",
       "      <th>top</th>\n",
       "      <th>freq</th>\n",
       "    </tr>\n",
       "    <tr>\n",
       "      <th>term</th>\n",
       "      <th></th>\n",
       "      <th></th>\n",
       "      <th></th>\n",
       "      <th></th>\n",
       "    </tr>\n",
       "  </thead>\n",
       "  <tbody>\n",
       "    <tr>\n",
       "      <th>36</th>\n",
       "      <td>180668</td>\n",
       "      <td>2</td>\n",
       "      <td>Fully Paid</td>\n",
       "      <td>149751</td>\n",
       "    </tr>\n",
       "    <tr>\n",
       "      <th>60</th>\n",
       "      <td>65336</td>\n",
       "      <td>2</td>\n",
       "      <td>Fully Paid</td>\n",
       "      <td>45610</td>\n",
       "    </tr>\n",
       "  </tbody>\n",
       "</table>\n",
       "</div>"
      ],
      "text/plain": [
       "       count unique         top    freq\n",
       "term                                   \n",
       "36    180668      2  Fully Paid  149751\n",
       "60     65336      2  Fully Paid   45610"
      ]
     },
     "execution_count": 235,
     "metadata": {},
     "output_type": "execute_result"
    }
   ],
   "source": [
    "df.groupby('term')['loan_status'].describe()"
   ]
  },
  {
   "cell_type": "code",
   "execution_count": 236,
   "metadata": {},
   "outputs": [
    {
     "data": {
      "text/plain": [
       "term  loan_status\n",
       "36    Fully Paid     0.828874\n",
       "      Charged Off    0.171126\n",
       "60    Fully Paid     0.698084\n",
       "      Charged Off    0.301916\n",
       "Name: loan_status, dtype: float64"
      ]
     },
     "execution_count": 236,
     "metadata": {},
     "output_type": "execute_result"
    }
   ],
   "source": [
    "df.groupby('term')['loan_status'].value_counts(normalize=True)"
   ]
  },
  {
   "cell_type": "markdown",
   "metadata": {},
   "source": [
    "__Based on Charged Off percentage by loan terms, 60 months have higher rate than 30 months.__"
   ]
  },
  {
   "cell_type": "markdown",
   "metadata": {},
   "source": [
    "#### 2c5. installment\n",
    "\n",
    "From Data Dictionary\n",
    "- installment: The monthly payment owed by the borrower if the loan originates."
   ]
  },
  {
   "cell_type": "code",
   "execution_count": 237,
   "metadata": {},
   "outputs": [
    {
     "data": {
      "text/plain": [
       "count    246004.000000\n",
       "mean        461.022379\n",
       "std         293.113356\n",
       "min          28.770000\n",
       "25%         243.780000\n",
       "50%         379.280000\n",
       "75%         627.470000\n",
       "max        1676.230000\n",
       "Name: installment, dtype: float64"
      ]
     },
     "execution_count": 237,
     "metadata": {},
     "output_type": "execute_result"
    }
   ],
   "source": [
    "df['installment'].describe()"
   ]
  },
  {
   "cell_type": "code",
   "execution_count": 238,
   "metadata": {},
   "outputs": [
    {
     "data": {
      "text/html": [
       "<div>\n",
       "<style scoped>\n",
       "    .dataframe tbody tr th:only-of-type {\n",
       "        vertical-align: middle;\n",
       "    }\n",
       "\n",
       "    .dataframe tbody tr th {\n",
       "        vertical-align: top;\n",
       "    }\n",
       "\n",
       "    .dataframe thead th {\n",
       "        text-align: right;\n",
       "    }\n",
       "</style>\n",
       "<table border=\"1\" class=\"dataframe\">\n",
       "  <thead>\n",
       "    <tr style=\"text-align: right;\">\n",
       "      <th></th>\n",
       "      <th>count</th>\n",
       "      <th>mean</th>\n",
       "      <th>std</th>\n",
       "      <th>min</th>\n",
       "      <th>25%</th>\n",
       "      <th>50%</th>\n",
       "      <th>75%</th>\n",
       "      <th>max</th>\n",
       "    </tr>\n",
       "    <tr>\n",
       "      <th>loan_status</th>\n",
       "      <th></th>\n",
       "      <th></th>\n",
       "      <th></th>\n",
       "      <th></th>\n",
       "      <th></th>\n",
       "      <th></th>\n",
       "      <th></th>\n",
       "      <th></th>\n",
       "    </tr>\n",
       "  </thead>\n",
       "  <tbody>\n",
       "    <tr>\n",
       "      <th>Charged Off</th>\n",
       "      <td>50643.0</td>\n",
       "      <td>525.379699</td>\n",
       "      <td>296.584284</td>\n",
       "      <td>30.12</td>\n",
       "      <td>300.66</td>\n",
       "      <td>466.10</td>\n",
       "      <td>713.945</td>\n",
       "      <td>1664.57</td>\n",
       "    </tr>\n",
       "    <tr>\n",
       "      <th>Fully Paid</th>\n",
       "      <td>195361.0</td>\n",
       "      <td>444.339173</td>\n",
       "      <td>289.884938</td>\n",
       "      <td>28.77</td>\n",
       "      <td>228.68</td>\n",
       "      <td>364.86</td>\n",
       "      <td>607.110</td>\n",
       "      <td>1676.23</td>\n",
       "    </tr>\n",
       "  </tbody>\n",
       "</table>\n",
       "</div>"
      ],
      "text/plain": [
       "                count        mean         std    min     25%     50%      75%  \\\n",
       "loan_status                                                                     \n",
       "Charged Off   50643.0  525.379699  296.584284  30.12  300.66  466.10  713.945   \n",
       "Fully Paid   195361.0  444.339173  289.884938  28.77  228.68  364.86  607.110   \n",
       "\n",
       "                 max  \n",
       "loan_status           \n",
       "Charged Off  1664.57  \n",
       "Fully Paid   1676.23  "
      ]
     },
     "execution_count": 238,
     "metadata": {},
     "output_type": "execute_result"
    }
   ],
   "source": [
    "df.groupby('loan_status')['installment'].describe()"
   ]
  },
  {
   "cell_type": "markdown",
   "metadata": {},
   "source": [
    "Charged off loans tend to have higher installments. Loans that charge off have $81 higher installments on average."
   ]
  },
  {
   "cell_type": "markdown",
   "metadata": {},
   "source": [
    "#### 2c6 . emp_length\n",
    "\n",
    "From Data Dictionary\n",
    "- emp_length: Employment length in years. Possible values are between 0 and 10 where 0 means less than one year and 10 means ten or more years."
   ]
  },
  {
   "cell_type": "code",
   "execution_count": 239,
   "metadata": {},
   "outputs": [
    {
     "data": {
      "text/plain": [
       "10+ years    85254\n",
       "< 1 year     24536\n",
       "2 years      24391\n",
       "3 years      22044\n",
       "1 year       18477\n",
       "5 years      17097\n",
       "4 years      17015\n",
       "6 years      11976\n",
       "7 years       9754\n",
       "8 years       8719\n",
       "9 years       6741\n",
       "Name: emp_length, dtype: int64"
      ]
     },
     "execution_count": 239,
     "metadata": {},
     "output_type": "execute_result"
    }
   ],
   "source": [
    "df['emp_length'].value_counts()"
   ]
  },
  {
   "cell_type": "code",
   "execution_count": 240,
   "metadata": {},
   "outputs": [
    {
     "data": {
      "text/plain": [
       "loan_status  emp_length\n",
       "Charged Off  10+ years     15855\n",
       "             < 1 year       5971\n",
       "             2 years        5158\n",
       "             3 years        4781\n",
       "             1 year         4169\n",
       "             4 years        3697\n",
       "             5 years        3654\n",
       "             6 years        2371\n",
       "             7 years        1952\n",
       "             8 years        1765\n",
       "             9 years        1270\n",
       "Fully Paid   10+ years     69399\n",
       "             2 years       19233\n",
       "             < 1 year      18565\n",
       "             3 years       17263\n",
       "             1 year        14308\n",
       "             5 years       13443\n",
       "             4 years       13318\n",
       "             6 years        9605\n",
       "             7 years        7802\n",
       "             8 years        6954\n",
       "             9 years        5471\n",
       "Name: emp_length, dtype: int64"
      ]
     },
     "execution_count": 240,
     "metadata": {},
     "output_type": "execute_result"
    }
   ],
   "source": [
    "df.groupby('loan_status')['emp_length'].value_counts()  #df.groupby(['loan_status','emp_length']).count() "
   ]
  },
  {
   "cell_type": "code",
   "execution_count": 241,
   "metadata": {
    "scrolled": true
   },
   "outputs": [
    {
     "data": {
      "image/png": "[encoded data removed]",
      "text/plain": [
       "<Figure size 720x360 with 1 Axes>"
      ]
     },
     "metadata": {
      "needs_background": "light"
     },
     "output_type": "display_data"
    }
   ],
   "source": [
    "# to get the dataframe in the correct shape, unstack the groupby result\n",
    "emp = df.groupby(['loan_status']).emp_length.value_counts().unstack()\n",
    "\n",
    "# plot\n",
    "emp.plot.bar(figsize=(10, 5))\n",
    "plt.legend(title='employment length', bbox_to_anchor=(1.05, 1), loc='upper left')\n",
    "plt.xlabel('Loan Status')\n",
    "plt.ylabel('Count')\n",
    "plt.show()"
   ]
  },
  {
   "cell_type": "markdown",
   "metadata": {},
   "source": [
    "The employment length doesn't affect much differnce on Loan Status (Charge Off/Fully Paid). Both have the highest number on 10+ year employment length and followed by < 1 year. Or we can say that people who worked longer than 10 years or less than 1 year are the biggest group of people taking loans on Lending Club. As the feature can't help us to predict on loan status, we dropped this."
   ]
  },
  {
   "cell_type": "code",
   "execution_count": null,
   "metadata": {},
   "outputs": [],
   "source": []
  },
  {
   "cell_type": "markdown",
   "metadata": {},
   "source": [
    "#### 2c7 . home_ownership\n",
    "\n",
    "From Data Dictionary\n",
    "- home_ownership: The home ownership status provided by the borrower during registration or obtained from the credit report. Our values are: RENT, OWN, MORTGAGE, OTHER."
   ]
  },
  {
   "cell_type": "code",
   "execution_count": 243,
   "metadata": {},
   "outputs": [
    {
     "data": {
      "text/plain": [
       "MORTGAGE    124361\n",
       "RENT         93422\n",
       "OWN          27639\n",
       "ANY            582\n",
       "Name: home_ownership, dtype: int64"
      ]
     },
     "execution_count": 243,
     "metadata": {},
     "output_type": "execute_result"
    }
   ],
   "source": [
    "df['home_ownership'].value_counts()"
   ]
  },
  {
   "cell_type": "code",
   "execution_count": null,
   "metadata": {},
   "outputs": [],
   "source": []
  },
  {
   "cell_type": "code",
   "execution_count": 245,
   "metadata": {},
   "outputs": [
    {
     "data": {
      "text/plain": [
       "MORTGAGE    124361\n",
       "RENT         93422\n",
       "OWN          27639\n",
       "OTHER          582\n",
       "Name: home_ownership, dtype: int64"
      ]
     },
     "execution_count": 245,
     "metadata": {},
     "output_type": "execute_result"
    }
   ],
   "source": [
    "df['home_ownership'].value_counts()"
   ]
  },
  {
   "cell_type": "code",
   "execution_count": 246,
   "metadata": {},
   "outputs": [
    {
     "data": {
      "text/plain": [
       "home_ownership  loan_status\n",
       "MORTGAGE        Fully Paid     0.830767\n",
       "                Charged Off    0.169233\n",
       "OTHER           Fully Paid     0.785223\n",
       "                Charged Off    0.214777\n",
       "OWN             Fully Paid     0.792286\n",
       "                Charged Off    0.207714\n",
       "RENT            Fully Paid     0.745981\n",
       "                Charged Off    0.254019\n",
       "Name: loan_status, dtype: float64"
      ]
     },
     "execution_count": 246,
     "metadata": {},
     "output_type": "execute_result"
    }
   ],
   "source": [
    "df.groupby('home_ownership')['loan_status'].value_counts(normalize= True)   #.loc[:,'Charged Off']"
   ]
  },
  {
   "cell_type": "markdown",
   "metadata": {},
   "source": [
    "The home ownership as RENT has the highest rate of Charged Off on loan, and has the lowest rate on MORTAGE home ownership."
   ]
  },
  {
   "cell_type": "markdown",
   "metadata": {},
   "source": [
    "#### 2c8 . annual_inc\n",
    "\n",
    "From Data Dictionary\n",
    "   - annual_inc: The self-reported annual income provided by the borrower during registration. "
   ]
  },
  {
   "cell_type": "code",
   "execution_count": 247,
   "metadata": {},
   "outputs": [
    {
     "data": {
      "text/plain": [
       "60000.00     9598\n",
       "50000.00     8052\n",
       "65000.00     7502\n",
       "70000.00     7068\n",
       "80000.00     7018\n",
       "             ... \n",
       "53486.09        1\n",
       "108145.00       1\n",
       "307800.00       1\n",
       "57358.00        1\n",
       "80922.00        1\n",
       "Name: annual_inc, Length: 15459, dtype: int64"
      ]
     },
     "execution_count": 247,
     "metadata": {},
     "output_type": "execute_result"
    }
   ],
   "source": [
    "df['annual_inc'].value_counts()"
   ]
  },
  {
   "cell_type": "code",
   "execution_count": 248,
   "metadata": {},
   "outputs": [
    {
     "data": {
      "text/html": [
       "<div>\n",
       "<style scoped>\n",
       "    .dataframe tbody tr th:only-of-type {\n",
       "        vertical-align: middle;\n",
       "    }\n",
       "\n",
       "    .dataframe tbody tr th {\n",
       "        vertical-align: top;\n",
       "    }\n",
       "\n",
       "    .dataframe thead th {\n",
       "        text-align: right;\n",
       "    }\n",
       "</style>\n",
       "<table border=\"1\" class=\"dataframe\">\n",
       "  <thead>\n",
       "    <tr style=\"text-align: right;\">\n",
       "      <th></th>\n",
       "      <th>count</th>\n",
       "      <th>mean</th>\n",
       "      <th>std</th>\n",
       "      <th>min</th>\n",
       "      <th>25%</th>\n",
       "      <th>50%</th>\n",
       "      <th>75%</th>\n",
       "      <th>max</th>\n",
       "    </tr>\n",
       "    <tr>\n",
       "      <th>loan_status</th>\n",
       "      <th></th>\n",
       "      <th></th>\n",
       "      <th></th>\n",
       "      <th></th>\n",
       "      <th></th>\n",
       "      <th></th>\n",
       "      <th></th>\n",
       "      <th></th>\n",
       "    </tr>\n",
       "  </thead>\n",
       "  <tbody>\n",
       "    <tr>\n",
       "      <th>Charged Off</th>\n",
       "      <td>50643.0</td>\n",
       "      <td>78542.441475</td>\n",
       "      <td>73241.419492</td>\n",
       "      <td>32.0</td>\n",
       "      <td>47000.0</td>\n",
       "      <td>65000.0</td>\n",
       "      <td>93000.0</td>\n",
       "      <td>6118054.0</td>\n",
       "    </tr>\n",
       "    <tr>\n",
       "      <th>Fully Paid</th>\n",
       "      <td>195361.0</td>\n",
       "      <td>85325.202394</td>\n",
       "      <td>88350.330579</td>\n",
       "      <td>0.0</td>\n",
       "      <td>50000.0</td>\n",
       "      <td>70000.0</td>\n",
       "      <td>100000.0</td>\n",
       "      <td>9300000.0</td>\n",
       "    </tr>\n",
       "  </tbody>\n",
       "</table>\n",
       "</div>"
      ],
      "text/plain": [
       "                count          mean           std   min      25%      50%  \\\n",
       "loan_status                                                                 \n",
       "Charged Off   50643.0  78542.441475  73241.419492  32.0  47000.0  65000.0   \n",
       "Fully Paid   195361.0  85325.202394  88350.330579   0.0  50000.0  70000.0   \n",
       "\n",
       "                  75%        max  \n",
       "loan_status                       \n",
       "Charged Off   93000.0  6118054.0  \n",
       "Fully Paid   100000.0  9300000.0  "
      ]
     },
     "execution_count": 248,
     "metadata": {},
     "output_type": "execute_result"
    }
   ],
   "source": [
    "df.groupby('loan_status')['annual_inc'].describe()"
   ]
  },
  {
   "cell_type": "markdown",
   "metadata": {},
   "source": [
    "On average, higher annual income people are more likely to fully paid off the loan."
   ]
  },
  {
   "cell_type": "code",
   "execution_count": null,
   "metadata": {},
   "outputs": [],
   "source": []
  },
  {
   "cell_type": "markdown",
   "metadata": {},
   "source": [
    "#### 2c9. verification_status\n",
    "\n",
    "From Data Dictionary\n",
    "   - Indicates if income was verified by LC, not verified, or if the income source was verified"
   ]
  },
  {
   "cell_type": "code",
   "execution_count": 250,
   "metadata": {},
   "outputs": [
    {
     "data": {
      "text/plain": [
       "Source Verified    103383\n",
       "Not Verified        97926\n",
       "Verified            44695\n",
       "Name: verification_status, dtype: int64"
      ]
     },
     "execution_count": 250,
     "metadata": {},
     "output_type": "execute_result"
    }
   ],
   "source": [
    "df['verification_status'].value_counts()"
   ]
  },
  {
   "cell_type": "code",
   "execution_count": 251,
   "metadata": {},
   "outputs": [
    {
     "data": {
      "text/plain": [
       "loan_status  verification_status\n",
       "Charged Off  Source Verified        0.436704\n",
       "             Not Verified           0.319235\n",
       "             Verified               0.244061\n",
       "Fully Paid   Not Verified           0.418502\n",
       "             Source Verified        0.415984\n",
       "             Verified               0.165514\n",
       "Name: verification_status, dtype: float64"
      ]
     },
     "execution_count": 251,
     "metadata": {},
     "output_type": "execute_result"
    }
   ],
   "source": [
    "df.groupby('loan_status')['verification_status'].value_counts(normalize= True)"
   ]
  },
  {
   "cell_type": "code",
   "execution_count": 252,
   "metadata": {},
   "outputs": [],
   "source": [
    "df.drop('verification_status', axis =1 , inplace = True)"
   ]
  },
  {
   "cell_type": "markdown",
   "metadata": {},
   "source": [
    "#### 2c10. pymnt_plan, purpose, title, zipcode and address_state\n",
    "\n",
    "Aftering checking Data Dictionary and EDA, we decide to drop \n",
    "- pymnt_plan\n",
    "- title\n",
    "- zipcode (we have add_state)"
   ]
  },
  {
   "cell_type": "code",
   "execution_count": 253,
   "metadata": {},
   "outputs": [
    {
     "data": {
      "text/plain": [
       "count     246004\n",
       "unique         1\n",
       "top            n\n",
       "freq      246004\n",
       "Name: pymnt_plan, dtype: object"
      ]
     },
     "execution_count": 253,
     "metadata": {},
     "output_type": "execute_result"
    }
   ],
   "source": [
    "df['pymnt_plan'].describe()  # drop"
   ]
  },
  {
   "cell_type": "code",
   "execution_count": 254,
   "metadata": {},
   "outputs": [
    {
     "data": {
      "text/plain": [
       "debt_consolidation    131062\n",
       "credit_card            57257\n",
       "other                  18361\n",
       "home_improvement       17281\n",
       "major_purchase          6404\n",
       "medical                 3435\n",
       "house                   3084\n",
       "car                     2744\n",
       "small_business          2328\n",
       "vacation                2053\n",
       "moving                  1826\n",
       "renewable_energy         165\n",
       "wedding                    4\n",
       "Name: purpose, dtype: int64"
      ]
     },
     "execution_count": 254,
     "metadata": {},
     "output_type": "execute_result"
    }
   ],
   "source": [
    "df['purpose'].value_counts()"
   ]
  },
  {
   "cell_type": "code",
   "execution_count": 255,
   "metadata": {},
   "outputs": [
    {
     "data": {
      "text/plain": [
       "Debt consolidation         131062\n",
       "Credit card refinancing     57257\n",
       "Other                       18365\n",
       "Home improvement            17281\n",
       "Major purchase               6404\n",
       "Medical expenses             3435\n",
       "Home buying                  3084\n",
       "Car financing                2744\n",
       "Business                     2328\n",
       "Vacation                     2053\n",
       "Moving and relocation        1826\n",
       "Green loan                    165\n",
       "Name: title, dtype: int64"
      ]
     },
     "execution_count": 255,
     "metadata": {},
     "output_type": "execute_result"
    }
   ],
   "source": [
    "df['title'].value_counts() # similar to Purpose -> drop"
   ]
  },
  {
   "cell_type": "code",
   "execution_count": 256,
   "metadata": {},
   "outputs": [
    {
     "data": {
      "text/plain": [
       "750xx    2658\n",
       "945xx    2617\n",
       "112xx    2324\n",
       "891xx    2282\n",
       "300xx    2254\n",
       "         ... \n",
       "621xx       1\n",
       "503xx       1\n",
       "340xx       1\n",
       "861xx       1\n",
       "987xx       1\n",
       "Name: zip_code, Length: 884, dtype: int64"
      ]
     },
     "execution_count": 256,
     "metadata": {},
     "output_type": "execute_result"
    }
   ],
   "source": [
    "df['zip_code'].value_counts()   # drop"
   ]
  },
  {
   "cell_type": "code",
   "execution_count": 257,
   "metadata": {},
   "outputs": [
    {
     "data": {
      "text/plain": [
       "count     246004\n",
       "unique        50\n",
       "top           CA\n",
       "freq       35096\n",
       "Name: addr_state, dtype: object"
      ]
     },
     "execution_count": 257,
     "metadata": {},
     "output_type": "execute_result"
    }
   ],
   "source": [
    "df['addr_state'].describe()"
   ]
  },
  {
   "cell_type": "code",
   "execution_count": 258,
   "metadata": {},
   "outputs": [],
   "source": [
    "drop_list = ['pymnt_plan', 'title', 'zip_code']"
   ]
  },
  {
   "cell_type": "code",
   "execution_count": null,
   "metadata": {},
   "outputs": [],
   "source": []
  },
  {
   "cell_type": "markdown",
   "metadata": {},
   "source": [
    "#### 2c11. dti \n",
    "\n",
    "From Data Dictionary __(Debt to Income)__\n",
    "- A ratio calculated using the borrower’s total monthly debt payments on the total debt obligations, excluding mortgage and the requested LC loan, divided by the borrower’s self-reported monthly income."
   ]
  },
  {
   "cell_type": "code",
   "execution_count": 260,
   "metadata": {},
   "outputs": [
    {
     "data": {
      "text/plain": [
       "count    246004.000000\n",
       "mean         18.891880\n",
       "std          17.394448\n",
       "min           0.000000\n",
       "25%          11.100000\n",
       "50%          17.260000\n",
       "75%          24.440000\n",
       "max         999.000000\n",
       "Name: dti, dtype: float64"
      ]
     },
     "execution_count": 260,
     "metadata": {},
     "output_type": "execute_result"
    }
   ],
   "source": [
    "df['dti'].describe()"
   ]
  },
  {
   "cell_type": "code",
   "execution_count": 261,
   "metadata": {},
   "outputs": [
    {
     "data": {
      "text/html": [
       "<div>\n",
       "<style scoped>\n",
       "    .dataframe tbody tr th:only-of-type {\n",
       "        vertical-align: middle;\n",
       "    }\n",
       "\n",
       "    .dataframe tbody tr th {\n",
       "        vertical-align: top;\n",
       "    }\n",
       "\n",
       "    .dataframe thead th {\n",
       "        text-align: right;\n",
       "    }\n",
       "</style>\n",
       "<table border=\"1\" class=\"dataframe\">\n",
       "  <thead>\n",
       "    <tr style=\"text-align: right;\">\n",
       "      <th></th>\n",
       "      <th>count</th>\n",
       "      <th>mean</th>\n",
       "      <th>std</th>\n",
       "      <th>min</th>\n",
       "      <th>25%</th>\n",
       "      <th>50%</th>\n",
       "      <th>75%</th>\n",
       "      <th>max</th>\n",
       "    </tr>\n",
       "    <tr>\n",
       "      <th>loan_status</th>\n",
       "      <th></th>\n",
       "      <th></th>\n",
       "      <th></th>\n",
       "      <th></th>\n",
       "      <th></th>\n",
       "      <th></th>\n",
       "      <th></th>\n",
       "      <th></th>\n",
       "    </tr>\n",
       "  </thead>\n",
       "  <tbody>\n",
       "    <tr>\n",
       "      <th>Charged Off</th>\n",
       "      <td>50643.0</td>\n",
       "      <td>20.246928</td>\n",
       "      <td>19.100338</td>\n",
       "      <td>0.0</td>\n",
       "      <td>11.835</td>\n",
       "      <td>18.63</td>\n",
       "      <td>26.22</td>\n",
       "      <td>999.0</td>\n",
       "    </tr>\n",
       "    <tr>\n",
       "      <th>Fully Paid</th>\n",
       "      <td>195361.0</td>\n",
       "      <td>18.540614</td>\n",
       "      <td>16.906529</td>\n",
       "      <td>0.0</td>\n",
       "      <td>10.940</td>\n",
       "      <td>16.95</td>\n",
       "      <td>23.94</td>\n",
       "      <td>999.0</td>\n",
       "    </tr>\n",
       "  </tbody>\n",
       "</table>\n",
       "</div>"
      ],
      "text/plain": [
       "                count       mean        std  min     25%    50%    75%    max\n",
       "loan_status                                                                  \n",
       "Charged Off   50643.0  20.246928  19.100338  0.0  11.835  18.63  26.22  999.0\n",
       "Fully Paid   195361.0  18.540614  16.906529  0.0  10.940  16.95  23.94  999.0"
      ]
     },
     "execution_count": 261,
     "metadata": {},
     "output_type": "execute_result"
    }
   ],
   "source": [
    "df.groupby('loan_status')['dti'].describe()"
   ]
  },
  {
   "cell_type": "markdown",
   "metadata": {},
   "source": [
    "People who Chargd Off have higher ratio of dti than Fully Paid group. Max value 999 shows there's some outliers.\n"
   ]
  },
  {
   "cell_type": "markdown",
   "metadata": {},
   "source": [
    "#### 2c12. delinq_2yrs\n",
    "\n",
    "From Data Dictionary\n",
    "- The number of 30+ days past-due incidences of delinquency in the borrower's credit file for the past 2 years"
   ]
  },
  {
   "cell_type": "code",
   "execution_count": 262,
   "metadata": {},
   "outputs": [
    {
     "data": {
      "text/plain": [
       "count    246004.000000\n",
       "mean          0.233744\n",
       "std           0.759470\n",
       "min           0.000000\n",
       "25%           0.000000\n",
       "50%           0.000000\n",
       "75%           0.000000\n",
       "max          23.000000\n",
       "Name: delinq_2yrs, dtype: float64"
      ]
     },
     "execution_count": 262,
     "metadata": {},
     "output_type": "execute_result"
    }
   ],
   "source": [
    "df['delinq_2yrs'].describe()"
   ]
  },
  {
   "cell_type": "code",
   "execution_count": 263,
   "metadata": {},
   "outputs": [
    {
     "data": {
      "text/plain": [
       "loan_status  delinq_2yrs\n",
       "Charged Off  0.0            0.840215\n",
       "             1.0            0.110854\n",
       "             2.0            0.027368\n",
       "             3.0            0.010979\n",
       "             4.0            0.004996\n",
       "             5.0            0.002172\n",
       "             6.0            0.001283\n",
       "             7.0            0.000652\n",
       "             8.0            0.000553\n",
       "             9.0            0.000296\n",
       "             11.0           0.000178\n",
       "             12.0           0.000138\n",
       "             10.0           0.000118\n",
       "             15.0           0.000059\n",
       "             13.0           0.000039\n",
       "             14.0           0.000039\n",
       "             17.0           0.000020\n",
       "             21.0           0.000020\n",
       "             23.0           0.000020\n",
       "Fully Paid   0.0            0.856061\n",
       "             1.0            0.101208\n",
       "             2.0            0.024775\n",
       "             3.0            0.009157\n",
       "             4.0            0.003875\n",
       "             5.0            0.001873\n",
       "             6.0            0.001162\n",
       "             7.0            0.000532\n",
       "             8.0            0.000430\n",
       "             9.0            0.000266\n",
       "             10.0           0.000215\n",
       "             11.0           0.000118\n",
       "             12.0           0.000087\n",
       "             14.0           0.000072\n",
       "             13.0           0.000051\n",
       "             15.0           0.000046\n",
       "             17.0           0.000026\n",
       "             18.0           0.000020\n",
       "             21.0           0.000010\n",
       "             16.0           0.000005\n",
       "             20.0           0.000005\n",
       "             23.0           0.000005\n",
       "Name: delinq_2yrs, dtype: float64"
      ]
     },
     "execution_count": 263,
     "metadata": {},
     "output_type": "execute_result"
    }
   ],
   "source": [
    "df.groupby('loan_status')['delinq_2yrs'].value_counts(normalize= True) #.loc[:,'Charged Off']"
   ]
  },
  {
   "cell_type": "code",
   "execution_count": 264,
   "metadata": {},
   "outputs": [],
   "source": [
    "# cant tell the % difference between Charged Off and Fully Paid -> should I drop?"
   ]
  },
  {
   "cell_type": "markdown",
   "metadata": {},
   "source": [
    "#### 2c13. earliest_cr_line\n",
    "\n",
    "From Data Dictionary\n",
    "- The month the borrower's earliest reported credit line was opened."
   ]
  },
  {
   "cell_type": "code",
   "execution_count": 265,
   "metadata": {},
   "outputs": [
    {
     "data": {
      "text/plain": [
       "89571    Oct-2009\n",
       "41819    May-1986\n",
       "75032    Jul-2013\n",
       "Name: earliest_cr_line, dtype: object"
      ]
     },
     "execution_count": 265,
     "metadata": {},
     "output_type": "execute_result"
    }
   ],
   "source": [
    "df['earliest_cr_line'].sample(3)"
   ]
  },
  {
   "cell_type": "code",
   "execution_count": 266,
   "metadata": {},
   "outputs": [
    {
     "name": "stderr",
     "output_type": "stream",
     "text": [
      "<ipython-input-266-83f3cc9559aa>:3: SettingWithCopyWarning: \n",
      "A value is trying to be set on a copy of a slice from a DataFrame.\n",
      "Try using .loc[row_indexer,col_indexer] = value instead\n",
      "\n",
      "See the caveats in the documentation: https://pandas.pydata.org/pandas-docs/stable/user_guide/indexing.html#returning-a-view-versus-a-copy\n",
      "  df['earliest_cr_line'] = df['earliest_cr_line'].apply(lambda s: int(s[-4:]))\n"
     ]
    }
   ],
   "source": [
    "# keep only year\n",
    "\n",
    "df['earliest_cr_line'] = df['earliest_cr_line'].apply(lambda s: int(s[-4:]))"
   ]
  },
  {
   "cell_type": "code",
   "execution_count": 267,
   "metadata": {},
   "outputs": [
    {
     "data": {
      "text/plain": [
       "135781    1996\n",
       "52383     2008\n",
       "198141    2007\n",
       "Name: earliest_cr_line, dtype: int64"
      ]
     },
     "execution_count": 267,
     "metadata": {},
     "output_type": "execute_result"
    }
   ],
   "source": [
    "df['earliest_cr_line'].sample(3)"
   ]
  },
  {
   "cell_type": "code",
   "execution_count": 268,
   "metadata": {},
   "outputs": [
    {
     "data": {
      "text/plain": [
       "count    246004.000000\n",
       "mean       2002.817503\n",
       "std           7.288250\n",
       "min        1944.000000\n",
       "25%        1999.000000\n",
       "50%        2004.000000\n",
       "75%        2007.000000\n",
       "max        2017.000000\n",
       "Name: earliest_cr_line, dtype: float64"
      ]
     },
     "execution_count": 268,
     "metadata": {},
     "output_type": "execute_result"
    }
   ],
   "source": [
    "df['earliest_cr_line'].describe()"
   ]
  },
  {
   "cell_type": "code",
   "execution_count": 269,
   "metadata": {},
   "outputs": [
    {
     "data": {
      "text/plain": [
       "loan_status  earliest_cr_line\n",
       "Charged Off  2006                0.084533\n",
       "             2005                0.080130\n",
       "             2007                0.076852\n",
       "             2004                0.070395\n",
       "             2003                0.057935\n",
       "                                   ...   \n",
       "Fully Paid   1951                0.000005\n",
       "             1954                0.000005\n",
       "             1956                0.000005\n",
       "             1957                0.000005\n",
       "             1959                0.000005\n",
       "Name: earliest_cr_line, Length: 124, dtype: float64"
      ]
     },
     "execution_count": 269,
     "metadata": {},
     "output_type": "execute_result"
    }
   ],
   "source": [
    "df.groupby('loan_status')['earliest_cr_line'].value_counts(normalize= True)"
   ]
  },
  {
   "cell_type": "markdown",
   "metadata": {},
   "source": [
    "Borrowers who are charged-off tend to have shorter lines of credit."
   ]
  },
  {
   "cell_type": "markdown",
   "metadata": {},
   "source": [
    "#### 2c14. inq_last_6mths\n",
    "\n",
    "From Data Dictionary\n",
    "- The number of inquiries in past 6 months (excluding auto and mortgage inquiries)."
   ]
  },
  {
   "cell_type": "code",
   "execution_count": 270,
   "metadata": {},
   "outputs": [
    {
     "data": {
      "text/plain": [
       "loan_status  inq_last_6mths\n",
       "Charged Off  0.0               0.570859\n",
       "             1.0               0.287621\n",
       "             2.0               0.103074\n",
       "             3.0               0.034279\n",
       "             4.0               0.003001\n",
       "             5.0               0.001165\n",
       "Fully Paid   0.0               0.634635\n",
       "             1.0               0.258839\n",
       "             2.0               0.079197\n",
       "             3.0               0.023787\n",
       "             4.0               0.002616\n",
       "             5.0               0.000926\n",
       "Name: inq_last_6mths, dtype: float64"
      ]
     },
     "execution_count": 270,
     "metadata": {},
     "output_type": "execute_result"
    }
   ],
   "source": [
    "df.groupby('loan_status')['inq_last_6mths'].value_counts(normalize= True)"
   ]
  },
  {
   "cell_type": "code",
   "execution_count": 271,
   "metadata": {},
   "outputs": [],
   "source": [
    "# can't tell the % difference between Charged Off and Fully Paid -> should I drop?"
   ]
  },
  {
   "cell_type": "markdown",
   "metadata": {},
   "source": [
    "#### 2c15. open_acc\n",
    "\n",
    "From Data Dictionary\n",
    "- The number of open credit lines in the borrower's credit file."
   ]
  },
  {
   "cell_type": "code",
   "execution_count": 272,
   "metadata": {},
   "outputs": [
    {
     "data": {
      "text/html": [
       "<div>\n",
       "<style scoped>\n",
       "    .dataframe tbody tr th:only-of-type {\n",
       "        vertical-align: middle;\n",
       "    }\n",
       "\n",
       "    .dataframe tbody tr th {\n",
       "        vertical-align: top;\n",
       "    }\n",
       "\n",
       "    .dataframe thead th {\n",
       "        text-align: right;\n",
       "    }\n",
       "</style>\n",
       "<table border=\"1\" class=\"dataframe\">\n",
       "  <thead>\n",
       "    <tr style=\"text-align: right;\">\n",
       "      <th></th>\n",
       "      <th>count</th>\n",
       "      <th>mean</th>\n",
       "      <th>std</th>\n",
       "      <th>min</th>\n",
       "      <th>25%</th>\n",
       "      <th>50%</th>\n",
       "      <th>75%</th>\n",
       "      <th>max</th>\n",
       "    </tr>\n",
       "    <tr>\n",
       "      <th>loan_status</th>\n",
       "      <th></th>\n",
       "      <th></th>\n",
       "      <th></th>\n",
       "      <th></th>\n",
       "      <th></th>\n",
       "      <th></th>\n",
       "      <th></th>\n",
       "      <th></th>\n",
       "    </tr>\n",
       "  </thead>\n",
       "  <tbody>\n",
       "    <tr>\n",
       "      <th>Charged Off</th>\n",
       "      <td>50643.0</td>\n",
       "      <td>11.595166</td>\n",
       "      <td>5.951375</td>\n",
       "      <td>1.0</td>\n",
       "      <td>7.0</td>\n",
       "      <td>11.0</td>\n",
       "      <td>15.0</td>\n",
       "      <td>78.0</td>\n",
       "    </tr>\n",
       "    <tr>\n",
       "      <th>Fully Paid</th>\n",
       "      <td>195361.0</td>\n",
       "      <td>11.678948</td>\n",
       "      <td>5.942649</td>\n",
       "      <td>1.0</td>\n",
       "      <td>7.0</td>\n",
       "      <td>11.0</td>\n",
       "      <td>15.0</td>\n",
       "      <td>86.0</td>\n",
       "    </tr>\n",
       "  </tbody>\n",
       "</table>\n",
       "</div>"
      ],
      "text/plain": [
       "                count       mean       std  min  25%   50%   75%   max\n",
       "loan_status                                                           \n",
       "Charged Off   50643.0  11.595166  5.951375  1.0  7.0  11.0  15.0  78.0\n",
       "Fully Paid   195361.0  11.678948  5.942649  1.0  7.0  11.0  15.0  86.0"
      ]
     },
     "execution_count": 272,
     "metadata": {},
     "output_type": "execute_result"
    }
   ],
   "source": [
    "df.groupby('loan_status')['open_acc'].describe()"
   ]
  },
  {
   "cell_type": "code",
   "execution_count": 273,
   "metadata": {},
   "outputs": [],
   "source": [
    "# Is there a difference in number of credit lines between fully paid loans and charged-off loans?\n",
    "\n",
    "# -> drop?"
   ]
  },
  {
   "cell_type": "markdown",
   "metadata": {},
   "source": [
    "#### 2c16. pub_rec\n",
    "\n",
    "From Data Dictionary\n",
    "- Number of derogatory public records."
   ]
  },
  {
   "cell_type": "code",
   "execution_count": 274,
   "metadata": {},
   "outputs": [
    {
     "data": {
      "text/plain": [
       "loan_status  pub_rec\n",
       "Charged Off  0.0        0.856683\n",
       "             1.0        0.137551\n",
       "             2.0        0.003791\n",
       "             3.0        0.001126\n",
       "             4.0        0.000553\n",
       "             5.0        0.000158\n",
       "             7.0        0.000079\n",
       "             6.0        0.000039\n",
       "             10.0       0.000020\n",
       "Fully Paid   0.0        0.867988\n",
       "             1.0        0.128234\n",
       "             2.0        0.002744\n",
       "             3.0        0.000604\n",
       "             4.0        0.000210\n",
       "             5.0        0.000138\n",
       "             6.0        0.000046\n",
       "             7.0        0.000010\n",
       "             8.0        0.000010\n",
       "             9.0        0.000005\n",
       "             13.0       0.000005\n",
       "             52.0       0.000005\n",
       "Name: pub_rec, dtype: float64"
      ]
     },
     "execution_count": 274,
     "metadata": {},
     "output_type": "execute_result"
    }
   ],
   "source": [
    "df.groupby('loan_status')['pub_rec'].value_counts(normalize= True)"
   ]
  },
  {
   "cell_type": "code",
   "execution_count": 275,
   "metadata": {},
   "outputs": [
    {
     "data": {
      "text/html": [
       "<div>\n",
       "<style scoped>\n",
       "    .dataframe tbody tr th:only-of-type {\n",
       "        vertical-align: middle;\n",
       "    }\n",
       "\n",
       "    .dataframe tbody tr th {\n",
       "        vertical-align: top;\n",
       "    }\n",
       "\n",
       "    .dataframe thead th {\n",
       "        text-align: right;\n",
       "    }\n",
       "</style>\n",
       "<table border=\"1\" class=\"dataframe\">\n",
       "  <thead>\n",
       "    <tr style=\"text-align: right;\">\n",
       "      <th></th>\n",
       "      <th>count</th>\n",
       "      <th>mean</th>\n",
       "      <th>std</th>\n",
       "      <th>min</th>\n",
       "      <th>25%</th>\n",
       "      <th>50%</th>\n",
       "      <th>75%</th>\n",
       "      <th>max</th>\n",
       "    </tr>\n",
       "    <tr>\n",
       "      <th>loan_status</th>\n",
       "      <th></th>\n",
       "      <th></th>\n",
       "      <th></th>\n",
       "      <th></th>\n",
       "      <th></th>\n",
       "      <th></th>\n",
       "      <th></th>\n",
       "      <th></th>\n",
       "    </tr>\n",
       "  </thead>\n",
       "  <tbody>\n",
       "    <tr>\n",
       "      <th>Charged Off</th>\n",
       "      <td>50643.0</td>\n",
       "      <td>0.152499</td>\n",
       "      <td>0.399569</td>\n",
       "      <td>0.0</td>\n",
       "      <td>0.0</td>\n",
       "      <td>0.0</td>\n",
       "      <td>0.0</td>\n",
       "      <td>10.0</td>\n",
       "    </tr>\n",
       "    <tr>\n",
       "      <th>Fully Paid</th>\n",
       "      <td>195361.0</td>\n",
       "      <td>0.137873</td>\n",
       "      <td>0.387796</td>\n",
       "      <td>0.0</td>\n",
       "      <td>0.0</td>\n",
       "      <td>0.0</td>\n",
       "      <td>0.0</td>\n",
       "      <td>52.0</td>\n",
       "    </tr>\n",
       "  </tbody>\n",
       "</table>\n",
       "</div>"
      ],
      "text/plain": [
       "                count      mean       std  min  25%  50%  75%   max\n",
       "loan_status                                                        \n",
       "Charged Off   50643.0  0.152499  0.399569  0.0  0.0  0.0  0.0  10.0\n",
       "Fully Paid   195361.0  0.137873  0.387796  0.0  0.0  0.0  0.0  52.0"
      ]
     },
     "execution_count": 275,
     "metadata": {},
     "output_type": "execute_result"
    }
   ],
   "source": [
    "df.groupby('loan_status')['pub_rec'].describe()"
   ]
  },
  {
   "cell_type": "code",
   "execution_count": 276,
   "metadata": {},
   "outputs": [],
   "source": [
    "# Is there a difference in average public records between fully paid loans and charged-off loans?\n",
    "\n",
    "# -> drop?"
   ]
  },
  {
   "cell_type": "markdown",
   "metadata": {},
   "source": [
    "#### 2c17. revol_bal\n",
    "\n",
    "From Data Dictionary\n",
    "- Total credit revolving balance."
   ]
  },
  {
   "cell_type": "code",
   "execution_count": 277,
   "metadata": {},
   "outputs": [
    {
     "data": {
      "text/plain": [
       "loan_status  revol_bal\n",
       "Charged Off  0.0          0.010386\n",
       "             8.0          0.000434\n",
       "             4.0          0.000237\n",
       "             5.0          0.000237\n",
       "             2.0          0.000197\n",
       "                            ...   \n",
       "Fully Paid   866850.0     0.000005\n",
       "             925589.0     0.000005\n",
       "             1113293.0    0.000005\n",
       "             1137891.0    0.000005\n",
       "             1392002.0    0.000005\n",
       "Name: revol_bal, Length: 72280, dtype: float64"
      ]
     },
     "execution_count": 277,
     "metadata": {},
     "output_type": "execute_result"
    }
   ],
   "source": [
    "df.groupby('loan_status')['revol_bal'].value_counts(normalize= True)"
   ]
  },
  {
   "cell_type": "code",
   "execution_count": null,
   "metadata": {},
   "outputs": [],
   "source": []
  },
  {
   "cell_type": "markdown",
   "metadata": {},
   "source": [
    "#### 2c18. revol_util\n",
    "\n",
    "From Data Dictionary\n",
    "- Revolving line utilization rate, or the amount of credit the borrower is using relative to all available revolving credit."
   ]
  },
  {
   "cell_type": "code",
   "execution_count": null,
   "metadata": {},
   "outputs": [],
   "source": []
  },
  {
   "cell_type": "code",
   "execution_count": 280,
   "metadata": {},
   "outputs": [
    {
     "data": {
      "text/html": [
       "<div>\n",
       "<style scoped>\n",
       "    .dataframe tbody tr th:only-of-type {\n",
       "        vertical-align: middle;\n",
       "    }\n",
       "\n",
       "    .dataframe tbody tr th {\n",
       "        vertical-align: top;\n",
       "    }\n",
       "\n",
       "    .dataframe thead th {\n",
       "        text-align: right;\n",
       "    }\n",
       "</style>\n",
       "<table border=\"1\" class=\"dataframe\">\n",
       "  <thead>\n",
       "    <tr style=\"text-align: right;\">\n",
       "      <th></th>\n",
       "      <th>count</th>\n",
       "      <th>mean</th>\n",
       "      <th>std</th>\n",
       "      <th>min</th>\n",
       "      <th>25%</th>\n",
       "      <th>50%</th>\n",
       "      <th>75%</th>\n",
       "      <th>max</th>\n",
       "    </tr>\n",
       "    <tr>\n",
       "      <th>loan_status</th>\n",
       "      <th></th>\n",
       "      <th></th>\n",
       "      <th></th>\n",
       "      <th></th>\n",
       "      <th></th>\n",
       "      <th></th>\n",
       "      <th></th>\n",
       "      <th></th>\n",
       "    </tr>\n",
       "  </thead>\n",
       "  <tbody>\n",
       "    <tr>\n",
       "      <th>Charged Off</th>\n",
       "      <td>50643.0</td>\n",
       "      <td>45.299277</td>\n",
       "      <td>24.928874</td>\n",
       "      <td>0.0</td>\n",
       "      <td>26.1</td>\n",
       "      <td>44.1</td>\n",
       "      <td>63.9</td>\n",
       "      <td>130.0</td>\n",
       "    </tr>\n",
       "    <tr>\n",
       "      <th>Fully Paid</th>\n",
       "      <td>195361.0</td>\n",
       "      <td>39.973285</td>\n",
       "      <td>25.131865</td>\n",
       "      <td>0.0</td>\n",
       "      <td>19.6</td>\n",
       "      <td>37.0</td>\n",
       "      <td>58.0</td>\n",
       "      <td>146.3</td>\n",
       "    </tr>\n",
       "  </tbody>\n",
       "</table>\n",
       "</div>"
      ],
      "text/plain": [
       "                count       mean        std  min   25%   50%   75%    max\n",
       "loan_status                                                              \n",
       "Charged Off   50643.0  45.299277  24.928874  0.0  26.1  44.1  63.9  130.0\n",
       "Fully Paid   195361.0  39.973285  25.131865  0.0  19.6  37.0  58.0  146.3"
      ]
     },
     "execution_count": 280,
     "metadata": {},
     "output_type": "execute_result"
    }
   ],
   "source": [
    "df.groupby('loan_status')['revol_util'].describe()"
   ]
  },
  {
   "cell_type": "code",
   "execution_count": 281,
   "metadata": {},
   "outputs": [],
   "source": [
    "# Is there a difference in average Revolving line utilization rate between fully paid loans and charged-off loans?\n",
    "# 4% difference\n",
    "\n",
    "# TAQ? -> drop?\n",
    "# df.drop('revol_util', axis = 1, inplace = True)"
   ]
  },
  {
   "cell_type": "markdown",
   "metadata": {},
   "source": [
    "#### 2c19. total_acc\n",
    "\n",
    "From Data Dictionary: The total number of credit lines currently in the borrower's credit file."
   ]
  },
  {
   "cell_type": "code",
   "execution_count": 282,
   "metadata": {},
   "outputs": [
    {
     "data": {
      "text/html": [
       "<div>\n",
       "<style scoped>\n",
       "    .dataframe tbody tr th:only-of-type {\n",
       "        vertical-align: middle;\n",
       "    }\n",
       "\n",
       "    .dataframe tbody tr th {\n",
       "        vertical-align: top;\n",
       "    }\n",
       "\n",
       "    .dataframe thead th {\n",
       "        text-align: right;\n",
       "    }\n",
       "</style>\n",
       "<table border=\"1\" class=\"dataframe\">\n",
       "  <thead>\n",
       "    <tr style=\"text-align: right;\">\n",
       "      <th></th>\n",
       "      <th>count</th>\n",
       "      <th>mean</th>\n",
       "      <th>std</th>\n",
       "      <th>min</th>\n",
       "      <th>25%</th>\n",
       "      <th>50%</th>\n",
       "      <th>75%</th>\n",
       "      <th>max</th>\n",
       "    </tr>\n",
       "    <tr>\n",
       "      <th>loan_status</th>\n",
       "      <th></th>\n",
       "      <th></th>\n",
       "      <th></th>\n",
       "      <th></th>\n",
       "      <th></th>\n",
       "      <th></th>\n",
       "      <th></th>\n",
       "      <th></th>\n",
       "    </tr>\n",
       "  </thead>\n",
       "  <tbody>\n",
       "    <tr>\n",
       "      <th>Charged Off</th>\n",
       "      <td>50643.0</td>\n",
       "      <td>22.394309</td>\n",
       "      <td>12.324837</td>\n",
       "      <td>2.0</td>\n",
       "      <td>13.0</td>\n",
       "      <td>20.0</td>\n",
       "      <td>29.0</td>\n",
       "      <td>148.0</td>\n",
       "    </tr>\n",
       "    <tr>\n",
       "      <th>Fully Paid</th>\n",
       "      <td>195361.0</td>\n",
       "      <td>24.404062</td>\n",
       "      <td>12.713202</td>\n",
       "      <td>2.0</td>\n",
       "      <td>15.0</td>\n",
       "      <td>22.0</td>\n",
       "      <td>31.0</td>\n",
       "      <td>145.0</td>\n",
       "    </tr>\n",
       "  </tbody>\n",
       "</table>\n",
       "</div>"
      ],
      "text/plain": [
       "                count       mean        std  min   25%   50%   75%    max\n",
       "loan_status                                                              \n",
       "Charged Off   50643.0  22.394309  12.324837  2.0  13.0  20.0  29.0  148.0\n",
       "Fully Paid   195361.0  24.404062  12.713202  2.0  15.0  22.0  31.0  145.0"
      ]
     },
     "execution_count": 282,
     "metadata": {},
     "output_type": "execute_result"
    }
   ],
   "source": [
    "df.groupby('loan_status')['total_acc'].describe()"
   ]
  },
  {
   "cell_type": "markdown",
   "metadata": {},
   "source": [
    "No large differences here."
   ]
  },
  {
   "cell_type": "code",
   "execution_count": 283,
   "metadata": {},
   "outputs": [],
   "source": [
    "# drop?\n",
    "\n",
    "# TAQ? -> drop?\n",
    "# df.drop('total_acc', axis = 1, inplace = True)"
   ]
  },
  {
   "cell_type": "markdown",
   "metadata": {},
   "source": [
    "#### 2c20. initial_list_status\n",
    "\n",
    "From Data Dictionary: The initial listing status of the loan. Possible values are – W, F."
   ]
  },
  {
   "cell_type": "code",
   "execution_count": 284,
   "metadata": {},
   "outputs": [
    {
     "data": {
      "text/html": [
       "<div>\n",
       "<style scoped>\n",
       "    .dataframe tbody tr th:only-of-type {\n",
       "        vertical-align: middle;\n",
       "    }\n",
       "\n",
       "    .dataframe tbody tr th {\n",
       "        vertical-align: top;\n",
       "    }\n",
       "\n",
       "    .dataframe thead th {\n",
       "        text-align: right;\n",
       "    }\n",
       "</style>\n",
       "<table border=\"1\" class=\"dataframe\">\n",
       "  <thead>\n",
       "    <tr style=\"text-align: right;\">\n",
       "      <th></th>\n",
       "      <th>count</th>\n",
       "      <th>unique</th>\n",
       "      <th>top</th>\n",
       "      <th>freq</th>\n",
       "    </tr>\n",
       "    <tr>\n",
       "      <th>loan_status</th>\n",
       "      <th></th>\n",
       "      <th></th>\n",
       "      <th></th>\n",
       "      <th></th>\n",
       "    </tr>\n",
       "  </thead>\n",
       "  <tbody>\n",
       "    <tr>\n",
       "      <th>Charged Off</th>\n",
       "      <td>50643</td>\n",
       "      <td>2</td>\n",
       "      <td>w</td>\n",
       "      <td>43232</td>\n",
       "    </tr>\n",
       "    <tr>\n",
       "      <th>Fully Paid</th>\n",
       "      <td>195361</td>\n",
       "      <td>2</td>\n",
       "      <td>w</td>\n",
       "      <td>168009</td>\n",
       "    </tr>\n",
       "  </tbody>\n",
       "</table>\n",
       "</div>"
      ],
      "text/plain": [
       "              count unique top    freq\n",
       "loan_status                           \n",
       "Charged Off   50643      2   w   43232\n",
       "Fully Paid   195361      2   w  168009"
      ]
     },
     "execution_count": 284,
     "metadata": {},
     "output_type": "execute_result"
    }
   ],
   "source": [
    "df.groupby('loan_status')['initial_list_status'].describe()"
   ]
  },
  {
   "cell_type": "code",
   "execution_count": null,
   "metadata": {},
   "outputs": [],
   "source": []
  },
  {
   "cell_type": "markdown",
   "metadata": {},
   "source": [
    "#### 2c21. out_prncp, out_prncp_inv\n",
    "\n",
    "From Data Dictionary: \n",
    "- Remaining outstanding principal for total amount funded\n",
    "- Remaining outstanding principal for portion of total amount funded by investors"
   ]
  },
  {
   "cell_type": "code",
   "execution_count": 286,
   "metadata": {},
   "outputs": [
    {
     "data": {
      "text/html": [
       "<div>\n",
       "<style scoped>\n",
       "    .dataframe tbody tr th:only-of-type {\n",
       "        vertical-align: middle;\n",
       "    }\n",
       "\n",
       "    .dataframe tbody tr th {\n",
       "        vertical-align: top;\n",
       "    }\n",
       "\n",
       "    .dataframe thead th {\n",
       "        text-align: right;\n",
       "    }\n",
       "</style>\n",
       "<table border=\"1\" class=\"dataframe\">\n",
       "  <thead>\n",
       "    <tr style=\"text-align: right;\">\n",
       "      <th></th>\n",
       "      <th>count</th>\n",
       "      <th>mean</th>\n",
       "      <th>std</th>\n",
       "      <th>min</th>\n",
       "      <th>25%</th>\n",
       "      <th>50%</th>\n",
       "      <th>75%</th>\n",
       "      <th>max</th>\n",
       "    </tr>\n",
       "    <tr>\n",
       "      <th>loan_status</th>\n",
       "      <th></th>\n",
       "      <th></th>\n",
       "      <th></th>\n",
       "      <th></th>\n",
       "      <th></th>\n",
       "      <th></th>\n",
       "      <th></th>\n",
       "      <th></th>\n",
       "    </tr>\n",
       "  </thead>\n",
       "  <tbody>\n",
       "    <tr>\n",
       "      <th>Charged Off</th>\n",
       "      <td>50643.0</td>\n",
       "      <td>0.0</td>\n",
       "      <td>0.0</td>\n",
       "      <td>0.0</td>\n",
       "      <td>0.0</td>\n",
       "      <td>0.0</td>\n",
       "      <td>0.0</td>\n",
       "      <td>0.0</td>\n",
       "    </tr>\n",
       "    <tr>\n",
       "      <th>Fully Paid</th>\n",
       "      <td>195361.0</td>\n",
       "      <td>0.0</td>\n",
       "      <td>0.0</td>\n",
       "      <td>0.0</td>\n",
       "      <td>0.0</td>\n",
       "      <td>0.0</td>\n",
       "      <td>0.0</td>\n",
       "      <td>0.0</td>\n",
       "    </tr>\n",
       "  </tbody>\n",
       "</table>\n",
       "</div>"
      ],
      "text/plain": [
       "                count  mean  std  min  25%  50%  75%  max\n",
       "loan_status                                              \n",
       "Charged Off   50643.0   0.0  0.0  0.0  0.0  0.0  0.0  0.0\n",
       "Fully Paid   195361.0   0.0  0.0  0.0  0.0  0.0  0.0  0.0"
      ]
     },
     "execution_count": 286,
     "metadata": {},
     "output_type": "execute_result"
    }
   ],
   "source": [
    "df.groupby('loan_status')['out_prncp'].describe()"
   ]
  },
  {
   "cell_type": "code",
   "execution_count": 287,
   "metadata": {},
   "outputs": [
    {
     "data": {
      "text/html": [
       "<div>\n",
       "<style scoped>\n",
       "    .dataframe tbody tr th:only-of-type {\n",
       "        vertical-align: middle;\n",
       "    }\n",
       "\n",
       "    .dataframe tbody tr th {\n",
       "        vertical-align: top;\n",
       "    }\n",
       "\n",
       "    .dataframe thead th {\n",
       "        text-align: right;\n",
       "    }\n",
       "</style>\n",
       "<table border=\"1\" class=\"dataframe\">\n",
       "  <thead>\n",
       "    <tr style=\"text-align: right;\">\n",
       "      <th></th>\n",
       "      <th>count</th>\n",
       "      <th>mean</th>\n",
       "      <th>std</th>\n",
       "      <th>min</th>\n",
       "      <th>25%</th>\n",
       "      <th>50%</th>\n",
       "      <th>75%</th>\n",
       "      <th>max</th>\n",
       "    </tr>\n",
       "    <tr>\n",
       "      <th>loan_status</th>\n",
       "      <th></th>\n",
       "      <th></th>\n",
       "      <th></th>\n",
       "      <th></th>\n",
       "      <th></th>\n",
       "      <th></th>\n",
       "      <th></th>\n",
       "      <th></th>\n",
       "    </tr>\n",
       "  </thead>\n",
       "  <tbody>\n",
       "    <tr>\n",
       "      <th>Charged Off</th>\n",
       "      <td>50643.0</td>\n",
       "      <td>0.0</td>\n",
       "      <td>0.0</td>\n",
       "      <td>0.0</td>\n",
       "      <td>0.0</td>\n",
       "      <td>0.0</td>\n",
       "      <td>0.0</td>\n",
       "      <td>0.0</td>\n",
       "    </tr>\n",
       "    <tr>\n",
       "      <th>Fully Paid</th>\n",
       "      <td>195361.0</td>\n",
       "      <td>0.0</td>\n",
       "      <td>0.0</td>\n",
       "      <td>0.0</td>\n",
       "      <td>0.0</td>\n",
       "      <td>0.0</td>\n",
       "      <td>0.0</td>\n",
       "      <td>0.0</td>\n",
       "    </tr>\n",
       "  </tbody>\n",
       "</table>\n",
       "</div>"
      ],
      "text/plain": [
       "                count  mean  std  min  25%  50%  75%  max\n",
       "loan_status                                              \n",
       "Charged Off   50643.0   0.0  0.0  0.0  0.0  0.0  0.0  0.0\n",
       "Fully Paid   195361.0   0.0  0.0  0.0  0.0  0.0  0.0  0.0"
      ]
     },
     "execution_count": 287,
     "metadata": {},
     "output_type": "execute_result"
    }
   ],
   "source": [
    "df.groupby('loan_status')['out_prncp_inv'].describe()"
   ]
  },
  {
   "cell_type": "code",
   "execution_count": null,
   "metadata": {},
   "outputs": [],
   "source": []
  },
  {
   "cell_type": "markdown",
   "metadata": {},
   "source": [
    "#### 2c21. total_rec_prncp,  total_rec_int,  total_rec_late_fee,  recoveries\n",
    "\n",
    "From Data Dictionary:   \n",
    "- Principal received to date\n",
    "- Interest received to date\n",
    "- Late fees received to date\n",
    "- post charge off gross recovery"
   ]
  },
  {
   "cell_type": "code",
   "execution_count": 289,
   "metadata": {},
   "outputs": [
    {
     "data": {
      "text/html": [
       "<div>\n",
       "<style scoped>\n",
       "    .dataframe tbody tr th:only-of-type {\n",
       "        vertical-align: middle;\n",
       "    }\n",
       "\n",
       "    .dataframe tbody tr th {\n",
       "        vertical-align: top;\n",
       "    }\n",
       "\n",
       "    .dataframe thead th {\n",
       "        text-align: right;\n",
       "    }\n",
       "</style>\n",
       "<table border=\"1\" class=\"dataframe\">\n",
       "  <thead>\n",
       "    <tr style=\"text-align: right;\">\n",
       "      <th></th>\n",
       "      <th>count</th>\n",
       "      <th>mean</th>\n",
       "      <th>std</th>\n",
       "      <th>min</th>\n",
       "      <th>25%</th>\n",
       "      <th>50%</th>\n",
       "      <th>75%</th>\n",
       "      <th>max</th>\n",
       "    </tr>\n",
       "    <tr>\n",
       "      <th>loan_status</th>\n",
       "      <th></th>\n",
       "      <th></th>\n",
       "      <th></th>\n",
       "      <th></th>\n",
       "      <th></th>\n",
       "      <th></th>\n",
       "      <th></th>\n",
       "      <th></th>\n",
       "    </tr>\n",
       "  </thead>\n",
       "  <tbody>\n",
       "    <tr>\n",
       "      <th>Charged Off</th>\n",
       "      <td>50643.0</td>\n",
       "      <td>2855.705366</td>\n",
       "      <td>2822.567965</td>\n",
       "      <td>0.0</td>\n",
       "      <td>994.32</td>\n",
       "      <td>2007.67</td>\n",
       "      <td>3740.305</td>\n",
       "      <td>37600.0</td>\n",
       "    </tr>\n",
       "    <tr>\n",
       "      <th>Fully Paid</th>\n",
       "      <td>195361.0</td>\n",
       "      <td>14864.491947</td>\n",
       "      <td>9961.540903</td>\n",
       "      <td>1000.0</td>\n",
       "      <td>7000.00</td>\n",
       "      <td>12000.00</td>\n",
       "      <td>20000.000</td>\n",
       "      <td>40000.0</td>\n",
       "    </tr>\n",
       "  </tbody>\n",
       "</table>\n",
       "</div>"
      ],
      "text/plain": [
       "                count          mean          std     min      25%       50%  \\\n",
       "loan_status                                                                   \n",
       "Charged Off   50643.0   2855.705366  2822.567965     0.0   994.32   2007.67   \n",
       "Fully Paid   195361.0  14864.491947  9961.540903  1000.0  7000.00  12000.00   \n",
       "\n",
       "                   75%      max  \n",
       "loan_status                      \n",
       "Charged Off   3740.305  37600.0  \n",
       "Fully Paid   20000.000  40000.0  "
      ]
     },
     "execution_count": 289,
     "metadata": {},
     "output_type": "execute_result"
    }
   ],
   "source": [
    "df.groupby('loan_status')['total_rec_prncp'].describe()"
   ]
  },
  {
   "cell_type": "code",
   "execution_count": 290,
   "metadata": {},
   "outputs": [
    {
     "data": {
      "text/html": [
       "<div>\n",
       "<style scoped>\n",
       "    .dataframe tbody tr th:only-of-type {\n",
       "        vertical-align: middle;\n",
       "    }\n",
       "\n",
       "    .dataframe tbody tr th {\n",
       "        vertical-align: top;\n",
       "    }\n",
       "\n",
       "    .dataframe thead th {\n",
       "        text-align: right;\n",
       "    }\n",
       "</style>\n",
       "<table border=\"1\" class=\"dataframe\">\n",
       "  <thead>\n",
       "    <tr style=\"text-align: right;\">\n",
       "      <th></th>\n",
       "      <th>count</th>\n",
       "      <th>mean</th>\n",
       "      <th>std</th>\n",
       "      <th>min</th>\n",
       "      <th>25%</th>\n",
       "      <th>50%</th>\n",
       "      <th>75%</th>\n",
       "      <th>max</th>\n",
       "    </tr>\n",
       "    <tr>\n",
       "      <th>loan_status</th>\n",
       "      <th></th>\n",
       "      <th></th>\n",
       "      <th></th>\n",
       "      <th></th>\n",
       "      <th></th>\n",
       "      <th></th>\n",
       "      <th></th>\n",
       "      <th></th>\n",
       "    </tr>\n",
       "  </thead>\n",
       "  <tbody>\n",
       "    <tr>\n",
       "      <th>Charged Off</th>\n",
       "      <td>50643.0</td>\n",
       "      <td>1870.648515</td>\n",
       "      <td>1737.902332</td>\n",
       "      <td>0.0</td>\n",
       "      <td>629.055</td>\n",
       "      <td>1328.41</td>\n",
       "      <td>2559.395</td>\n",
       "      <td>19225.34</td>\n",
       "    </tr>\n",
       "    <tr>\n",
       "      <th>Fully Paid</th>\n",
       "      <td>195361.0</td>\n",
       "      <td>1325.230779</td>\n",
       "      <td>1489.293641</td>\n",
       "      <td>0.0</td>\n",
       "      <td>342.990</td>\n",
       "      <td>829.74</td>\n",
       "      <td>1758.070</td>\n",
       "      <td>19051.56</td>\n",
       "    </tr>\n",
       "  </tbody>\n",
       "</table>\n",
       "</div>"
      ],
      "text/plain": [
       "                count         mean          std  min      25%      50%  \\\n",
       "loan_status                                                              \n",
       "Charged Off   50643.0  1870.648515  1737.902332  0.0  629.055  1328.41   \n",
       "Fully Paid   195361.0  1325.230779  1489.293641  0.0  342.990   829.74   \n",
       "\n",
       "                  75%       max  \n",
       "loan_status                      \n",
       "Charged Off  2559.395  19225.34  \n",
       "Fully Paid   1758.070  19051.56  "
      ]
     },
     "execution_count": 290,
     "metadata": {},
     "output_type": "execute_result"
    }
   ],
   "source": [
    "df.groupby('loan_status')['total_rec_int'].describe()"
   ]
  },
  {
   "cell_type": "code",
   "execution_count": 291,
   "metadata": {},
   "outputs": [
    {
     "data": {
      "text/html": [
       "<div>\n",
       "<style scoped>\n",
       "    .dataframe tbody tr th:only-of-type {\n",
       "        vertical-align: middle;\n",
       "    }\n",
       "\n",
       "    .dataframe tbody tr th {\n",
       "        vertical-align: top;\n",
       "    }\n",
       "\n",
       "    .dataframe thead th {\n",
       "        text-align: right;\n",
       "    }\n",
       "</style>\n",
       "<table border=\"1\" class=\"dataframe\">\n",
       "  <thead>\n",
       "    <tr style=\"text-align: right;\">\n",
       "      <th></th>\n",
       "      <th>count</th>\n",
       "      <th>mean</th>\n",
       "      <th>std</th>\n",
       "      <th>min</th>\n",
       "      <th>25%</th>\n",
       "      <th>50%</th>\n",
       "      <th>75%</th>\n",
       "      <th>max</th>\n",
       "    </tr>\n",
       "    <tr>\n",
       "      <th>loan_status</th>\n",
       "      <th></th>\n",
       "      <th></th>\n",
       "      <th></th>\n",
       "      <th></th>\n",
       "      <th></th>\n",
       "      <th></th>\n",
       "      <th></th>\n",
       "      <th></th>\n",
       "    </tr>\n",
       "  </thead>\n",
       "  <tbody>\n",
       "    <tr>\n",
       "      <th>Charged Off</th>\n",
       "      <td>50643.0</td>\n",
       "      <td>5.160376</td>\n",
       "      <td>19.509210</td>\n",
       "      <td>0.0</td>\n",
       "      <td>0.0</td>\n",
       "      <td>0.0</td>\n",
       "      <td>0.0</td>\n",
       "      <td>621.80</td>\n",
       "    </tr>\n",
       "    <tr>\n",
       "      <th>Fully Paid</th>\n",
       "      <td>195361.0</td>\n",
       "      <td>0.619916</td>\n",
       "      <td>7.193984</td>\n",
       "      <td>0.0</td>\n",
       "      <td>0.0</td>\n",
       "      <td>0.0</td>\n",
       "      <td>0.0</td>\n",
       "      <td>749.21</td>\n",
       "    </tr>\n",
       "  </tbody>\n",
       "</table>\n",
       "</div>"
      ],
      "text/plain": [
       "                count      mean        std  min  25%  50%  75%     max\n",
       "loan_status                                                           \n",
       "Charged Off   50643.0  5.160376  19.509210  0.0  0.0  0.0  0.0  621.80\n",
       "Fully Paid   195361.0  0.619916   7.193984  0.0  0.0  0.0  0.0  749.21"
      ]
     },
     "execution_count": 291,
     "metadata": {},
     "output_type": "execute_result"
    }
   ],
   "source": [
    "df.groupby('loan_status')['total_rec_late_fee'].describe()"
   ]
  },
  {
   "cell_type": "code",
   "execution_count": 292,
   "metadata": {},
   "outputs": [
    {
     "data": {
      "text/html": [
       "<div>\n",
       "<style scoped>\n",
       "    .dataframe tbody tr th:only-of-type {\n",
       "        vertical-align: middle;\n",
       "    }\n",
       "\n",
       "    .dataframe tbody tr th {\n",
       "        vertical-align: top;\n",
       "    }\n",
       "\n",
       "    .dataframe thead th {\n",
       "        text-align: right;\n",
       "    }\n",
       "</style>\n",
       "<table border=\"1\" class=\"dataframe\">\n",
       "  <thead>\n",
       "    <tr style=\"text-align: right;\">\n",
       "      <th></th>\n",
       "      <th>count</th>\n",
       "      <th>mean</th>\n",
       "      <th>std</th>\n",
       "      <th>min</th>\n",
       "      <th>25%</th>\n",
       "      <th>50%</th>\n",
       "      <th>75%</th>\n",
       "      <th>max</th>\n",
       "    </tr>\n",
       "    <tr>\n",
       "      <th>loan_status</th>\n",
       "      <th></th>\n",
       "      <th></th>\n",
       "      <th></th>\n",
       "      <th></th>\n",
       "      <th></th>\n",
       "      <th></th>\n",
       "      <th></th>\n",
       "      <th></th>\n",
       "    </tr>\n",
       "  </thead>\n",
       "  <tbody>\n",
       "    <tr>\n",
       "      <th>Charged Off</th>\n",
       "      <td>50643.0</td>\n",
       "      <td>1133.618703</td>\n",
       "      <td>1764.763936</td>\n",
       "      <td>0.0</td>\n",
       "      <td>0.0</td>\n",
       "      <td>150.0</td>\n",
       "      <td>1885.37</td>\n",
       "      <td>40889.68</td>\n",
       "    </tr>\n",
       "    <tr>\n",
       "      <th>Fully Paid</th>\n",
       "      <td>195361.0</td>\n",
       "      <td>0.000000</td>\n",
       "      <td>0.000000</td>\n",
       "      <td>0.0</td>\n",
       "      <td>0.0</td>\n",
       "      <td>0.0</td>\n",
       "      <td>0.00</td>\n",
       "      <td>0.00</td>\n",
       "    </tr>\n",
       "  </tbody>\n",
       "</table>\n",
       "</div>"
      ],
      "text/plain": [
       "                count         mean          std  min  25%    50%      75%  \\\n",
       "loan_status                                                                 \n",
       "Charged Off   50643.0  1133.618703  1764.763936  0.0  0.0  150.0  1885.37   \n",
       "Fully Paid   195361.0     0.000000     0.000000  0.0  0.0    0.0     0.00   \n",
       "\n",
       "                  max  \n",
       "loan_status            \n",
       "Charged Off  40889.68  \n",
       "Fully Paid       0.00  "
      ]
     },
     "execution_count": 292,
     "metadata": {},
     "output_type": "execute_result"
    }
   ],
   "source": [
    "df.groupby('loan_status')['recoveries'].describe()"
   ]
  },
  {
   "cell_type": "markdown",
   "metadata": {},
   "source": [
    "Fully Paid borrowers have much higher average Total Received Principal, lower Total Received Interest, and much lower Total Received Late Fee, and have 0 Recoveries than Charged Off borrowers.\n",
    "\n",
    "But can these features apply on a new customer? (seems only applied on existing customers)\n"
   ]
  },
  {
   "cell_type": "code",
   "execution_count": null,
   "metadata": {},
   "outputs": [],
   "source": [
    "\n"
   ]
  },
  {
   "cell_type": "markdown",
   "metadata": {},
   "source": [
    "#### 2c22. last_pymnt_d,  last_pymnt_amnt\n",
    "\n",
    "From Data Dictionary:   \n",
    "- Last total payment amount received\n",
    "- Last month payment was received"
   ]
  },
  {
   "cell_type": "code",
   "execution_count": 294,
   "metadata": {},
   "outputs": [
    {
     "data": {
      "text/plain": [
       "last_pymnt_d\n",
       "Apr-2018    0.155827\n",
       "Apr-2019    0.261070\n",
       "Apr-2020    0.023647\n",
       "Aug-2018    0.266227\n",
       "Aug-2019    0.256876\n",
       "Aug-2020    0.004545\n",
       "Dec-2018    0.275360\n",
       "Dec-2019    0.205036\n",
       "Feb-2018    0.069869\n",
       "Feb-2019    0.253117\n",
       "Feb-2020    0.126829\n",
       "Jan-2018    0.004184\n",
       "Jan-2019    0.291761\n",
       "Jan-2020    0.062514\n",
       "Jul-2018    0.243590\n",
       "Jul-2019    0.251906\n",
       "Jul-2020    0.011696\n",
       "Jun-2018    0.205465\n",
       "Jun-2019    0.259625\n",
       "Jun-2020    0.017921\n",
       "Mar-2018    0.112985\n",
       "Mar-2019    0.264958\n",
       "Mar-2020    0.054757\n",
       "May-2018    0.194582\n",
       "May-2019    0.263101\n",
       "May-2020    0.025899\n",
       "Nov-2018    0.288982\n",
       "Nov-2019    0.221524\n",
       "Oct-2018    0.281388\n",
       "Oct-2019    0.245413\n",
       "Sep-2018    0.271608\n",
       "Sep-2019    0.254797\n",
       "Name: loan_status, dtype: float64"
      ]
     },
     "execution_count": 294,
     "metadata": {},
     "output_type": "execute_result"
    }
   ],
   "source": [
    "df.groupby('last_pymnt_d')['loan_status'].value_counts(normalize=True).loc[:,'Charged Off']"
   ]
  },
  {
   "cell_type": "code",
   "execution_count": 295,
   "metadata": {},
   "outputs": [
    {
     "data": {
      "text/html": [
       "<div>\n",
       "<style scoped>\n",
       "    .dataframe tbody tr th:only-of-type {\n",
       "        vertical-align: middle;\n",
       "    }\n",
       "\n",
       "    .dataframe tbody tr th {\n",
       "        vertical-align: top;\n",
       "    }\n",
       "\n",
       "    .dataframe thead th {\n",
       "        text-align: right;\n",
       "    }\n",
       "</style>\n",
       "<table border=\"1\" class=\"dataframe\">\n",
       "  <thead>\n",
       "    <tr style=\"text-align: right;\">\n",
       "      <th></th>\n",
       "      <th>count</th>\n",
       "      <th>mean</th>\n",
       "      <th>std</th>\n",
       "      <th>min</th>\n",
       "      <th>25%</th>\n",
       "      <th>50%</th>\n",
       "      <th>75%</th>\n",
       "      <th>max</th>\n",
       "    </tr>\n",
       "    <tr>\n",
       "      <th>loan_status</th>\n",
       "      <th></th>\n",
       "      <th></th>\n",
       "      <th></th>\n",
       "      <th></th>\n",
       "      <th></th>\n",
       "      <th></th>\n",
       "      <th></th>\n",
       "      <th></th>\n",
       "    </tr>\n",
       "  </thead>\n",
       "  <tbody>\n",
       "    <tr>\n",
       "      <th>Charged Off</th>\n",
       "      <td>50643.0</td>\n",
       "      <td>532.097710</td>\n",
       "      <td>708.156827</td>\n",
       "      <td>-2000.0</td>\n",
       "      <td>273.70</td>\n",
       "      <td>442.43</td>\n",
       "      <td>702.19</td>\n",
       "      <td>37600.00</td>\n",
       "    </tr>\n",
       "    <tr>\n",
       "      <th>Fully Paid</th>\n",
       "      <td>195361.0</td>\n",
       "      <td>10475.619345</td>\n",
       "      <td>9125.807210</td>\n",
       "      <td>0.0</td>\n",
       "      <td>3423.17</td>\n",
       "      <td>8211.14</td>\n",
       "      <td>15176.60</td>\n",
       "      <td>42163.62</td>\n",
       "    </tr>\n",
       "  </tbody>\n",
       "</table>\n",
       "</div>"
      ],
      "text/plain": [
       "                count          mean          std     min      25%      50%  \\\n",
       "loan_status                                                                  \n",
       "Charged Off   50643.0    532.097710   708.156827 -2000.0   273.70   442.43   \n",
       "Fully Paid   195361.0  10475.619345  9125.807210     0.0  3423.17  8211.14   \n",
       "\n",
       "                  75%       max  \n",
       "loan_status                      \n",
       "Charged Off    702.19  37600.00  \n",
       "Fully Paid   15176.60  42163.62  "
      ]
     },
     "execution_count": 295,
     "metadata": {},
     "output_type": "execute_result"
    }
   ],
   "source": [
    "df.groupby('loan_status')['last_pymnt_amnt'].describe()"
   ]
  },
  {
   "cell_type": "code",
   "execution_count": null,
   "metadata": {},
   "outputs": [],
   "source": []
  },
  {
   "cell_type": "markdown",
   "metadata": {},
   "source": [
    "#### 2c23. collections_12_mths_ex_med\n",
    "\n",
    "From Data Dictionary:  Number of collections in 12 months excluding medical collections"
   ]
  },
  {
   "cell_type": "code",
   "execution_count": 297,
   "metadata": {},
   "outputs": [
    {
     "data": {
      "text/html": [
       "<div>\n",
       "<style scoped>\n",
       "    .dataframe tbody tr th:only-of-type {\n",
       "        vertical-align: middle;\n",
       "    }\n",
       "\n",
       "    .dataframe tbody tr th {\n",
       "        vertical-align: top;\n",
       "    }\n",
       "\n",
       "    .dataframe thead th {\n",
       "        text-align: right;\n",
       "    }\n",
       "</style>\n",
       "<table border=\"1\" class=\"dataframe\">\n",
       "  <thead>\n",
       "    <tr style=\"text-align: right;\">\n",
       "      <th></th>\n",
       "      <th>count</th>\n",
       "      <th>mean</th>\n",
       "      <th>std</th>\n",
       "      <th>min</th>\n",
       "      <th>25%</th>\n",
       "      <th>50%</th>\n",
       "      <th>75%</th>\n",
       "      <th>max</th>\n",
       "    </tr>\n",
       "    <tr>\n",
       "      <th>loan_status</th>\n",
       "      <th></th>\n",
       "      <th></th>\n",
       "      <th></th>\n",
       "      <th></th>\n",
       "      <th></th>\n",
       "      <th></th>\n",
       "      <th></th>\n",
       "      <th></th>\n",
       "    </tr>\n",
       "  </thead>\n",
       "  <tbody>\n",
       "    <tr>\n",
       "      <th>Charged Off</th>\n",
       "      <td>50643.0</td>\n",
       "      <td>0.022392</td>\n",
       "      <td>0.163912</td>\n",
       "      <td>0.0</td>\n",
       "      <td>0.0</td>\n",
       "      <td>0.0</td>\n",
       "      <td>0.0</td>\n",
       "      <td>6.0</td>\n",
       "    </tr>\n",
       "    <tr>\n",
       "      <th>Fully Paid</th>\n",
       "      <td>195361.0</td>\n",
       "      <td>0.015935</td>\n",
       "      <td>0.136151</td>\n",
       "      <td>0.0</td>\n",
       "      <td>0.0</td>\n",
       "      <td>0.0</td>\n",
       "      <td>0.0</td>\n",
       "      <td>8.0</td>\n",
       "    </tr>\n",
       "  </tbody>\n",
       "</table>\n",
       "</div>"
      ],
      "text/plain": [
       "                count      mean       std  min  25%  50%  75%  max\n",
       "loan_status                                                       \n",
       "Charged Off   50643.0  0.022392  0.163912  0.0  0.0  0.0  0.0  6.0\n",
       "Fully Paid   195361.0  0.015935  0.136151  0.0  0.0  0.0  0.0  8.0"
      ]
     },
     "execution_count": 297,
     "metadata": {},
     "output_type": "execute_result"
    }
   ],
   "source": [
    "df.groupby('loan_status')['collections_12_mths_ex_med'].describe()"
   ]
  },
  {
   "cell_type": "code",
   "execution_count": 298,
   "metadata": {},
   "outputs": [
    {
     "data": {
      "text/plain": [
       "collections_12_mths_ex_med  loan_status\n",
       "0.0                         Fully Paid     0.795085\n",
       "                            Charged Off    0.204915\n",
       "1.0                         Fully Paid     0.737015\n",
       "                            Charged Off    0.262985\n",
       "2.0                         Fully Paid     0.739669\n",
       "                            Charged Off    0.260331\n",
       "3.0                         Charged Off    0.500000\n",
       "                            Fully Paid     0.500000\n",
       "4.0                         Charged Off    0.571429\n",
       "                            Fully Paid     0.428571\n",
       "5.0                         Fully Paid     1.000000\n",
       "6.0                         Charged Off    1.000000\n",
       "8.0                         Fully Paid     1.000000\n",
       "Name: loan_status, dtype: float64"
      ]
     },
     "execution_count": 298,
     "metadata": {},
     "output_type": "execute_result"
    }
   ],
   "source": [
    "df.groupby('collections_12_mths_ex_med')['loan_status'].value_counts(normalize=True) #.loc[:,'Charged Off']"
   ]
  },
  {
   "cell_type": "code",
   "execution_count": 299,
   "metadata": {},
   "outputs": [],
   "source": [
    "# not outstanding differnce on the percentage wise.\n",
    "# DONT drop # TAQ?\n",
    "# PUT IT BACK!!!!!!!\n",
    "\n",
    "# df.drop('collections_12_mths_ex_med', axis = 1, inplace = True)"
   ]
  },
  {
   "cell_type": "markdown",
   "metadata": {},
   "source": [
    "#### 2c24.  application_type\n",
    "\n",
    "\n",
    "Loan Dict: Indicates whether the loan is an individual application or a joint application with two co-borrowers\n"
   ]
  },
  {
   "cell_type": "code",
   "execution_count": 300,
   "metadata": {},
   "outputs": [
    {
     "data": {
      "text/plain": [
       "application_type\n",
       "Individual    0.201995\n",
       "Joint App     0.234025\n",
       "Name: loan_status, dtype: float64"
      ]
     },
     "execution_count": 300,
     "metadata": {},
     "output_type": "execute_result"
    }
   ],
   "source": [
    "df.groupby('application_type')['loan_status'].value_counts(normalize=True).loc[:,'Charged Off']"
   ]
  },
  {
   "cell_type": "code",
   "execution_count": 301,
   "metadata": {},
   "outputs": [],
   "source": [
    "# Joint has 3% higher rate of Charged Off probability than Individual, but not huge difference\n",
    "# drop? # TAQ\n",
    "# PUT IT BACK\n",
    "# df.drop('application_type', axis = 1, inplace = True)"
   ]
  },
  {
   "cell_type": "markdown",
   "metadata": {},
   "source": [
    "#### 2c25.  acc_now_delinq, chargeoff_within_12_mths  , delinq_amnt,  pub_rec_bankruptcies, hardship_flag , debt_settlement_flag\n",
    "\n",
    "Loan Dict: \n",
    "1. acc_now_delinq: The number of accounts on which the borrower is now delinquent.\n",
    "2. chargeoff_within_12_mths: Number of charge-offs within 12 months\n",
    "3. delinq_amnt: The past-due amount owed for the accounts on which the borrower is now delinquent.\n",
    "4. pub_rec_bankruptcies: Number of public record bankruptcies\n",
    "5. hardship_flag: Flags whether or not the borrower is on a hardship plan\n",
    "6. debt_settlement_flag: Flags whether or not the borrower, who has charged-off, is working with a debt-settlement company."
   ]
  },
  {
   "cell_type": "code",
   "execution_count": 302,
   "metadata": {},
   "outputs": [
    {
     "data": {
      "text/plain": [
       "acc_now_delinq\n",
       "0.0    0.205847\n",
       "1.0    0.437500\n",
       "Name: loan_status, dtype: float64"
      ]
     },
     "execution_count": 302,
     "metadata": {},
     "output_type": "execute_result"
    }
   ],
   "source": [
    "# keep\n",
    "df.groupby('acc_now_delinq')['loan_status'].value_counts(normalize=True).loc[:,'Charged Off']"
   ]
  },
  {
   "cell_type": "code",
   "execution_count": 303,
   "metadata": {},
   "outputs": [
    {
     "data": {
      "text/plain": [
       "chargeoff_within_12_mths\n",
       "0.0    0.205624\n",
       "1.0    0.238606\n",
       "2.0    0.289474\n",
       "3.0    0.350000\n",
       "Name: loan_status, dtype: float64"
      ]
     },
     "execution_count": 303,
     "metadata": {},
     "output_type": "execute_result"
    }
   ],
   "source": [
    "# keep\n",
    "df.groupby('chargeoff_within_12_mths')['loan_status'].value_counts(normalize=True).loc[:,'Charged Off']"
   ]
  },
  {
   "cell_type": "code",
   "execution_count": 304,
   "metadata": {},
   "outputs": [
    {
     "data": {
      "text/html": [
       "<div>\n",
       "<style scoped>\n",
       "    .dataframe tbody tr th:only-of-type {\n",
       "        vertical-align: middle;\n",
       "    }\n",
       "\n",
       "    .dataframe tbody tr th {\n",
       "        vertical-align: top;\n",
       "    }\n",
       "\n",
       "    .dataframe thead th {\n",
       "        text-align: right;\n",
       "    }\n",
       "</style>\n",
       "<table border=\"1\" class=\"dataframe\">\n",
       "  <thead>\n",
       "    <tr style=\"text-align: right;\">\n",
       "      <th></th>\n",
       "      <th>count</th>\n",
       "      <th>mean</th>\n",
       "      <th>std</th>\n",
       "      <th>min</th>\n",
       "      <th>25%</th>\n",
       "      <th>50%</th>\n",
       "      <th>75%</th>\n",
       "      <th>max</th>\n",
       "    </tr>\n",
       "    <tr>\n",
       "      <th>loan_status</th>\n",
       "      <th></th>\n",
       "      <th></th>\n",
       "      <th></th>\n",
       "      <th></th>\n",
       "      <th></th>\n",
       "      <th></th>\n",
       "      <th></th>\n",
       "      <th></th>\n",
       "    </tr>\n",
       "  </thead>\n",
       "  <tbody>\n",
       "    <tr>\n",
       "      <th>Charged Off</th>\n",
       "      <td>50643.0</td>\n",
       "      <td>3.093991</td>\n",
       "      <td>239.500329</td>\n",
       "      <td>0.0</td>\n",
       "      <td>0.0</td>\n",
       "      <td>0.0</td>\n",
       "      <td>0.0</td>\n",
       "      <td>33781.0</td>\n",
       "    </tr>\n",
       "    <tr>\n",
       "      <th>Fully Paid</th>\n",
       "      <td>195361.0</td>\n",
       "      <td>1.646373</td>\n",
       "      <td>236.495162</td>\n",
       "      <td>0.0</td>\n",
       "      <td>0.0</td>\n",
       "      <td>0.0</td>\n",
       "      <td>0.0</td>\n",
       "      <td>65000.0</td>\n",
       "    </tr>\n",
       "  </tbody>\n",
       "</table>\n",
       "</div>"
      ],
      "text/plain": [
       "                count      mean         std  min  25%  50%  75%      max\n",
       "loan_status                                                             \n",
       "Charged Off   50643.0  3.093991  239.500329  0.0  0.0  0.0  0.0  33781.0\n",
       "Fully Paid   195361.0  1.646373  236.495162  0.0  0.0  0.0  0.0  65000.0"
      ]
     },
     "execution_count": 304,
     "metadata": {},
     "output_type": "execute_result"
    }
   ],
   "source": [
    "# keep\n",
    "df.groupby('loan_status')['delinq_amnt'].describe()\n",
    "\n",
    "# Charged Off have average higher amount, but there's some outlier ($65000) in Fully Paid group."
   ]
  },
  {
   "cell_type": "code",
   "execution_count": 305,
   "metadata": {
    "scrolled": true
   },
   "outputs": [
    {
     "data": {
      "text/html": [
       "<div>\n",
       "<style scoped>\n",
       "    .dataframe tbody tr th:only-of-type {\n",
       "        vertical-align: middle;\n",
       "    }\n",
       "\n",
       "    .dataframe tbody tr th {\n",
       "        vertical-align: top;\n",
       "    }\n",
       "\n",
       "    .dataframe thead th {\n",
       "        text-align: right;\n",
       "    }\n",
       "</style>\n",
       "<table border=\"1\" class=\"dataframe\">\n",
       "  <thead>\n",
       "    <tr style=\"text-align: right;\">\n",
       "      <th></th>\n",
       "      <th>count</th>\n",
       "      <th>mean</th>\n",
       "      <th>std</th>\n",
       "      <th>min</th>\n",
       "      <th>25%</th>\n",
       "      <th>50%</th>\n",
       "      <th>75%</th>\n",
       "      <th>max</th>\n",
       "    </tr>\n",
       "    <tr>\n",
       "      <th>loan_status</th>\n",
       "      <th></th>\n",
       "      <th></th>\n",
       "      <th></th>\n",
       "      <th></th>\n",
       "      <th></th>\n",
       "      <th></th>\n",
       "      <th></th>\n",
       "      <th></th>\n",
       "    </tr>\n",
       "  </thead>\n",
       "  <tbody>\n",
       "    <tr>\n",
       "      <th>Charged Off</th>\n",
       "      <td>50643.0</td>\n",
       "      <td>0.139822</td>\n",
       "      <td>0.357515</td>\n",
       "      <td>0.0</td>\n",
       "      <td>0.0</td>\n",
       "      <td>0.0</td>\n",
       "      <td>0.0</td>\n",
       "      <td>7.0</td>\n",
       "    </tr>\n",
       "    <tr>\n",
       "      <th>Fully Paid</th>\n",
       "      <td>195361.0</td>\n",
       "      <td>0.129775</td>\n",
       "      <td>0.341871</td>\n",
       "      <td>0.0</td>\n",
       "      <td>0.0</td>\n",
       "      <td>0.0</td>\n",
       "      <td>0.0</td>\n",
       "      <td>6.0</td>\n",
       "    </tr>\n",
       "  </tbody>\n",
       "</table>\n",
       "</div>"
      ],
      "text/plain": [
       "                count      mean       std  min  25%  50%  75%  max\n",
       "loan_status                                                       \n",
       "Charged Off   50643.0  0.139822  0.357515  0.0  0.0  0.0  0.0  7.0\n",
       "Fully Paid   195361.0  0.129775  0.341871  0.0  0.0  0.0  0.0  6.0"
      ]
     },
     "execution_count": 305,
     "metadata": {},
     "output_type": "execute_result"
    }
   ],
   "source": [
    "# keep\n",
    "df.groupby('loan_status')['pub_rec_bankruptcies'].describe()"
   ]
  },
  {
   "cell_type": "code",
   "execution_count": 306,
   "metadata": {},
   "outputs": [
    {
     "data": {
      "text/plain": [
       "pub_rec_bankruptcies\n",
       "0.0    0.204196\n",
       "1.0    0.216131\n",
       "2.0    0.278788\n",
       "3.0    0.294118\n",
       "4.0    0.615385\n",
       "7.0    1.000000\n",
       "Name: loan_status, dtype: float64"
      ]
     },
     "execution_count": 306,
     "metadata": {},
     "output_type": "execute_result"
    }
   ],
   "source": [
    "df.groupby('pub_rec_bankruptcies')['loan_status'].value_counts(normalize=True).loc[:,'Charged Off']"
   ]
  },
  {
   "cell_type": "code",
   "execution_count": 307,
   "metadata": {},
   "outputs": [
    {
     "data": {
      "text/plain": [
       "hardship_flag  loan_status\n",
       "N              Fully Paid     0.793381\n",
       "               Charged Off    0.206619\n",
       "Y              Fully Paid     0.968897\n",
       "               Charged Off    0.031103\n",
       "Name: loan_status, dtype: float64"
      ]
     },
     "execution_count": 307,
     "metadata": {},
     "output_type": "execute_result"
    }
   ],
   "source": [
    "# drop\n",
    "df.groupby('hardship_flag')['loan_status'].value_counts(normalize=True)  #.loc[:,'Charged Off']"
   ]
  },
  {
   "cell_type": "code",
   "execution_count": 308,
   "metadata": {},
   "outputs": [
    {
     "data": {
      "text/plain": [
       "debt_settlement_flag  loan_status\n",
       "N                     Fully Paid     0.810760\n",
       "                      Charged Off    0.189240\n",
       "Y                     Charged Off    0.999802\n",
       "                      Fully Paid     0.000198\n",
       "Name: loan_status, dtype: float64"
      ]
     },
     "execution_count": 308,
     "metadata": {},
     "output_type": "execute_result"
    }
   ],
   "source": [
    "# drop\n",
    "df.groupby('debt_settlement_flag')['loan_status'].value_counts(normalize=True)  #.loc[:,'Charged Off']"
   ]
  },
  {
   "cell_type": "markdown",
   "metadata": {},
   "source": [
    "Again, we only want the features that are accessible for a new customer, so we drop the following features\n",
    "- only keep 'acc_now_delinq', 'chargeoff_within_12_mths', 'delinq_amnt', 'pub_rec_bankruptcies'"
   ]
  },
  {
   "cell_type": "code",
   "execution_count": null,
   "metadata": {},
   "outputs": [],
   "source": []
  },
  {
   "cell_type": "markdown",
   "metadata": {},
   "source": [
    "### 2d. Set aside the features from finance institution \n",
    "\n",
    "some of the features were created by the Lending Club/some financial institution\n",
    "\n",
    " \n",
    "- interest rate         (numerical)\n",
    "- grade                 (categorical)\n",
    "- subgrade              (categorical)\n",
    "- policy code           (delete)\n",
    "- last_fico_range_high  (numerical)\n",
    "- last_fico_range_low   (numerical)\n",
    "- fico_range_high       (numerical)\n",
    "- fico_range_low        (numerical)\n",
    "\n",
    "\n",
    "These are likely good predictors of who will pay back their loans, but they are also features that were likely created by financial professionals who are already judging the applicants. That is to say, we may not have access to features like these when a new person applies for a loan. \n",
    "Just give it some thought on how the model will be used and what type of information we would like our model to have access too. We can also try modeling **with and without these features** to see how big of a difference they make."
   ]
  },
  {
   "cell_type": "markdown",
   "metadata": {},
   "source": [
    "#### 2d1. int_rate\n",
    "\n",
    "Data Dictionary: \"Interest Rate on the loan.\"\n"
   ]
  },
  {
   "cell_type": "code",
   "execution_count": null,
   "metadata": {},
   "outputs": [],
   "source": []
  },
  {
   "cell_type": "code",
   "execution_count": 311,
   "metadata": {},
   "outputs": [
    {
     "data": {
      "text/html": [
       "<div>\n",
       "<style scoped>\n",
       "    .dataframe tbody tr th:only-of-type {\n",
       "        vertical-align: middle;\n",
       "    }\n",
       "\n",
       "    .dataframe tbody tr th {\n",
       "        vertical-align: top;\n",
       "    }\n",
       "\n",
       "    .dataframe thead th {\n",
       "        text-align: right;\n",
       "    }\n",
       "</style>\n",
       "<table border=\"1\" class=\"dataframe\">\n",
       "  <thead>\n",
       "    <tr style=\"text-align: right;\">\n",
       "      <th></th>\n",
       "      <th>count</th>\n",
       "      <th>mean</th>\n",
       "      <th>std</th>\n",
       "      <th>min</th>\n",
       "      <th>25%</th>\n",
       "      <th>50%</th>\n",
       "      <th>75%</th>\n",
       "      <th>max</th>\n",
       "    </tr>\n",
       "    <tr>\n",
       "      <th>loan_status</th>\n",
       "      <th></th>\n",
       "      <th></th>\n",
       "      <th></th>\n",
       "      <th></th>\n",
       "      <th></th>\n",
       "      <th></th>\n",
       "      <th></th>\n",
       "      <th></th>\n",
       "    </tr>\n",
       "  </thead>\n",
       "  <tbody>\n",
       "    <tr>\n",
       "      <th>Charged Off</th>\n",
       "      <td>50643.0</td>\n",
       "      <td>15.818440</td>\n",
       "      <td>5.439015</td>\n",
       "      <td>5.31</td>\n",
       "      <td>11.80</td>\n",
       "      <td>15.04</td>\n",
       "      <td>19.42</td>\n",
       "      <td>30.99</td>\n",
       "    </tr>\n",
       "    <tr>\n",
       "      <th>Fully Paid</th>\n",
       "      <td>195361.0</td>\n",
       "      <td>12.567271</td>\n",
       "      <td>5.149797</td>\n",
       "      <td>5.31</td>\n",
       "      <td>8.19</td>\n",
       "      <td>11.71</td>\n",
       "      <td>15.57</td>\n",
       "      <td>30.99</td>\n",
       "    </tr>\n",
       "  </tbody>\n",
       "</table>\n",
       "</div>"
      ],
      "text/plain": [
       "                count       mean       std   min    25%    50%    75%    max\n",
       "loan_status                                                                 \n",
       "Charged Off   50643.0  15.818440  5.439015  5.31  11.80  15.04  19.42  30.99\n",
       "Fully Paid   195361.0  12.567271  5.149797  5.31   8.19  11.71  15.57  30.99"
      ]
     },
     "execution_count": 311,
     "metadata": {},
     "output_type": "execute_result"
    }
   ],
   "source": [
    "df.groupby('loan_status')['int_rate'].describe()\n"
   ]
  },
  {
   "cell_type": "markdown",
   "metadata": {},
   "source": [
    "Charged-off loans tend to have much higher interest rates. "
   ]
  },
  {
   "cell_type": "markdown",
   "metadata": {},
   "source": [
    "#### 2d2. grade, sub_grade\n",
    "\n",
    "Data Dictionary:\n",
    "1. grade: \"LendingClub assigned loan grade.\"\n",
    "2. sub_grade: \"LendingClub assigned loan subgrade.\"\n",
    "\n"
   ]
  },
  {
   "cell_type": "code",
   "execution_count": 312,
   "metadata": {},
   "outputs": [
    {
     "name": "stdout",
     "output_type": "stream",
     "text": [
      "['A', 'B', 'C', 'D', 'E', 'F', 'G']\n"
     ]
    }
   ],
   "source": [
    "print(sorted(df['grade'].unique()))"
   ]
  },
  {
   "cell_type": "code",
   "execution_count": 313,
   "metadata": {},
   "outputs": [
    {
     "name": "stdout",
     "output_type": "stream",
     "text": [
      "['A1', 'A2', 'A3', 'A4', 'A5', 'B1', 'B2', 'B3', 'B4', 'B5', 'C1', 'C2', 'C3', 'C4', 'C5', 'D1', 'D2', 'D3', 'D4', 'D5', 'E1', 'E2', 'E3', 'E4', 'E5', 'F1', 'F2', 'F3', 'F4', 'F5', 'G1', 'G2', 'G3', 'G4', 'G5']\n"
     ]
    }
   ],
   "source": [
    "print(sorted(df['sub_grade'].unique()))"
   ]
  },
  {
   "cell_type": "markdown",
   "metadata": {},
   "source": [
    "The grade is implied by the subgrade, so let's drop the grade column."
   ]
  },
  {
   "cell_type": "code",
   "execution_count": null,
   "metadata": {},
   "outputs": [],
   "source": []
  },
  {
   "cell_type": "code",
   "execution_count": 315,
   "metadata": {},
   "outputs": [
    {
     "data": {
      "text/plain": [
       "sub_grade\n",
       "A1    0.054597\n",
       "A2    0.054929\n",
       "A3    0.070673\n",
       "A4    0.088761\n",
       "A5    0.102781\n",
       "B1    0.126675\n",
       "B2    0.148228\n",
       "B3    0.161509\n",
       "B4    0.184785\n",
       "B5    0.204518\n",
       "C1    0.231784\n",
       "C2    0.248617\n",
       "C3    0.258369\n",
       "C4    0.281550\n",
       "C5    0.290978\n",
       "D1    0.303773\n",
       "D2    0.310073\n",
       "D3    0.340875\n",
       "D4    0.353904\n",
       "D5    0.368884\n",
       "E1    0.357459\n",
       "E2    0.373455\n",
       "E3    0.449492\n",
       "E4    0.441247\n",
       "E5    0.452237\n",
       "F1    0.480716\n",
       "F2    0.537594\n",
       "F3    0.480583\n",
       "F4    0.517007\n",
       "F5    0.554217\n",
       "G1    0.482072\n",
       "G2    0.515152\n",
       "G3    0.444444\n",
       "G4    0.583333\n",
       "G5    0.583333\n",
       "Name: loan_status, dtype: float64"
      ]
     },
     "execution_count": 315,
     "metadata": {},
     "output_type": "execute_result"
    }
   ],
   "source": [
    "df.groupby('sub_grade')['loan_status'].value_counts(normalize=True).loc[:,'Charged Off']"
   ]
  },
  {
   "cell_type": "markdown",
   "metadata": {},
   "source": [
    "#### 2d3. policy_code\n",
    "\n",
    "Data Dictionary: \"publicly available policy_code=1\n",
    "new products not publicly available policy_code=2\"\n",
    "\n"
   ]
  },
  {
   "cell_type": "code",
   "execution_count": 316,
   "metadata": {},
   "outputs": [],
   "source": [
    "# we only have code =1 and nothing on 2  -> drop\n",
    "\n",
    "df.drop('policy_code' , axis = 1, inplace = True)"
   ]
  },
  {
   "cell_type": "markdown",
   "metadata": {},
   "source": [
    "#### 2d4. fico_range_low, fico_range_high, last_fico_range_low, last_fico_range_high\n",
    "\n",
    "Data Dictionary: \n",
    "- fico_range_low: \"The lower boundary range the borrower’s FICO at loan origination belongs to.\"\n",
    "- fico_range_high: \"The upper boundary range the borrower’s FICO at loan origination belongs to.\"\n",
    "\n",
    "- last_fico_range_low:The lower boundary range the borrower’s last FICO pulled belongs to.\n",
    "\n",
    "- last_fico_range_high: The upper boundary range the borrower’s last FICO pulled belongs to.\n"
   ]
  },
  {
   "cell_type": "code",
   "execution_count": 317,
   "metadata": {},
   "outputs": [
    {
     "data": {
      "text/html": [
       "<div>\n",
       "<style scoped>\n",
       "    .dataframe tbody tr th:only-of-type {\n",
       "        vertical-align: middle;\n",
       "    }\n",
       "\n",
       "    .dataframe tbody tr th {\n",
       "        vertical-align: top;\n",
       "    }\n",
       "\n",
       "    .dataframe thead th {\n",
       "        text-align: right;\n",
       "    }\n",
       "</style>\n",
       "<table border=\"1\" class=\"dataframe\">\n",
       "  <thead>\n",
       "    <tr style=\"text-align: right;\">\n",
       "      <th></th>\n",
       "      <th>fico_range_low</th>\n",
       "      <th>fico_range_high</th>\n",
       "    </tr>\n",
       "  </thead>\n",
       "  <tbody>\n",
       "    <tr>\n",
       "      <th>count</th>\n",
       "      <td>246004.000000</td>\n",
       "      <td>246004.000000</td>\n",
       "    </tr>\n",
       "    <tr>\n",
       "      <th>mean</th>\n",
       "      <td>707.323519</td>\n",
       "      <td>711.323767</td>\n",
       "    </tr>\n",
       "    <tr>\n",
       "      <th>std</th>\n",
       "      <td>36.632327</td>\n",
       "      <td>36.633262</td>\n",
       "    </tr>\n",
       "    <tr>\n",
       "      <th>min</th>\n",
       "      <td>660.000000</td>\n",
       "      <td>664.000000</td>\n",
       "    </tr>\n",
       "    <tr>\n",
       "      <th>25%</th>\n",
       "      <td>680.000000</td>\n",
       "      <td>684.000000</td>\n",
       "    </tr>\n",
       "    <tr>\n",
       "      <th>50%</th>\n",
       "      <td>700.000000</td>\n",
       "      <td>704.000000</td>\n",
       "    </tr>\n",
       "    <tr>\n",
       "      <th>75%</th>\n",
       "      <td>730.000000</td>\n",
       "      <td>734.000000</td>\n",
       "    </tr>\n",
       "    <tr>\n",
       "      <th>max</th>\n",
       "      <td>845.000000</td>\n",
       "      <td>850.000000</td>\n",
       "    </tr>\n",
       "  </tbody>\n",
       "</table>\n",
       "</div>"
      ],
      "text/plain": [
       "       fico_range_low  fico_range_high\n",
       "count   246004.000000    246004.000000\n",
       "mean       707.323519       711.323767\n",
       "std         36.632327        36.633262\n",
       "min        660.000000       664.000000\n",
       "25%        680.000000       684.000000\n",
       "50%        700.000000       704.000000\n",
       "75%        730.000000       734.000000\n",
       "max        845.000000       850.000000"
      ]
     },
     "execution_count": 317,
     "metadata": {},
     "output_type": "execute_result"
    }
   ],
   "source": [
    "df[['fico_range_low', 'fico_range_high']].describe()"
   ]
  },
  {
   "cell_type": "code",
   "execution_count": 318,
   "metadata": {},
   "outputs": [
    {
     "data": {
      "text/html": [
       "<div>\n",
       "<style scoped>\n",
       "    .dataframe tbody tr th:only-of-type {\n",
       "        vertical-align: middle;\n",
       "    }\n",
       "\n",
       "    .dataframe tbody tr th {\n",
       "        vertical-align: top;\n",
       "    }\n",
       "\n",
       "    .dataframe thead th {\n",
       "        text-align: right;\n",
       "    }\n",
       "</style>\n",
       "<table border=\"1\" class=\"dataframe\">\n",
       "  <thead>\n",
       "    <tr style=\"text-align: right;\">\n",
       "      <th></th>\n",
       "      <th>fico_range_low</th>\n",
       "      <th>fico_range_high</th>\n",
       "    </tr>\n",
       "  </thead>\n",
       "  <tbody>\n",
       "    <tr>\n",
       "      <th>fico_range_low</th>\n",
       "      <td>1.0</td>\n",
       "      <td>1.0</td>\n",
       "    </tr>\n",
       "    <tr>\n",
       "      <th>fico_range_high</th>\n",
       "      <td>1.0</td>\n",
       "      <td>1.0</td>\n",
       "    </tr>\n",
       "  </tbody>\n",
       "</table>\n",
       "</div>"
      ],
      "text/plain": [
       "                 fico_range_low  fico_range_high\n",
       "fico_range_low              1.0              1.0\n",
       "fico_range_high             1.0              1.0"
      ]
     },
     "execution_count": 318,
     "metadata": {},
     "output_type": "execute_result"
    }
   ],
   "source": [
    "df[['fico_range_low','fico_range_high']].corr()"
   ]
  },
  {
   "cell_type": "code",
   "execution_count": 319,
   "metadata": {},
   "outputs": [
    {
     "name": "stderr",
     "output_type": "stream",
     "text": [
      "<ipython-input-319-4919339c405f>:2: SettingWithCopyWarning: \n",
      "A value is trying to be set on a copy of a slice from a DataFrame.\n",
      "Try using .loc[row_indexer,col_indexer] = value instead\n",
      "\n",
      "See the caveats in the documentation: https://pandas.pydata.org/pandas-docs/stable/user_guide/indexing.html#returning-a-view-versus-a-copy\n",
      "  df['fico_score'] = 0.5*df['fico_range_low'] + 0.5*df['fico_range_high']\n"
     ]
    }
   ],
   "source": [
    "# only keep one fico score\n",
    "df['fico_score'] = 0.5*df['fico_range_low'] + 0.5*df['fico_range_high']"
   ]
  },
  {
   "cell_type": "code",
   "execution_count": null,
   "metadata": {},
   "outputs": [],
   "source": []
  },
  {
   "cell_type": "code",
   "execution_count": 321,
   "metadata": {},
   "outputs": [
    {
     "data": {
      "text/html": [
       "<div>\n",
       "<style scoped>\n",
       "    .dataframe tbody tr th:only-of-type {\n",
       "        vertical-align: middle;\n",
       "    }\n",
       "\n",
       "    .dataframe tbody tr th {\n",
       "        vertical-align: top;\n",
       "    }\n",
       "\n",
       "    .dataframe thead th {\n",
       "        text-align: right;\n",
       "    }\n",
       "</style>\n",
       "<table border=\"1\" class=\"dataframe\">\n",
       "  <thead>\n",
       "    <tr style=\"text-align: right;\">\n",
       "      <th></th>\n",
       "      <th>count</th>\n",
       "      <th>mean</th>\n",
       "      <th>std</th>\n",
       "      <th>min</th>\n",
       "      <th>25%</th>\n",
       "      <th>50%</th>\n",
       "      <th>75%</th>\n",
       "      <th>max</th>\n",
       "    </tr>\n",
       "    <tr>\n",
       "      <th>loan_status</th>\n",
       "      <th></th>\n",
       "      <th></th>\n",
       "      <th></th>\n",
       "      <th></th>\n",
       "      <th></th>\n",
       "      <th></th>\n",
       "      <th></th>\n",
       "      <th></th>\n",
       "    </tr>\n",
       "  </thead>\n",
       "  <tbody>\n",
       "    <tr>\n",
       "      <th>Charged Off</th>\n",
       "      <td>50643.0</td>\n",
       "      <td>699.108949</td>\n",
       "      <td>31.059802</td>\n",
       "      <td>662.0</td>\n",
       "      <td>677.0</td>\n",
       "      <td>692.0</td>\n",
       "      <td>717.0</td>\n",
       "      <td>847.5</td>\n",
       "    </tr>\n",
       "    <tr>\n",
       "      <th>Fully Paid</th>\n",
       "      <td>195361.0</td>\n",
       "      <td>711.971576</td>\n",
       "      <td>37.492683</td>\n",
       "      <td>662.0</td>\n",
       "      <td>682.0</td>\n",
       "      <td>707.0</td>\n",
       "      <td>732.0</td>\n",
       "      <td>847.5</td>\n",
       "    </tr>\n",
       "  </tbody>\n",
       "</table>\n",
       "</div>"
      ],
      "text/plain": [
       "                count        mean        std    min    25%    50%    75%  \\\n",
       "loan_status                                                                \n",
       "Charged Off   50643.0  699.108949  31.059802  662.0  677.0  692.0  717.0   \n",
       "Fully Paid   195361.0  711.971576  37.492683  662.0  682.0  707.0  732.0   \n",
       "\n",
       "               max  \n",
       "loan_status         \n",
       "Charged Off  847.5  \n",
       "Fully Paid   847.5  "
      ]
     },
     "execution_count": 321,
     "metadata": {},
     "output_type": "execute_result"
    }
   ],
   "source": [
    "df.groupby('loan_status')['fico_score'].describe()"
   ]
  },
  {
   "cell_type": "markdown",
   "metadata": {},
   "source": [
    "We can see a noticeable difference in FICO scores between fully paid and charged-off loans. Loans that charge off have a FICO score 12 points lower on average."
   ]
  },
  {
   "cell_type": "markdown",
   "metadata": {},
   "source": [
    "##### last_fico_score"
   ]
  },
  {
   "cell_type": "code",
   "execution_count": 322,
   "metadata": {},
   "outputs": [
    {
     "name": "stderr",
     "output_type": "stream",
     "text": [
      "<ipython-input-322-3bf90086baa9>:4: SettingWithCopyWarning: \n",
      "A value is trying to be set on a copy of a slice from a DataFrame.\n",
      "Try using .loc[row_indexer,col_indexer] = value instead\n",
      "\n",
      "See the caveats in the documentation: https://pandas.pydata.org/pandas-docs/stable/user_guide/indexing.html#returning-a-view-versus-a-copy\n",
      "  df['last_fico_score'] = 0.5*df['last_fico_range_low'] + 0.5*df['last_fico_range_high']\n",
      "/Users/sabrina/opt/anaconda3/lib/python3.8/site-packages/pandas/core/frame.py:4163: SettingWithCopyWarning: \n",
      "A value is trying to be set on a copy of a slice from a DataFrame\n",
      "\n",
      "See the caveats in the documentation: https://pandas.pydata.org/pandas-docs/stable/user_guide/indexing.html#returning-a-view-versus-a-copy\n",
      "  return super().drop(\n"
     ]
    }
   ],
   "source": [
    "# do the same process for last_fico_score\n",
    "\n",
    "# only keep one last fico score\n",
    "df['last_fico_score'] = 0.5*df['last_fico_range_low'] + 0.5*df['last_fico_range_high']\n",
    "\n",
    "# drop the other two\n",
    "df.drop(['last_fico_range_high', 'last_fico_range_low'], axis=1, inplace=True)"
   ]
  },
  {
   "cell_type": "code",
   "execution_count": 323,
   "metadata": {},
   "outputs": [
    {
     "data": {
      "text/html": [
       "<div>\n",
       "<style scoped>\n",
       "    .dataframe tbody tr th:only-of-type {\n",
       "        vertical-align: middle;\n",
       "    }\n",
       "\n",
       "    .dataframe tbody tr th {\n",
       "        vertical-align: top;\n",
       "    }\n",
       "\n",
       "    .dataframe thead th {\n",
       "        text-align: right;\n",
       "    }\n",
       "</style>\n",
       "<table border=\"1\" class=\"dataframe\">\n",
       "  <thead>\n",
       "    <tr style=\"text-align: right;\">\n",
       "      <th></th>\n",
       "      <th>count</th>\n",
       "      <th>mean</th>\n",
       "      <th>std</th>\n",
       "      <th>min</th>\n",
       "      <th>25%</th>\n",
       "      <th>50%</th>\n",
       "      <th>75%</th>\n",
       "      <th>max</th>\n",
       "    </tr>\n",
       "    <tr>\n",
       "      <th>loan_status</th>\n",
       "      <th></th>\n",
       "      <th></th>\n",
       "      <th></th>\n",
       "      <th></th>\n",
       "      <th></th>\n",
       "      <th></th>\n",
       "      <th></th>\n",
       "      <th></th>\n",
       "    </tr>\n",
       "  </thead>\n",
       "  <tbody>\n",
       "    <tr>\n",
       "      <th>Charged Off</th>\n",
       "      <td>50643.0</td>\n",
       "      <td>528.164643</td>\n",
       "      <td>119.683647</td>\n",
       "      <td>249.5</td>\n",
       "      <td>522.0</td>\n",
       "      <td>552.0</td>\n",
       "      <td>592.0</td>\n",
       "      <td>847.5</td>\n",
       "    </tr>\n",
       "    <tr>\n",
       "      <th>Fully Paid</th>\n",
       "      <td>195361.0</td>\n",
       "      <td>717.862685</td>\n",
       "      <td>51.013184</td>\n",
       "      <td>0.0</td>\n",
       "      <td>687.0</td>\n",
       "      <td>717.0</td>\n",
       "      <td>752.0</td>\n",
       "      <td>847.5</td>\n",
       "    </tr>\n",
       "  </tbody>\n",
       "</table>\n",
       "</div>"
      ],
      "text/plain": [
       "                count        mean         std    min    25%    50%    75%  \\\n",
       "loan_status                                                                 \n",
       "Charged Off   50643.0  528.164643  119.683647  249.5  522.0  552.0  592.0   \n",
       "Fully Paid   195361.0  717.862685   51.013184    0.0  687.0  717.0  752.0   \n",
       "\n",
       "               max  \n",
       "loan_status         \n",
       "Charged Off  847.5  \n",
       "Fully Paid   847.5  "
      ]
     },
     "execution_count": 323,
     "metadata": {},
     "output_type": "execute_result"
    }
   ],
   "source": [
    "df.groupby('loan_status')['last_fico_score'].describe()"
   ]
  },
  {
   "cell_type": "markdown",
   "metadata": {},
   "source": [
    "Loans that charge off have a Last FICO score 189 points lower on average."
   ]
  },
  {
   "cell_type": "markdown",
   "metadata": {},
   "source": [
    "###  2e. Fin Pro : Set aside before finalizing features \n",
    "\n",
    "four features  (df_fin_pro)\n",
    "\n",
    "    a. numerical: 'int_rate', 'fico_score', 'last_fico_score'\n",
    "    \n",
    "    b. catergorical: 'sub_grade'"
   ]
  },
  {
   "cell_type": "markdown",
   "metadata": {},
   "source": [
    "#### Goal: only keep the features which are accessible( on KEEP LIST)\n",
    "\n",
    "Finance Pro LIST: \n",
    "not accessible on application. Created seperately, can add or take out from modeling later, not including in KEEP LIST.    \n",
    "\n"
   ]
  },
  {
   "cell_type": "code",
   "execution_count": 324,
   "metadata": {},
   "outputs": [],
   "source": [
    "fin_pro = ['int_rate', 'sub_grade', 'fico_score', 'last_fico_score' ]"
   ]
  },
  {
   "cell_type": "code",
   "execution_count": 325,
   "metadata": {},
   "outputs": [
    {
     "data": {
      "text/html": [
       "<div>\n",
       "<style scoped>\n",
       "    .dataframe tbody tr th:only-of-type {\n",
       "        vertical-align: middle;\n",
       "    }\n",
       "\n",
       "    .dataframe tbody tr th {\n",
       "        vertical-align: top;\n",
       "    }\n",
       "\n",
       "    .dataframe thead th {\n",
       "        text-align: right;\n",
       "    }\n",
       "</style>\n",
       "<table border=\"1\" class=\"dataframe\">\n",
       "  <thead>\n",
       "    <tr style=\"text-align: right;\">\n",
       "      <th></th>\n",
       "      <th>int_rate</th>\n",
       "      <th>sub_grade</th>\n",
       "      <th>fico_score</th>\n",
       "      <th>last_fico_score</th>\n",
       "    </tr>\n",
       "  </thead>\n",
       "  <tbody>\n",
       "    <tr>\n",
       "      <th>0</th>\n",
       "      <td>23.87</td>\n",
       "      <td>E2</td>\n",
       "      <td>662.0</td>\n",
       "      <td>717.0</td>\n",
       "    </tr>\n",
       "    <tr>\n",
       "      <th>1</th>\n",
       "      <td>14.07</td>\n",
       "      <td>C3</td>\n",
       "      <td>692.0</td>\n",
       "      <td>542.0</td>\n",
       "    </tr>\n",
       "    <tr>\n",
       "      <th>2</th>\n",
       "      <td>11.98</td>\n",
       "      <td>B5</td>\n",
       "      <td>697.0</td>\n",
       "      <td>707.0</td>\n",
       "    </tr>\n",
       "    <tr>\n",
       "      <th>3</th>\n",
       "      <td>20.39</td>\n",
       "      <td>D4</td>\n",
       "      <td>667.0</td>\n",
       "      <td>592.0</td>\n",
       "    </tr>\n",
       "    <tr>\n",
       "      <th>4</th>\n",
       "      <td>9.43</td>\n",
       "      <td>B1</td>\n",
       "      <td>732.0</td>\n",
       "      <td>777.0</td>\n",
       "    </tr>\n",
       "    <tr>\n",
       "      <th>...</th>\n",
       "      <td>...</td>\n",
       "      <td>...</td>\n",
       "      <td>...</td>\n",
       "      <td>...</td>\n",
       "    </tr>\n",
       "    <tr>\n",
       "      <th>245999</th>\n",
       "      <td>9.56</td>\n",
       "      <td>A3</td>\n",
       "      <td>732.0</td>\n",
       "      <td>732.0</td>\n",
       "    </tr>\n",
       "    <tr>\n",
       "      <th>246000</th>\n",
       "      <td>9.02</td>\n",
       "      <td>A2</td>\n",
       "      <td>752.0</td>\n",
       "      <td>752.0</td>\n",
       "    </tr>\n",
       "    <tr>\n",
       "      <th>246001</th>\n",
       "      <td>18.24</td>\n",
       "      <td>C2</td>\n",
       "      <td>682.0</td>\n",
       "      <td>672.0</td>\n",
       "    </tr>\n",
       "    <tr>\n",
       "      <th>246002</th>\n",
       "      <td>10.19</td>\n",
       "      <td>A4</td>\n",
       "      <td>722.0</td>\n",
       "      <td>727.0</td>\n",
       "    </tr>\n",
       "    <tr>\n",
       "      <th>246003</th>\n",
       "      <td>14.02</td>\n",
       "      <td>B2</td>\n",
       "      <td>677.0</td>\n",
       "      <td>677.0</td>\n",
       "    </tr>\n",
       "  </tbody>\n",
       "</table>\n",
       "<p>246004 rows × 4 columns</p>\n",
       "</div>"
      ],
      "text/plain": [
       "        int_rate sub_grade  fico_score  last_fico_score\n",
       "0          23.87        E2       662.0            717.0\n",
       "1          14.07        C3       692.0            542.0\n",
       "2          11.98        B5       697.0            707.0\n",
       "3          20.39        D4       667.0            592.0\n",
       "4           9.43        B1       732.0            777.0\n",
       "...          ...       ...         ...              ...\n",
       "245999      9.56        A3       732.0            732.0\n",
       "246000      9.02        A2       752.0            752.0\n",
       "246001     18.24        C2       682.0            672.0\n",
       "246002     10.19        A4       722.0            727.0\n",
       "246003     14.02        B2       677.0            677.0\n",
       "\n",
       "[246004 rows x 4 columns]"
      ]
     },
     "execution_count": 325,
     "metadata": {},
     "output_type": "execute_result"
    }
   ],
   "source": [
    "# seperate df frame (df_fin pro) for future modeling included or excluded\n",
    "df_fin_pro = df[fin_pro] \n",
    "df_fin_pro"
   ]
  },
  {
   "cell_type": "code",
   "execution_count": 357,
   "metadata": {},
   "outputs": [],
   "source": [
    "df_fin_pro.to_csv('data/loan_2018_2020_FinPro.csv')"
   ]
  },
  {
   "cell_type": "code",
   "execution_count": null,
   "metadata": {},
   "outputs": [],
   "source": []
  },
  {
   "cell_type": "code",
   "execution_count": 327,
   "metadata": {},
   "outputs": [],
   "source": [
    "# save clean df into csv\n",
    "\n",
    "df.to_csv('data/loan_2018_2020_clean.csv')"
   ]
  },
  {
   "cell_type": "code",
   "execution_count": 328,
   "metadata": {},
   "outputs": [
    {
     "data": {
      "text/plain": [
       "Index(['loan_amnt', 'term', 'installment', 'home_ownership', 'issue_d',\n",
       "       'loan_status', 'purpose', 'addr_state', 'dti', 'delinq_2yrs',\n",
       "       'earliest_cr_line', 'inq_last_6mths', 'open_acc', 'pub_rec',\n",
       "       'revol_util', 'total_acc', 'collections_12_mths_ex_med',\n",
       "       'application_type', 'acc_now_delinq', 'chargeoff_within_12_mths',\n",
       "       'delinq_amnt', 'pub_rec_bankruptcies', 'log_annual_inc',\n",
       "       'log_revol_bal'],\n",
       "      dtype='object')"
      ]
     },
     "execution_count": 328,
     "metadata": {},
     "output_type": "execute_result"
    }
   ],
   "source": [
    "df.columns   # raw"
   ]
  },
  {
   "cell_type": "markdown",
   "metadata": {},
   "source": [
    "## 3. Final dataset & features\n",
    "\n",
    "\n",
    "#### a. numerical features:\n",
    "\n",
    "'loan_amnt', 'installment', 'issue_d', 'dti' , 'delinq_2yrs', 'earliest_cr_line', 'inq_last_6mths' X , 'open_acc' X , 'pub_rec' X , 'revol_util' X, 'total_acc' X, \n",
    "'collections_12_mths_ex_med',\n",
    "'acc_now_delinq' X, \n",
    "'chargeoff_within_12_mths', 'delinq_amnt','pub_rec_bankruptcies', 'log_annual_inc', 'log_revol_bal'\n",
    "\n",
    "\n",
    "#### b. catergorical features:\n",
    "\n",
    "'term', 'home_ownership', 'purpose',  'addr_state',  'application_type'\n",
    "\n",
    "\n",
    "#### c. Target:\n",
    "\n",
    "'laon_status'"
   ]
  },
  {
   "cell_type": "code",
   "execution_count": 329,
   "metadata": {},
   "outputs": [
    {
     "data": {
      "text/plain": [
       "(246004, 24)"
      ]
     },
     "execution_count": 329,
     "metadata": {},
     "output_type": "execute_result"
    }
   ],
   "source": [
    "df.shape"
   ]
  },
  {
   "cell_type": "markdown",
   "metadata": {},
   "source": [
    "#### 3a. Numerical Features "
   ]
  },
  {
   "cell_type": "code",
   "execution_count": 330,
   "metadata": {},
   "outputs": [
    {
     "data": {
      "text/html": [
       "<div>\n",
       "<style scoped>\n",
       "    .dataframe tbody tr th:only-of-type {\n",
       "        vertical-align: middle;\n",
       "    }\n",
       "\n",
       "    .dataframe tbody tr th {\n",
       "        vertical-align: top;\n",
       "    }\n",
       "\n",
       "    .dataframe thead th {\n",
       "        text-align: right;\n",
       "    }\n",
       "</style>\n",
       "<table border=\"1\" class=\"dataframe\">\n",
       "  <thead>\n",
       "    <tr style=\"text-align: right;\">\n",
       "      <th></th>\n",
       "      <th>loan_amnt</th>\n",
       "      <th>installment</th>\n",
       "      <th>dti</th>\n",
       "      <th>delinq_2yrs</th>\n",
       "      <th>inq_last_6mths</th>\n",
       "      <th>open_acc</th>\n",
       "      <th>pub_rec</th>\n",
       "      <th>revol_util</th>\n",
       "      <th>total_acc</th>\n",
       "      <th>collections_12_mths_ex_med</th>\n",
       "      <th>acc_now_delinq</th>\n",
       "      <th>chargeoff_within_12_mths</th>\n",
       "      <th>delinq_amnt</th>\n",
       "      <th>pub_rec_bankruptcies</th>\n",
       "      <th>log_annual_inc</th>\n",
       "      <th>log_revol_bal</th>\n",
       "    </tr>\n",
       "  </thead>\n",
       "  <tbody>\n",
       "    <tr>\n",
       "      <th>count</th>\n",
       "      <td>50643.000000</td>\n",
       "      <td>50643.000000</td>\n",
       "      <td>50643.000000</td>\n",
       "      <td>50643.000000</td>\n",
       "      <td>50643.000000</td>\n",
       "      <td>50643.000000</td>\n",
       "      <td>50643.000000</td>\n",
       "      <td>50643.000000</td>\n",
       "      <td>50643.000000</td>\n",
       "      <td>50643.000000</td>\n",
       "      <td>50643.000000</td>\n",
       "      <td>50643.000000</td>\n",
       "      <td>50643.000000</td>\n",
       "      <td>50643.000000</td>\n",
       "      <td>50643.000000</td>\n",
       "      <td>50643.000000</td>\n",
       "    </tr>\n",
       "    <tr>\n",
       "      <th>mean</th>\n",
       "      <td>17640.007010</td>\n",
       "      <td>525.379699</td>\n",
       "      <td>20.246928</td>\n",
       "      <td>0.256679</td>\n",
       "      <td>0.614438</td>\n",
       "      <td>11.595166</td>\n",
       "      <td>0.152499</td>\n",
       "      <td>45.299277</td>\n",
       "      <td>22.394309</td>\n",
       "      <td>0.022392</td>\n",
       "      <td>0.000138</td>\n",
       "      <td>0.008748</td>\n",
       "      <td>3.093991</td>\n",
       "      <td>0.139822</td>\n",
       "      <td>4.824081</td>\n",
       "      <td>3.904574</td>\n",
       "    </tr>\n",
       "    <tr>\n",
       "      <th>std</th>\n",
       "      <td>10227.883732</td>\n",
       "      <td>296.584284</td>\n",
       "      <td>19.100338</td>\n",
       "      <td>0.794272</td>\n",
       "      <td>0.841462</td>\n",
       "      <td>5.951375</td>\n",
       "      <td>0.399569</td>\n",
       "      <td>24.928874</td>\n",
       "      <td>12.324837</td>\n",
       "      <td>0.163912</td>\n",
       "      <td>0.011756</td>\n",
       "      <td>0.103941</td>\n",
       "      <td>239.500329</td>\n",
       "      <td>0.357515</td>\n",
       "      <td>0.238465</td>\n",
       "      <td>0.660537</td>\n",
       "    </tr>\n",
       "    <tr>\n",
       "      <th>min</th>\n",
       "      <td>1000.000000</td>\n",
       "      <td>30.120000</td>\n",
       "      <td>0.000000</td>\n",
       "      <td>0.000000</td>\n",
       "      <td>0.000000</td>\n",
       "      <td>1.000000</td>\n",
       "      <td>0.000000</td>\n",
       "      <td>0.000000</td>\n",
       "      <td>2.000000</td>\n",
       "      <td>0.000000</td>\n",
       "      <td>0.000000</td>\n",
       "      <td>0.000000</td>\n",
       "      <td>0.000000</td>\n",
       "      <td>0.000000</td>\n",
       "      <td>1.518514</td>\n",
       "      <td>0.000000</td>\n",
       "    </tr>\n",
       "    <tr>\n",
       "      <th>25%</th>\n",
       "      <td>10000.000000</td>\n",
       "      <td>300.660000</td>\n",
       "      <td>11.835000</td>\n",
       "      <td>0.000000</td>\n",
       "      <td>0.000000</td>\n",
       "      <td>7.000000</td>\n",
       "      <td>0.000000</td>\n",
       "      <td>26.100000</td>\n",
       "      <td>13.000000</td>\n",
       "      <td>0.000000</td>\n",
       "      <td>0.000000</td>\n",
       "      <td>0.000000</td>\n",
       "      <td>0.000000</td>\n",
       "      <td>0.000000</td>\n",
       "      <td>4.672107</td>\n",
       "      <td>3.701093</td>\n",
       "    </tr>\n",
       "    <tr>\n",
       "      <th>50%</th>\n",
       "      <td>15000.000000</td>\n",
       "      <td>466.100000</td>\n",
       "      <td>18.630000</td>\n",
       "      <td>0.000000</td>\n",
       "      <td>0.000000</td>\n",
       "      <td>11.000000</td>\n",
       "      <td>0.000000</td>\n",
       "      <td>44.100000</td>\n",
       "      <td>20.000000</td>\n",
       "      <td>0.000000</td>\n",
       "      <td>0.000000</td>\n",
       "      <td>0.000000</td>\n",
       "      <td>0.000000</td>\n",
       "      <td>0.000000</td>\n",
       "      <td>4.812920</td>\n",
       "      <td>4.014058</td>\n",
       "    </tr>\n",
       "    <tr>\n",
       "      <th>75%</th>\n",
       "      <td>25000.000000</td>\n",
       "      <td>713.945000</td>\n",
       "      <td>26.220000</td>\n",
       "      <td>0.000000</td>\n",
       "      <td>1.000000</td>\n",
       "      <td>15.000000</td>\n",
       "      <td>0.000000</td>\n",
       "      <td>63.900000</td>\n",
       "      <td>29.000000</td>\n",
       "      <td>0.000000</td>\n",
       "      <td>0.000000</td>\n",
       "      <td>0.000000</td>\n",
       "      <td>0.000000</td>\n",
       "      <td>0.000000</td>\n",
       "      <td>4.968488</td>\n",
       "      <td>4.269314</td>\n",
       "    </tr>\n",
       "    <tr>\n",
       "      <th>max</th>\n",
       "      <td>40000.000000</td>\n",
       "      <td>1664.570000</td>\n",
       "      <td>999.000000</td>\n",
       "      <td>23.000000</td>\n",
       "      <td>5.000000</td>\n",
       "      <td>78.000000</td>\n",
       "      <td>10.000000</td>\n",
       "      <td>130.000000</td>\n",
       "      <td>148.000000</td>\n",
       "      <td>6.000000</td>\n",
       "      <td>1.000000</td>\n",
       "      <td>3.000000</td>\n",
       "      <td>33781.000000</td>\n",
       "      <td>7.000000</td>\n",
       "      <td>6.786613</td>\n",
       "      <td>5.721147</td>\n",
       "    </tr>\n",
       "  </tbody>\n",
       "</table>\n",
       "</div>"
      ],
      "text/plain": [
       "          loan_amnt   installment           dti   delinq_2yrs  inq_last_6mths  \\\n",
       "count  50643.000000  50643.000000  50643.000000  50643.000000    50643.000000   \n",
       "mean   17640.007010    525.379699     20.246928      0.256679        0.614438   \n",
       "std    10227.883732    296.584284     19.100338      0.794272        0.841462   \n",
       "min     1000.000000     30.120000      0.000000      0.000000        0.000000   \n",
       "25%    10000.000000    300.660000     11.835000      0.000000        0.000000   \n",
       "50%    15000.000000    466.100000     18.630000      0.000000        0.000000   \n",
       "75%    25000.000000    713.945000     26.220000      0.000000        1.000000   \n",
       "max    40000.000000   1664.570000    999.000000     23.000000        5.000000   \n",
       "\n",
       "           open_acc       pub_rec    revol_util     total_acc  \\\n",
       "count  50643.000000  50643.000000  50643.000000  50643.000000   \n",
       "mean      11.595166      0.152499     45.299277     22.394309   \n",
       "std        5.951375      0.399569     24.928874     12.324837   \n",
       "min        1.000000      0.000000      0.000000      2.000000   \n",
       "25%        7.000000      0.000000     26.100000     13.000000   \n",
       "50%       11.000000      0.000000     44.100000     20.000000   \n",
       "75%       15.000000      0.000000     63.900000     29.000000   \n",
       "max       78.000000     10.000000    130.000000    148.000000   \n",
       "\n",
       "       collections_12_mths_ex_med  acc_now_delinq  chargeoff_within_12_mths  \\\n",
       "count                50643.000000    50643.000000              50643.000000   \n",
       "mean                     0.022392        0.000138                  0.008748   \n",
       "std                      0.163912        0.011756                  0.103941   \n",
       "min                      0.000000        0.000000                  0.000000   \n",
       "25%                      0.000000        0.000000                  0.000000   \n",
       "50%                      0.000000        0.000000                  0.000000   \n",
       "75%                      0.000000        0.000000                  0.000000   \n",
       "max                      6.000000        1.000000                  3.000000   \n",
       "\n",
       "        delinq_amnt  pub_rec_bankruptcies  log_annual_inc  log_revol_bal  \n",
       "count  50643.000000          50643.000000    50643.000000   50643.000000  \n",
       "mean       3.093991              0.139822        4.824081       3.904574  \n",
       "std      239.500329              0.357515        0.238465       0.660537  \n",
       "min        0.000000              0.000000        1.518514       0.000000  \n",
       "25%        0.000000              0.000000        4.672107       3.701093  \n",
       "50%        0.000000              0.000000        4.812920       4.014058  \n",
       "75%        0.000000              0.000000        4.968488       4.269314  \n",
       "max    33781.000000              7.000000        6.786613       5.721147  "
      ]
     },
     "execution_count": 330,
     "metadata": {},
     "output_type": "execute_result"
    }
   ],
   "source": [
    "# check overall (quicker)\n",
    "\n",
    "mask = (df['loan_status'] == \"Charged Off\")\n",
    "df[mask].describe(include=np.float)\n",
    "\n",
    "#mask = (df['loan_status'] == \"Fully Paid\")\n",
    "#df[mask].describe(include=np.float)"
   ]
  },
  {
   "cell_type": "code",
   "execution_count": 331,
   "metadata": {},
   "outputs": [],
   "source": [
    "num_f = ['loan_status', 'loan_amnt', 'installment' , 'dti' , 'delinq_2yrs', 'earliest_cr_line', \n",
    "         'inq_last_6mths' , 'open_acc' , 'pub_rec' , 'revol_util', 'total_acc' , \n",
    "         'collections_12_mths_ex_med', \n",
    "         'acc_now_delinq' , \n",
    "         'chargeoff_within_12_mths', 'delinq_amnt','pub_rec_bankruptcies', 'log_annual_inc', 'log_revol_bal']\n",
    "\n",
    "# 'issue_d'"
   ]
  },
  {
   "cell_type": "code",
   "execution_count": 332,
   "metadata": {},
   "outputs": [],
   "source": [
    "# numerical only df\n",
    "\n",
    "df_num = df[num_f]  # including Target  # no issue_d"
   ]
  },
  {
   "cell_type": "markdown",
   "metadata": {},
   "source": [
    "#### 3b. Caterogical Features "
   ]
  },
  {
   "cell_type": "code",
   "execution_count": 333,
   "metadata": {},
   "outputs": [
    {
     "data": {
      "text/html": [
       "<div>\n",
       "<style scoped>\n",
       "    .dataframe tbody tr th:only-of-type {\n",
       "        vertical-align: middle;\n",
       "    }\n",
       "\n",
       "    .dataframe tbody tr th {\n",
       "        vertical-align: top;\n",
       "    }\n",
       "\n",
       "    .dataframe thead th {\n",
       "        text-align: right;\n",
       "    }\n",
       "</style>\n",
       "<table border=\"1\" class=\"dataframe\">\n",
       "  <thead>\n",
       "    <tr style=\"text-align: right;\">\n",
       "      <th></th>\n",
       "      <th>home_ownership</th>\n",
       "      <th>issue_d</th>\n",
       "      <th>loan_status</th>\n",
       "      <th>purpose</th>\n",
       "      <th>addr_state</th>\n",
       "      <th>application_type</th>\n",
       "    </tr>\n",
       "  </thead>\n",
       "  <tbody>\n",
       "    <tr>\n",
       "      <th>count</th>\n",
       "      <td>246004</td>\n",
       "      <td>246004</td>\n",
       "      <td>246004</td>\n",
       "      <td>246004</td>\n",
       "      <td>246004</td>\n",
       "      <td>246004</td>\n",
       "    </tr>\n",
       "    <tr>\n",
       "      <th>unique</th>\n",
       "      <td>4</td>\n",
       "      <td>33</td>\n",
       "      <td>2</td>\n",
       "      <td>13</td>\n",
       "      <td>50</td>\n",
       "      <td>2</td>\n",
       "    </tr>\n",
       "    <tr>\n",
       "      <th>top</th>\n",
       "      <td>MORTGAGE</td>\n",
       "      <td>May-2018</td>\n",
       "      <td>Fully Paid</td>\n",
       "      <td>debt_consolidation</td>\n",
       "      <td>CA</td>\n",
       "      <td>Individual</td>\n",
       "    </tr>\n",
       "    <tr>\n",
       "      <th>freq</th>\n",
       "      <td>124361</td>\n",
       "      <td>18259</td>\n",
       "      <td>195361</td>\n",
       "      <td>131062</td>\n",
       "      <td>35096</td>\n",
       "      <td>216302</td>\n",
       "    </tr>\n",
       "  </tbody>\n",
       "</table>\n",
       "</div>"
      ],
      "text/plain": [
       "       home_ownership   issue_d loan_status             purpose addr_state  \\\n",
       "count          246004    246004      246004              246004     246004   \n",
       "unique              4        33           2                  13         50   \n",
       "top          MORTGAGE  May-2018  Fully Paid  debt_consolidation         CA   \n",
       "freq           124361     18259      195361              131062      35096   \n",
       "\n",
       "       application_type  \n",
       "count            246004  \n",
       "unique                2  \n",
       "top          Individual  \n",
       "freq             216302  "
      ]
     },
     "execution_count": 333,
     "metadata": {},
     "output_type": "execute_result"
    }
   ],
   "source": [
    "# check overall (quicker)\n",
    "\n",
    "df.describe(include=np.object)  # ignore issue_d"
   ]
  },
  {
   "cell_type": "code",
   "execution_count": 334,
   "metadata": {},
   "outputs": [],
   "source": [
    "cat_f = ['term', 'home_ownership', 'purpose', 'addr_state', 'application_type']"
   ]
  },
  {
   "cell_type": "markdown",
   "metadata": {},
   "source": [
    "#### Get dummies for catergories features\n"
   ]
  },
  {
   "cell_type": "markdown",
   "metadata": {},
   "source": [
    "##### 3b1.  term"
   ]
  },
  {
   "cell_type": "markdown",
   "metadata": {},
   "source": [
    "##### 3b2.  home_ownership"
   ]
  },
  {
   "cell_type": "markdown",
   "metadata": {},
   "source": [
    "##### 3b3.  purpose"
   ]
  },
  {
   "cell_type": "code",
   "execution_count": 335,
   "metadata": {},
   "outputs": [
    {
     "data": {
      "text/plain": [
       "debt_consolidation    0.532764\n",
       "credit_card           0.232748\n",
       "other                 0.074637\n",
       "home_improvement      0.070247\n",
       "major_purchase        0.026032\n",
       "medical               0.013963\n",
       "house                 0.012536\n",
       "car                   0.011154\n",
       "small_business        0.009463\n",
       "vacation              0.008345\n",
       "moving                0.007423\n",
       "renewable_energy      0.000671\n",
       "wedding               0.000016\n",
       "Name: purpose, dtype: float64"
      ]
     },
     "execution_count": 335,
     "metadata": {},
     "output_type": "execute_result"
    }
   ],
   "source": [
    "df['purpose'].value_counts(normalize=True)  # get dummies  # debt_consolidation, credit_card , other(else) 24%\n",
    "                                                        #  home_improvement + house => itself "
   ]
  },
  {
   "cell_type": "code",
   "execution_count": 336,
   "metadata": {},
   "outputs": [
    {
     "data": {
      "text/plain": [
       "other               0.074637\n",
       "home_improvement    0.070247\n",
       "major_purchase      0.026032\n",
       "medical             0.013963\n",
       "house               0.012536\n",
       "car                 0.011154\n",
       "small_business      0.009463\n",
       "vacation            0.008345\n",
       "moving              0.007423\n",
       "renewable_energy    0.000671\n",
       "wedding             0.000016\n",
       "Name: purpose, dtype: float64"
      ]
     },
     "execution_count": 336,
     "metadata": {},
     "output_type": "execute_result"
    }
   ],
   "source": [
    "pur_counts =  df['purpose'].value_counts(normalize=True)\n",
    "pur_counts[pur_counts<= 0.23]"
   ]
  },
  {
   "cell_type": "code",
   "execution_count": 337,
   "metadata": {},
   "outputs": [
    {
     "name": "stderr",
     "output_type": "stream",
     "text": [
      "<ipython-input-337-c0b00aa18f9f>:2: SettingWithCopyWarning: \n",
      "A value is trying to be set on a copy of a slice from a DataFrame.\n",
      "Try using .loc[row_indexer,col_indexer] = value instead\n",
      "\n",
      "See the caveats in the documentation: https://pandas.pydata.org/pandas-docs/stable/user_guide/indexing.html#returning-a-view-versus-a-copy\n",
      "  df['purpose'] = df['purpose'].replace(other_pur, 'Other')\n"
     ]
    }
   ],
   "source": [
    "other_pur = list(pur_counts[pur_counts<= 0.23].index)\n",
    "df['purpose'] = df['purpose'].replace(other_pur, 'Other')"
   ]
  },
  {
   "cell_type": "code",
   "execution_count": 338,
   "metadata": {},
   "outputs": [
    {
     "data": {
      "text/plain": [
       "debt_consolidation    0.532764\n",
       "Other                 0.234488\n",
       "credit_card           0.232748\n",
       "Name: purpose, dtype: float64"
      ]
     },
     "execution_count": 338,
     "metadata": {},
     "output_type": "execute_result"
    }
   ],
   "source": [
    "df['purpose'].value_counts(normalize = True)"
   ]
  },
  {
   "cell_type": "markdown",
   "metadata": {},
   "source": [
    "##### 3b4.  addr_state"
   ]
  },
  {
   "cell_type": "code",
   "execution_count": 339,
   "metadata": {},
   "outputs": [
    {
     "data": {
      "text/plain": [
       "addr_state\n",
       "ME    0.103634\n",
       "VT    0.118110\n",
       "ID    0.125618\n",
       "WY    0.131148\n",
       "WV    0.131536\n",
       "UT    0.134465\n",
       "OR    0.140284\n",
       "WA    0.141661\n",
       "SC    0.145145\n",
       "MT    0.146165\n",
       "CO    0.148919\n",
       "ND    0.150289\n",
       "DC    0.160232\n",
       "NH    0.167889\n",
       "KS    0.173498\n",
       "DE    0.175657\n",
       "OH    0.180578\n",
       "KY    0.183105\n",
       "MI    0.183432\n",
       "RI    0.184187\n",
       "AK    0.184411\n",
       "VA    0.184738\n",
       "AZ    0.187360\n",
       "TN    0.194587\n",
       "IL    0.197431\n",
       "NC    0.197924\n",
       "IN    0.199528\n",
       "MN    0.200417\n",
       "MO    0.201046\n",
       "PA    0.201100\n",
       "WI    0.202038\n",
       "NM    0.203013\n",
       "NE    0.208504\n",
       "GA    0.209267\n",
       "MA    0.209917\n",
       "NJ    0.210236\n",
       "SD    0.213018\n",
       "TX    0.214209\n",
       "NV    0.214811\n",
       "CA    0.215096\n",
       "CT    0.220204\n",
       "LA    0.225793\n",
       "MD    0.225861\n",
       "AL    0.229137\n",
       "OK    0.229558\n",
       "HI    0.234869\n",
       "FL    0.246140\n",
       "AR    0.253369\n",
       "NY    0.254588\n",
       "MS    0.265636\n",
       "Name: loan_status, dtype: float64"
      ]
     },
     "execution_count": 339,
     "metadata": {},
     "output_type": "execute_result"
    }
   ],
   "source": [
    "df['addr_state'].value_counts(normalize=True)  \n",
    "df.groupby('addr_state')['loan_status'].value_counts(normalize=True).loc[:,'Charged Off'].sort_values()"
   ]
  },
  {
   "cell_type": "code",
   "execution_count": 340,
   "metadata": {},
   "outputs": [],
   "source": [
    "# summarize states into 4 regions - NorthEastern, MidWest, South, West\n",
    "\n",
    "NorEast = ['CT', 'MA', 'ME', 'NH', 'NY', 'PA', 'RI', 'VT']\n",
    "MidWest = ['IA', 'IL', 'IN', 'KS', 'IL', 'IN', 'KS', 'MI', 'MN', 'MO', 'ND', 'NE', 'NJ', 'OH', 'SD', 'WI'  ]\n",
    "South = ['AL', 'AR', 'DC', 'DE', 'FL', 'GA', 'KY', 'LA', 'MS', 'NC', 'OK', 'SC', 'TN', 'TX', 'VA', 'WV']\n",
    "West = ['AK', 'AZ', 'CA', 'CO', 'HI', 'ID', 'MD', 'MT', 'NM', 'NV', 'OR', 'UT', 'WA', 'WY']"
   ]
  },
  {
   "cell_type": "code",
   "execution_count": 341,
   "metadata": {},
   "outputs": [
    {
     "name": "stderr",
     "output_type": "stream",
     "text": [
      "<ipython-input-341-7e4a3515a5f8>:3: SettingWithCopyWarning: \n",
      "A value is trying to be set on a copy of a slice from a DataFrame.\n",
      "Try using .loc[row_indexer,col_indexer] = value instead\n",
      "\n",
      "See the caveats in the documentation: https://pandas.pydata.org/pandas-docs/stable/user_guide/indexing.html#returning-a-view-versus-a-copy\n",
      "  df['addr_state'] = df['addr_state'].replace(i, 'NorEast')\n",
      "<ipython-input-341-7e4a3515a5f8>:7: SettingWithCopyWarning: \n",
      "A value is trying to be set on a copy of a slice from a DataFrame.\n",
      "Try using .loc[row_indexer,col_indexer] = value instead\n",
      "\n",
      "See the caveats in the documentation: https://pandas.pydata.org/pandas-docs/stable/user_guide/indexing.html#returning-a-view-versus-a-copy\n",
      "  df['addr_state'] = df['addr_state'].replace(i, 'MidWest')\n",
      "<ipython-input-341-7e4a3515a5f8>:11: SettingWithCopyWarning: \n",
      "A value is trying to be set on a copy of a slice from a DataFrame.\n",
      "Try using .loc[row_indexer,col_indexer] = value instead\n",
      "\n",
      "See the caveats in the documentation: https://pandas.pydata.org/pandas-docs/stable/user_guide/indexing.html#returning-a-view-versus-a-copy\n",
      "  df['addr_state'] = df['addr_state'].replace(i, 'South')\n",
      "<ipython-input-341-7e4a3515a5f8>:15: SettingWithCopyWarning: \n",
      "A value is trying to be set on a copy of a slice from a DataFrame.\n",
      "Try using .loc[row_indexer,col_indexer] = value instead\n",
      "\n",
      "See the caveats in the documentation: https://pandas.pydata.org/pandas-docs/stable/user_guide/indexing.html#returning-a-view-versus-a-copy\n",
      "  df['addr_state'] = df['addr_state'].replace(i, 'West')\n"
     ]
    }
   ],
   "source": [
    "for i in df['addr_state']:\n",
    "    if i in NorEast:\n",
    "        df['addr_state'] = df['addr_state'].replace(i, 'NorEast')\n",
    "        \n",
    "for i in df['addr_state']:\n",
    "    if i in MidWest:\n",
    "        df['addr_state'] = df['addr_state'].replace(i, 'MidWest')\n",
    "        \n",
    "for i in df['addr_state']:\n",
    "    if i in South:\n",
    "        df['addr_state'] = df['addr_state'].replace(i, 'South')\n",
    "        \n",
    "for i in df['addr_state']:\n",
    "    if i in West:\n",
    "        df['addr_state'] = df['addr_state'].replace(i, 'West')"
   ]
  },
  {
   "cell_type": "code",
   "execution_count": 342,
   "metadata": {},
   "outputs": [
    {
     "data": {
      "text/plain": [
       "South      82876\n",
       "West       74143\n",
       "MidWest    50441\n",
       "NorEast    38544\n",
       "Name: addr_state, dtype: int64"
      ]
     },
     "execution_count": 342,
     "metadata": {},
     "output_type": "execute_result"
    }
   ],
   "source": [
    "df['addr_state'].value_counts()"
   ]
  },
  {
   "cell_type": "markdown",
   "metadata": {},
   "source": [
    "##### 3b5.  application_type\n",
    "\n",
    "##### get dummies for all"
   ]
  },
  {
   "cell_type": "code",
   "execution_count": 343,
   "metadata": {},
   "outputs": [
    {
     "data": {
      "text/html": [
       "<div>\n",
       "<style scoped>\n",
       "    .dataframe tbody tr th:only-of-type {\n",
       "        vertical-align: middle;\n",
       "    }\n",
       "\n",
       "    .dataframe tbody tr th {\n",
       "        vertical-align: top;\n",
       "    }\n",
       "\n",
       "    .dataframe thead th {\n",
       "        text-align: right;\n",
       "    }\n",
       "</style>\n",
       "<table border=\"1\" class=\"dataframe\">\n",
       "  <thead>\n",
       "    <tr style=\"text-align: right;\">\n",
       "      <th></th>\n",
       "      <th>loan_amnt</th>\n",
       "      <th>installment</th>\n",
       "      <th>issue_d</th>\n",
       "      <th>loan_status</th>\n",
       "      <th>dti</th>\n",
       "      <th>delinq_2yrs</th>\n",
       "      <th>earliest_cr_line</th>\n",
       "      <th>inq_last_6mths</th>\n",
       "      <th>open_acc</th>\n",
       "      <th>pub_rec</th>\n",
       "      <th>...</th>\n",
       "      <th>term_60</th>\n",
       "      <th>home_ownership_OTHER</th>\n",
       "      <th>home_ownership_OWN</th>\n",
       "      <th>home_ownership_RENT</th>\n",
       "      <th>purpose_credit_card</th>\n",
       "      <th>purpose_debt_consolidation</th>\n",
       "      <th>addr_state_NorEast</th>\n",
       "      <th>addr_state_South</th>\n",
       "      <th>addr_state_West</th>\n",
       "      <th>application_type_Joint App</th>\n",
       "    </tr>\n",
       "  </thead>\n",
       "  <tbody>\n",
       "    <tr>\n",
       "      <th>0</th>\n",
       "      <td>14100.0</td>\n",
       "      <td>552.23</td>\n",
       "      <td>Mar-2018</td>\n",
       "      <td>Fully Paid</td>\n",
       "      <td>14.12</td>\n",
       "      <td>1.0</td>\n",
       "      <td>2005</td>\n",
       "      <td>0.0</td>\n",
       "      <td>12.0</td>\n",
       "      <td>0.0</td>\n",
       "      <td>...</td>\n",
       "      <td>0</td>\n",
       "      <td>0</td>\n",
       "      <td>1</td>\n",
       "      <td>0</td>\n",
       "      <td>0</td>\n",
       "      <td>1</td>\n",
       "      <td>0</td>\n",
       "      <td>1</td>\n",
       "      <td>0</td>\n",
       "      <td>0</td>\n",
       "    </tr>\n",
       "    <tr>\n",
       "      <th>1</th>\n",
       "      <td>20000.0</td>\n",
       "      <td>466.10</td>\n",
       "      <td>Mar-2018</td>\n",
       "      <td>Charged Off</td>\n",
       "      <td>11.40</td>\n",
       "      <td>0.0</td>\n",
       "      <td>2002</td>\n",
       "      <td>0.0</td>\n",
       "      <td>12.0</td>\n",
       "      <td>0.0</td>\n",
       "      <td>...</td>\n",
       "      <td>1</td>\n",
       "      <td>0</td>\n",
       "      <td>0</td>\n",
       "      <td>1</td>\n",
       "      <td>0</td>\n",
       "      <td>0</td>\n",
       "      <td>1</td>\n",
       "      <td>0</td>\n",
       "      <td>0</td>\n",
       "      <td>0</td>\n",
       "    </tr>\n",
       "    <tr>\n",
       "      <th>2</th>\n",
       "      <td>7000.0</td>\n",
       "      <td>232.44</td>\n",
       "      <td>Mar-2018</td>\n",
       "      <td>Fully Paid</td>\n",
       "      <td>20.25</td>\n",
       "      <td>0.0</td>\n",
       "      <td>2007</td>\n",
       "      <td>0.0</td>\n",
       "      <td>13.0</td>\n",
       "      <td>0.0</td>\n",
       "      <td>...</td>\n",
       "      <td>0</td>\n",
       "      <td>0</td>\n",
       "      <td>0</td>\n",
       "      <td>0</td>\n",
       "      <td>0</td>\n",
       "      <td>0</td>\n",
       "      <td>0</td>\n",
       "      <td>1</td>\n",
       "      <td>0</td>\n",
       "      <td>0</td>\n",
       "    </tr>\n",
       "    <tr>\n",
       "      <th>3</th>\n",
       "      <td>21000.0</td>\n",
       "      <td>560.94</td>\n",
       "      <td>Mar-2018</td>\n",
       "      <td>Fully Paid</td>\n",
       "      <td>15.76</td>\n",
       "      <td>1.0</td>\n",
       "      <td>2008</td>\n",
       "      <td>0.0</td>\n",
       "      <td>15.0</td>\n",
       "      <td>0.0</td>\n",
       "      <td>...</td>\n",
       "      <td>1</td>\n",
       "      <td>0</td>\n",
       "      <td>1</td>\n",
       "      <td>0</td>\n",
       "      <td>0</td>\n",
       "      <td>0</td>\n",
       "      <td>1</td>\n",
       "      <td>0</td>\n",
       "      <td>0</td>\n",
       "      <td>0</td>\n",
       "    </tr>\n",
       "    <tr>\n",
       "      <th>4</th>\n",
       "      <td>40000.0</td>\n",
       "      <td>838.71</td>\n",
       "      <td>Mar-2018</td>\n",
       "      <td>Fully Paid</td>\n",
       "      <td>4.09</td>\n",
       "      <td>0.0</td>\n",
       "      <td>1996</td>\n",
       "      <td>0.0</td>\n",
       "      <td>6.0</td>\n",
       "      <td>1.0</td>\n",
       "      <td>...</td>\n",
       "      <td>1</td>\n",
       "      <td>0</td>\n",
       "      <td>0</td>\n",
       "      <td>0</td>\n",
       "      <td>0</td>\n",
       "      <td>1</td>\n",
       "      <td>1</td>\n",
       "      <td>0</td>\n",
       "      <td>0</td>\n",
       "      <td>0</td>\n",
       "    </tr>\n",
       "  </tbody>\n",
       "</table>\n",
       "<p>5 rows × 29 columns</p>\n",
       "</div>"
      ],
      "text/plain": [
       "   loan_amnt  installment   issue_d  loan_status    dti  delinq_2yrs  \\\n",
       "0    14100.0       552.23  Mar-2018   Fully Paid  14.12          1.0   \n",
       "1    20000.0       466.10  Mar-2018  Charged Off  11.40          0.0   \n",
       "2     7000.0       232.44  Mar-2018   Fully Paid  20.25          0.0   \n",
       "3    21000.0       560.94  Mar-2018   Fully Paid  15.76          1.0   \n",
       "4    40000.0       838.71  Mar-2018   Fully Paid   4.09          0.0   \n",
       "\n",
       "   earliest_cr_line  inq_last_6mths  open_acc  pub_rec  ...  term_60  \\\n",
       "0              2005             0.0      12.0      0.0  ...        0   \n",
       "1              2002             0.0      12.0      0.0  ...        1   \n",
       "2              2007             0.0      13.0      0.0  ...        0   \n",
       "3              2008             0.0      15.0      0.0  ...        1   \n",
       "4              1996             0.0       6.0      1.0  ...        1   \n",
       "\n",
       "   home_ownership_OTHER  home_ownership_OWN  home_ownership_RENT  \\\n",
       "0                     0                   1                    0   \n",
       "1                     0                   0                    1   \n",
       "2                     0                   0                    0   \n",
       "3                     0                   1                    0   \n",
       "4                     0                   0                    0   \n",
       "\n",
       "   purpose_credit_card  purpose_debt_consolidation  addr_state_NorEast  \\\n",
       "0                    0                           1                   0   \n",
       "1                    0                           0                   1   \n",
       "2                    0                           0                   0   \n",
       "3                    0                           0                   1   \n",
       "4                    0                           1                   1   \n",
       "\n",
       "   addr_state_South  addr_state_West  application_type_Joint App  \n",
       "0                 1                0                           0  \n",
       "1                 0                0                           0  \n",
       "2                 1                0                           0  \n",
       "3                 0                0                           0  \n",
       "4                 0                0                           0  \n",
       "\n",
       "[5 rows x 29 columns]"
      ]
     },
     "execution_count": 343,
     "metadata": {},
     "output_type": "execute_result"
    }
   ],
   "source": [
    "df_dummies = pd.get_dummies(df, columns=['term', 'home_ownership', 'purpose', 'addr_state', 'application_type'], drop_first=True)\n",
    "df_dummies.head()"
   ]
  },
  {
   "cell_type": "markdown",
   "metadata": {},
   "source": [
    "#### 3c.  Target : loan_status"
   ]
  },
  {
   "cell_type": "code",
   "execution_count": 344,
   "metadata": {},
   "outputs": [
    {
     "data": {
      "text/html": [
       "<div>\n",
       "<style scoped>\n",
       "    .dataframe tbody tr th:only-of-type {\n",
       "        vertical-align: middle;\n",
       "    }\n",
       "\n",
       "    .dataframe tbody tr th {\n",
       "        vertical-align: top;\n",
       "    }\n",
       "\n",
       "    .dataframe thead th {\n",
       "        text-align: right;\n",
       "    }\n",
       "</style>\n",
       "<table border=\"1\" class=\"dataframe\">\n",
       "  <thead>\n",
       "    <tr style=\"text-align: right;\">\n",
       "      <th></th>\n",
       "      <th>Charged Off</th>\n",
       "      <th>Fully Paid</th>\n",
       "    </tr>\n",
       "  </thead>\n",
       "  <tbody>\n",
       "    <tr>\n",
       "      <th>0</th>\n",
       "      <td>0</td>\n",
       "      <td>1</td>\n",
       "    </tr>\n",
       "    <tr>\n",
       "      <th>1</th>\n",
       "      <td>1</td>\n",
       "      <td>0</td>\n",
       "    </tr>\n",
       "    <tr>\n",
       "      <th>2</th>\n",
       "      <td>0</td>\n",
       "      <td>1</td>\n",
       "    </tr>\n",
       "    <tr>\n",
       "      <th>3</th>\n",
       "      <td>0</td>\n",
       "      <td>1</td>\n",
       "    </tr>\n",
       "    <tr>\n",
       "      <th>4</th>\n",
       "      <td>0</td>\n",
       "      <td>1</td>\n",
       "    </tr>\n",
       "  </tbody>\n",
       "</table>\n",
       "</div>"
      ],
      "text/plain": [
       "   Charged Off  Fully Paid\n",
       "0            0           1\n",
       "1            1           0\n",
       "2            0           1\n",
       "3            0           1\n",
       "4            0           1"
      ]
     },
     "execution_count": 344,
     "metadata": {},
     "output_type": "execute_result"
    }
   ],
   "source": [
    "# get dummies for Loan Status\n",
    "\n",
    "loan_dummies = pd.get_dummies(df_dummies['loan_status']) #, drop_first=True)\n",
    "loan_dummies.head(5)"
   ]
  },
  {
   "cell_type": "code",
   "execution_count": 345,
   "metadata": {},
   "outputs": [],
   "source": [
    "Charged_Off = loan_dummies[['Charged Off']]"
   ]
  },
  {
   "cell_type": "code",
   "execution_count": 346,
   "metadata": {},
   "outputs": [
    {
     "data": {
      "text/html": [
       "<div>\n",
       "<style scoped>\n",
       "    .dataframe tbody tr th:only-of-type {\n",
       "        vertical-align: middle;\n",
       "    }\n",
       "\n",
       "    .dataframe tbody tr th {\n",
       "        vertical-align: top;\n",
       "    }\n",
       "\n",
       "    .dataframe thead th {\n",
       "        text-align: right;\n",
       "    }\n",
       "</style>\n",
       "<table border=\"1\" class=\"dataframe\">\n",
       "  <thead>\n",
       "    <tr style=\"text-align: right;\">\n",
       "      <th></th>\n",
       "      <th>Charged Off</th>\n",
       "      <th>loan_amnt</th>\n",
       "      <th>installment</th>\n",
       "      <th>issue_d</th>\n",
       "      <th>loan_status</th>\n",
       "      <th>dti</th>\n",
       "      <th>delinq_2yrs</th>\n",
       "      <th>earliest_cr_line</th>\n",
       "      <th>inq_last_6mths</th>\n",
       "      <th>open_acc</th>\n",
       "      <th>...</th>\n",
       "      <th>term_60</th>\n",
       "      <th>home_ownership_OTHER</th>\n",
       "      <th>home_ownership_OWN</th>\n",
       "      <th>home_ownership_RENT</th>\n",
       "      <th>purpose_credit_card</th>\n",
       "      <th>purpose_debt_consolidation</th>\n",
       "      <th>addr_state_NorEast</th>\n",
       "      <th>addr_state_South</th>\n",
       "      <th>addr_state_West</th>\n",
       "      <th>application_type_Joint App</th>\n",
       "    </tr>\n",
       "  </thead>\n",
       "  <tbody>\n",
       "    <tr>\n",
       "      <th>0</th>\n",
       "      <td>0</td>\n",
       "      <td>14100.0</td>\n",
       "      <td>552.23</td>\n",
       "      <td>Mar-2018</td>\n",
       "      <td>Fully Paid</td>\n",
       "      <td>14.12</td>\n",
       "      <td>1.0</td>\n",
       "      <td>2005</td>\n",
       "      <td>0.0</td>\n",
       "      <td>12.0</td>\n",
       "      <td>...</td>\n",
       "      <td>0</td>\n",
       "      <td>0</td>\n",
       "      <td>1</td>\n",
       "      <td>0</td>\n",
       "      <td>0</td>\n",
       "      <td>1</td>\n",
       "      <td>0</td>\n",
       "      <td>1</td>\n",
       "      <td>0</td>\n",
       "      <td>0</td>\n",
       "    </tr>\n",
       "    <tr>\n",
       "      <th>1</th>\n",
       "      <td>1</td>\n",
       "      <td>20000.0</td>\n",
       "      <td>466.10</td>\n",
       "      <td>Mar-2018</td>\n",
       "      <td>Charged Off</td>\n",
       "      <td>11.40</td>\n",
       "      <td>0.0</td>\n",
       "      <td>2002</td>\n",
       "      <td>0.0</td>\n",
       "      <td>12.0</td>\n",
       "      <td>...</td>\n",
       "      <td>1</td>\n",
       "      <td>0</td>\n",
       "      <td>0</td>\n",
       "      <td>1</td>\n",
       "      <td>0</td>\n",
       "      <td>0</td>\n",
       "      <td>1</td>\n",
       "      <td>0</td>\n",
       "      <td>0</td>\n",
       "      <td>0</td>\n",
       "    </tr>\n",
       "    <tr>\n",
       "      <th>2</th>\n",
       "      <td>0</td>\n",
       "      <td>7000.0</td>\n",
       "      <td>232.44</td>\n",
       "      <td>Mar-2018</td>\n",
       "      <td>Fully Paid</td>\n",
       "      <td>20.25</td>\n",
       "      <td>0.0</td>\n",
       "      <td>2007</td>\n",
       "      <td>0.0</td>\n",
       "      <td>13.0</td>\n",
       "      <td>...</td>\n",
       "      <td>0</td>\n",
       "      <td>0</td>\n",
       "      <td>0</td>\n",
       "      <td>0</td>\n",
       "      <td>0</td>\n",
       "      <td>0</td>\n",
       "      <td>0</td>\n",
       "      <td>1</td>\n",
       "      <td>0</td>\n",
       "      <td>0</td>\n",
       "    </tr>\n",
       "    <tr>\n",
       "      <th>3</th>\n",
       "      <td>0</td>\n",
       "      <td>21000.0</td>\n",
       "      <td>560.94</td>\n",
       "      <td>Mar-2018</td>\n",
       "      <td>Fully Paid</td>\n",
       "      <td>15.76</td>\n",
       "      <td>1.0</td>\n",
       "      <td>2008</td>\n",
       "      <td>0.0</td>\n",
       "      <td>15.0</td>\n",
       "      <td>...</td>\n",
       "      <td>1</td>\n",
       "      <td>0</td>\n",
       "      <td>1</td>\n",
       "      <td>0</td>\n",
       "      <td>0</td>\n",
       "      <td>0</td>\n",
       "      <td>1</td>\n",
       "      <td>0</td>\n",
       "      <td>0</td>\n",
       "      <td>0</td>\n",
       "    </tr>\n",
       "    <tr>\n",
       "      <th>4</th>\n",
       "      <td>0</td>\n",
       "      <td>40000.0</td>\n",
       "      <td>838.71</td>\n",
       "      <td>Mar-2018</td>\n",
       "      <td>Fully Paid</td>\n",
       "      <td>4.09</td>\n",
       "      <td>0.0</td>\n",
       "      <td>1996</td>\n",
       "      <td>0.0</td>\n",
       "      <td>6.0</td>\n",
       "      <td>...</td>\n",
       "      <td>1</td>\n",
       "      <td>0</td>\n",
       "      <td>0</td>\n",
       "      <td>0</td>\n",
       "      <td>0</td>\n",
       "      <td>1</td>\n",
       "      <td>1</td>\n",
       "      <td>0</td>\n",
       "      <td>0</td>\n",
       "      <td>0</td>\n",
       "    </tr>\n",
       "  </tbody>\n",
       "</table>\n",
       "<p>5 rows × 30 columns</p>\n",
       "</div>"
      ],
      "text/plain": [
       "   Charged Off  loan_amnt  installment   issue_d  loan_status    dti  \\\n",
       "0            0    14100.0       552.23  Mar-2018   Fully Paid  14.12   \n",
       "1            1    20000.0       466.10  Mar-2018  Charged Off  11.40   \n",
       "2            0     7000.0       232.44  Mar-2018   Fully Paid  20.25   \n",
       "3            0    21000.0       560.94  Mar-2018   Fully Paid  15.76   \n",
       "4            0    40000.0       838.71  Mar-2018   Fully Paid   4.09   \n",
       "\n",
       "   delinq_2yrs  earliest_cr_line  inq_last_6mths  open_acc  ...  term_60  \\\n",
       "0          1.0              2005             0.0      12.0  ...        0   \n",
       "1          0.0              2002             0.0      12.0  ...        1   \n",
       "2          0.0              2007             0.0      13.0  ...        0   \n",
       "3          1.0              2008             0.0      15.0  ...        1   \n",
       "4          0.0              1996             0.0       6.0  ...        1   \n",
       "\n",
       "   home_ownership_OTHER  home_ownership_OWN  home_ownership_RENT  \\\n",
       "0                     0                   1                    0   \n",
       "1                     0                   0                    1   \n",
       "2                     0                   0                    0   \n",
       "3                     0                   1                    0   \n",
       "4                     0                   0                    0   \n",
       "\n",
       "   purpose_credit_card  purpose_debt_consolidation  addr_state_NorEast  \\\n",
       "0                    0                           1                   0   \n",
       "1                    0                           0                   1   \n",
       "2                    0                           0                   0   \n",
       "3                    0                           0                   1   \n",
       "4                    0                           1                   1   \n",
       "\n",
       "   addr_state_South  addr_state_West  application_type_Joint App  \n",
       "0                 1                0                           0  \n",
       "1                 0                0                           0  \n",
       "2                 1                0                           0  \n",
       "3                 0                0                           0  \n",
       "4                 0                0                           0  \n",
       "\n",
       "[5 rows x 30 columns]"
      ]
     },
     "execution_count": 346,
     "metadata": {},
     "output_type": "execute_result"
    }
   ],
   "source": [
    "df_final = Charged_Off.merge(df_dummies, left_index=True, right_index=True)"
   ]
  },
  {
   "cell_type": "code",
   "execution_count": 348,
   "metadata": {},
   "outputs": [],
   "source": [
    "df_final.drop('loan_status', axis = 1, inplace = True)"
   ]
  },
  {
   "cell_type": "code",
   "execution_count": 349,
   "metadata": {},
   "outputs": [],
   "source": [
    "df_final.drop('issue_d', axis = 1, inplace = True)"
   ]
  },
  {
   "cell_type": "code",
   "execution_count": 356,
   "metadata": {},
   "outputs": [
    {
     "data": {
      "text/html": [
       "<div>\n",
       "<style scoped>\n",
       "    .dataframe tbody tr th:only-of-type {\n",
       "        vertical-align: middle;\n",
       "    }\n",
       "\n",
       "    .dataframe tbody tr th {\n",
       "        vertical-align: top;\n",
       "    }\n",
       "\n",
       "    .dataframe thead th {\n",
       "        text-align: right;\n",
       "    }\n",
       "</style>\n",
       "<table border=\"1\" class=\"dataframe\">\n",
       "  <thead>\n",
       "    <tr style=\"text-align: right;\">\n",
       "      <th></th>\n",
       "      <th>Charged Off</th>\n",
       "      <th>loan_amnt</th>\n",
       "      <th>installment</th>\n",
       "      <th>dti</th>\n",
       "      <th>delinq_2yrs</th>\n",
       "      <th>earliest_cr_line</th>\n",
       "      <th>inq_last_6mths</th>\n",
       "      <th>open_acc</th>\n",
       "      <th>pub_rec</th>\n",
       "      <th>revol_util</th>\n",
       "      <th>...</th>\n",
       "      <th>term_60</th>\n",
       "      <th>home_ownership_OTHER</th>\n",
       "      <th>home_ownership_OWN</th>\n",
       "      <th>home_ownership_RENT</th>\n",
       "      <th>purpose_credit_card</th>\n",
       "      <th>purpose_debt_consolidation</th>\n",
       "      <th>addr_state_NorEast</th>\n",
       "      <th>addr_state_South</th>\n",
       "      <th>addr_state_West</th>\n",
       "      <th>application_type_Joint App</th>\n",
       "    </tr>\n",
       "  </thead>\n",
       "  <tbody>\n",
       "    <tr>\n",
       "      <th>0</th>\n",
       "      <td>0</td>\n",
       "      <td>14100.0</td>\n",
       "      <td>552.23</td>\n",
       "      <td>14.12</td>\n",
       "      <td>1.0</td>\n",
       "      <td>2005</td>\n",
       "      <td>0.0</td>\n",
       "      <td>12.0</td>\n",
       "      <td>0.0</td>\n",
       "      <td>62.6</td>\n",
       "      <td>...</td>\n",
       "      <td>0</td>\n",
       "      <td>0</td>\n",
       "      <td>1</td>\n",
       "      <td>0</td>\n",
       "      <td>0</td>\n",
       "      <td>1</td>\n",
       "      <td>0</td>\n",
       "      <td>1</td>\n",
       "      <td>0</td>\n",
       "      <td>0</td>\n",
       "    </tr>\n",
       "    <tr>\n",
       "      <th>1</th>\n",
       "      <td>1</td>\n",
       "      <td>20000.0</td>\n",
       "      <td>466.10</td>\n",
       "      <td>11.40</td>\n",
       "      <td>0.0</td>\n",
       "      <td>2002</td>\n",
       "      <td>0.0</td>\n",
       "      <td>12.0</td>\n",
       "      <td>0.0</td>\n",
       "      <td>46.2</td>\n",
       "      <td>...</td>\n",
       "      <td>1</td>\n",
       "      <td>0</td>\n",
       "      <td>0</td>\n",
       "      <td>1</td>\n",
       "      <td>0</td>\n",
       "      <td>0</td>\n",
       "      <td>1</td>\n",
       "      <td>0</td>\n",
       "      <td>0</td>\n",
       "      <td>0</td>\n",
       "    </tr>\n",
       "    <tr>\n",
       "      <th>2</th>\n",
       "      <td>0</td>\n",
       "      <td>7000.0</td>\n",
       "      <td>232.44</td>\n",
       "      <td>20.25</td>\n",
       "      <td>0.0</td>\n",
       "      <td>2007</td>\n",
       "      <td>0.0</td>\n",
       "      <td>13.0</td>\n",
       "      <td>0.0</td>\n",
       "      <td>36.0</td>\n",
       "      <td>...</td>\n",
       "      <td>0</td>\n",
       "      <td>0</td>\n",
       "      <td>0</td>\n",
       "      <td>0</td>\n",
       "      <td>0</td>\n",
       "      <td>0</td>\n",
       "      <td>0</td>\n",
       "      <td>1</td>\n",
       "      <td>0</td>\n",
       "      <td>0</td>\n",
       "    </tr>\n",
       "    <tr>\n",
       "      <th>3</th>\n",
       "      <td>0</td>\n",
       "      <td>21000.0</td>\n",
       "      <td>560.94</td>\n",
       "      <td>15.76</td>\n",
       "      <td>1.0</td>\n",
       "      <td>2008</td>\n",
       "      <td>0.0</td>\n",
       "      <td>15.0</td>\n",
       "      <td>0.0</td>\n",
       "      <td>34.2</td>\n",
       "      <td>...</td>\n",
       "      <td>1</td>\n",
       "      <td>0</td>\n",
       "      <td>1</td>\n",
       "      <td>0</td>\n",
       "      <td>0</td>\n",
       "      <td>0</td>\n",
       "      <td>1</td>\n",
       "      <td>0</td>\n",
       "      <td>0</td>\n",
       "      <td>0</td>\n",
       "    </tr>\n",
       "    <tr>\n",
       "      <th>4</th>\n",
       "      <td>0</td>\n",
       "      <td>40000.0</td>\n",
       "      <td>838.71</td>\n",
       "      <td>4.09</td>\n",
       "      <td>0.0</td>\n",
       "      <td>1996</td>\n",
       "      <td>0.0</td>\n",
       "      <td>6.0</td>\n",
       "      <td>1.0</td>\n",
       "      <td>9.4</td>\n",
       "      <td>...</td>\n",
       "      <td>1</td>\n",
       "      <td>0</td>\n",
       "      <td>0</td>\n",
       "      <td>0</td>\n",
       "      <td>0</td>\n",
       "      <td>1</td>\n",
       "      <td>1</td>\n",
       "      <td>0</td>\n",
       "      <td>0</td>\n",
       "      <td>0</td>\n",
       "    </tr>\n",
       "  </tbody>\n",
       "</table>\n",
       "<p>5 rows × 28 columns</p>\n",
       "</div>"
      ],
      "text/plain": [
       "   Charged Off  loan_amnt  installment    dti  delinq_2yrs  earliest_cr_line  \\\n",
       "0            0    14100.0       552.23  14.12          1.0              2005   \n",
       "1            1    20000.0       466.10  11.40          0.0              2002   \n",
       "2            0     7000.0       232.44  20.25          0.0              2007   \n",
       "3            0    21000.0       560.94  15.76          1.0              2008   \n",
       "4            0    40000.0       838.71   4.09          0.0              1996   \n",
       "\n",
       "   inq_last_6mths  open_acc  pub_rec  revol_util  ...  term_60  \\\n",
       "0             0.0      12.0      0.0        62.6  ...        0   \n",
       "1             0.0      12.0      0.0        46.2  ...        1   \n",
       "2             0.0      13.0      0.0        36.0  ...        0   \n",
       "3             0.0      15.0      0.0        34.2  ...        1   \n",
       "4             0.0       6.0      1.0         9.4  ...        1   \n",
       "\n",
       "   home_ownership_OTHER  home_ownership_OWN  home_ownership_RENT  \\\n",
       "0                     0                   1                    0   \n",
       "1                     0                   0                    1   \n",
       "2                     0                   0                    0   \n",
       "3                     0                   1                    0   \n",
       "4                     0                   0                    0   \n",
       "\n",
       "   purpose_credit_card  purpose_debt_consolidation  addr_state_NorEast  \\\n",
       "0                    0                           1                   0   \n",
       "1                    0                           0                   1   \n",
       "2                    0                           0                   0   \n",
       "3                    0                           0                   1   \n",
       "4                    0                           1                   1   \n",
       "\n",
       "   addr_state_South  addr_state_West  application_type_Joint App  \n",
       "0                 1                0                           0  \n",
       "1                 0                0                           0  \n",
       "2                 1                0                           0  \n",
       "3                 0                0                           0  \n",
       "4                 0                0                           0  \n",
       "\n",
       "[5 rows x 28 columns]"
      ]
     },
     "execution_count": 356,
     "metadata": {},
     "output_type": "execute_result"
    }
   ],
   "source": [
    "# save final df (with dummies) into csv for modeling\n",
    "\n",
    "df_final.to_csv('data/loan_2018_2020_final_dummies.csv') \n",
    "df_final.head()"
   ]
  },
  {
   "cell_type": "markdown",
   "metadata": {},
   "source": [
    "## 3. EDA - pairplot\n"
   ]
  },
  {
   "cell_type": "markdown",
   "metadata": {},
   "source": [
    "### 3a. numerical features only "
   ]
  },
  {
   "cell_type": "code",
   "execution_count": 353,
   "metadata": {},
   "outputs": [
    {
     "data": {
      "text/html": [
       "<div>\n",
       "<style scoped>\n",
       "    .dataframe tbody tr th:only-of-type {\n",
       "        vertical-align: middle;\n",
       "    }\n",
       "\n",
       "    .dataframe tbody tr th {\n",
       "        vertical-align: top;\n",
       "    }\n",
       "\n",
       "    .dataframe thead th {\n",
       "        text-align: right;\n",
       "    }\n",
       "</style>\n",
       "<table border=\"1\" class=\"dataframe\">\n",
       "  <thead>\n",
       "    <tr style=\"text-align: right;\">\n",
       "      <th></th>\n",
       "      <th>loan_status</th>\n",
       "      <th>loan_amnt</th>\n",
       "      <th>installment</th>\n",
       "      <th>dti</th>\n",
       "      <th>delinq_2yrs</th>\n",
       "      <th>earliest_cr_line</th>\n",
       "      <th>inq_last_6mths</th>\n",
       "      <th>open_acc</th>\n",
       "      <th>pub_rec</th>\n",
       "      <th>revol_util</th>\n",
       "      <th>total_acc</th>\n",
       "      <th>collections_12_mths_ex_med</th>\n",
       "      <th>acc_now_delinq</th>\n",
       "      <th>chargeoff_within_12_mths</th>\n",
       "      <th>delinq_amnt</th>\n",
       "      <th>pub_rec_bankruptcies</th>\n",
       "      <th>log_annual_inc</th>\n",
       "      <th>log_revol_bal</th>\n",
       "    </tr>\n",
       "  </thead>\n",
       "  <tbody>\n",
       "    <tr>\n",
       "      <th>0</th>\n",
       "      <td>Fully Paid</td>\n",
       "      <td>14100.0</td>\n",
       "      <td>552.23</td>\n",
       "      <td>14.12</td>\n",
       "      <td>1.0</td>\n",
       "      <td>2005</td>\n",
       "      <td>0.0</td>\n",
       "      <td>12.0</td>\n",
       "      <td>0.0</td>\n",
       "      <td>62.6</td>\n",
       "      <td>32.0</td>\n",
       "      <td>1.0</td>\n",
       "      <td>0.0</td>\n",
       "      <td>0.0</td>\n",
       "      <td>0.0</td>\n",
       "      <td>0.0</td>\n",
       "      <td>5.107213</td>\n",
       "      <td>4.047314</td>\n",
       "    </tr>\n",
       "    <tr>\n",
       "      <th>1</th>\n",
       "      <td>Charged Off</td>\n",
       "      <td>20000.0</td>\n",
       "      <td>466.10</td>\n",
       "      <td>11.40</td>\n",
       "      <td>0.0</td>\n",
       "      <td>2002</td>\n",
       "      <td>0.0</td>\n",
       "      <td>12.0</td>\n",
       "      <td>0.0</td>\n",
       "      <td>46.2</td>\n",
       "      <td>36.0</td>\n",
       "      <td>0.0</td>\n",
       "      <td>0.0</td>\n",
       "      <td>0.0</td>\n",
       "      <td>0.0</td>\n",
       "      <td>0.0</td>\n",
       "      <td>4.963793</td>\n",
       "      <td>4.304857</td>\n",
       "    </tr>\n",
       "    <tr>\n",
       "      <th>2</th>\n",
       "      <td>Fully Paid</td>\n",
       "      <td>7000.0</td>\n",
       "      <td>232.44</td>\n",
       "      <td>20.25</td>\n",
       "      <td>0.0</td>\n",
       "      <td>2007</td>\n",
       "      <td>0.0</td>\n",
       "      <td>13.0</td>\n",
       "      <td>0.0</td>\n",
       "      <td>36.0</td>\n",
       "      <td>29.0</td>\n",
       "      <td>0.0</td>\n",
       "      <td>0.0</td>\n",
       "      <td>0.0</td>\n",
       "      <td>0.0</td>\n",
       "      <td>0.0</td>\n",
       "      <td>4.602071</td>\n",
       "      <td>3.699404</td>\n",
       "    </tr>\n",
       "    <tr>\n",
       "      <th>3</th>\n",
       "      <td>Fully Paid</td>\n",
       "      <td>21000.0</td>\n",
       "      <td>560.94</td>\n",
       "      <td>15.76</td>\n",
       "      <td>1.0</td>\n",
       "      <td>2008</td>\n",
       "      <td>0.0</td>\n",
       "      <td>15.0</td>\n",
       "      <td>0.0</td>\n",
       "      <td>34.2</td>\n",
       "      <td>27.0</td>\n",
       "      <td>0.0</td>\n",
       "      <td>0.0</td>\n",
       "      <td>0.0</td>\n",
       "      <td>0.0</td>\n",
       "      <td>0.0</td>\n",
       "      <td>4.929424</td>\n",
       "      <td>4.164115</td>\n",
       "    </tr>\n",
       "    <tr>\n",
       "      <th>4</th>\n",
       "      <td>Fully Paid</td>\n",
       "      <td>40000.0</td>\n",
       "      <td>838.71</td>\n",
       "      <td>4.09</td>\n",
       "      <td>0.0</td>\n",
       "      <td>1996</td>\n",
       "      <td>0.0</td>\n",
       "      <td>6.0</td>\n",
       "      <td>1.0</td>\n",
       "      <td>9.4</td>\n",
       "      <td>9.0</td>\n",
       "      <td>0.0</td>\n",
       "      <td>0.0</td>\n",
       "      <td>0.0</td>\n",
       "      <td>0.0</td>\n",
       "      <td>1.0</td>\n",
       "      <td>5.176094</td>\n",
       "      <td>3.640879</td>\n",
       "    </tr>\n",
       "  </tbody>\n",
       "</table>\n",
       "</div>"
      ],
      "text/plain": [
       "   loan_status  loan_amnt  installment    dti  delinq_2yrs  earliest_cr_line  \\\n",
       "0   Fully Paid    14100.0       552.23  14.12          1.0              2005   \n",
       "1  Charged Off    20000.0       466.10  11.40          0.0              2002   \n",
       "2   Fully Paid     7000.0       232.44  20.25          0.0              2007   \n",
       "3   Fully Paid    21000.0       560.94  15.76          1.0              2008   \n",
       "4   Fully Paid    40000.0       838.71   4.09          0.0              1996   \n",
       "\n",
       "   inq_last_6mths  open_acc  pub_rec  revol_util  total_acc  \\\n",
       "0             0.0      12.0      0.0        62.6       32.0   \n",
       "1             0.0      12.0      0.0        46.2       36.0   \n",
       "2             0.0      13.0      0.0        36.0       29.0   \n",
       "3             0.0      15.0      0.0        34.2       27.0   \n",
       "4             0.0       6.0      1.0         9.4        9.0   \n",
       "\n",
       "   collections_12_mths_ex_med  acc_now_delinq  chargeoff_within_12_mths  \\\n",
       "0                         1.0             0.0                       0.0   \n",
       "1                         0.0             0.0                       0.0   \n",
       "2                         0.0             0.0                       0.0   \n",
       "3                         0.0             0.0                       0.0   \n",
       "4                         0.0             0.0                       0.0   \n",
       "\n",
       "   delinq_amnt  pub_rec_bankruptcies  log_annual_inc  log_revol_bal  \n",
       "0          0.0                   0.0        5.107213       4.047314  \n",
       "1          0.0                   0.0        4.963793       4.304857  \n",
       "2          0.0                   0.0        4.602071       3.699404  \n",
       "3          0.0                   0.0        4.929424       4.164115  \n",
       "4          0.0                   1.0        5.176094       3.640879  "
      ]
     },
     "execution_count": 353,
     "metadata": {},
     "output_type": "execute_result"
    }
   ],
   "source": [
    "df_num.head()"
   ]
  },
  {
   "cell_type": "code",
   "execution_count": 354,
   "metadata": {},
   "outputs": [
    {
     "data": {
      "text/html": [
       "<div>\n",
       "<style scoped>\n",
       "    .dataframe tbody tr th:only-of-type {\n",
       "        vertical-align: middle;\n",
       "    }\n",
       "\n",
       "    .dataframe tbody tr th {\n",
       "        vertical-align: top;\n",
       "    }\n",
       "\n",
       "    .dataframe thead th {\n",
       "        text-align: right;\n",
       "    }\n",
       "</style>\n",
       "<table border=\"1\" class=\"dataframe\">\n",
       "  <thead>\n",
       "    <tr style=\"text-align: right;\">\n",
       "      <th></th>\n",
       "      <th>loan_amnt</th>\n",
       "      <th>installment</th>\n",
       "      <th>dti</th>\n",
       "      <th>delinq_2yrs</th>\n",
       "      <th>earliest_cr_line</th>\n",
       "      <th>inq_last_6mths</th>\n",
       "      <th>open_acc</th>\n",
       "      <th>pub_rec</th>\n",
       "      <th>revol_util</th>\n",
       "      <th>total_acc</th>\n",
       "      <th>collections_12_mths_ex_med</th>\n",
       "      <th>acc_now_delinq</th>\n",
       "      <th>chargeoff_within_12_mths</th>\n",
       "      <th>delinq_amnt</th>\n",
       "      <th>pub_rec_bankruptcies</th>\n",
       "      <th>log_annual_inc</th>\n",
       "      <th>log_revol_bal</th>\n",
       "      <th>loan_status</th>\n",
       "    </tr>\n",
       "  </thead>\n",
       "  <tbody>\n",
       "    <tr>\n",
       "      <th>305</th>\n",
       "      <td>10000.0</td>\n",
       "      <td>230.52</td>\n",
       "      <td>26.27</td>\n",
       "      <td>0.0</td>\n",
       "      <td>1996</td>\n",
       "      <td>1.0</td>\n",
       "      <td>10.0</td>\n",
       "      <td>0.0</td>\n",
       "      <td>56.8</td>\n",
       "      <td>18.0</td>\n",
       "      <td>0.0</td>\n",
       "      <td>0.0</td>\n",
       "      <td>0.0</td>\n",
       "      <td>0.0</td>\n",
       "      <td>0.0</td>\n",
       "      <td>4.755882</td>\n",
       "      <td>4.242690</td>\n",
       "      <td>Fully Paid</td>\n",
       "    </tr>\n",
       "    <tr>\n",
       "      <th>107</th>\n",
       "      <td>15000.0</td>\n",
       "      <td>571.70</td>\n",
       "      <td>14.03</td>\n",
       "      <td>1.0</td>\n",
       "      <td>2009</td>\n",
       "      <td>0.0</td>\n",
       "      <td>14.0</td>\n",
       "      <td>0.0</td>\n",
       "      <td>33.4</td>\n",
       "      <td>27.0</td>\n",
       "      <td>0.0</td>\n",
       "      <td>0.0</td>\n",
       "      <td>0.0</td>\n",
       "      <td>0.0</td>\n",
       "      <td>0.0</td>\n",
       "      <td>4.875067</td>\n",
       "      <td>3.711639</td>\n",
       "      <td>Fully Paid</td>\n",
       "    </tr>\n",
       "    <tr>\n",
       "      <th>350</th>\n",
       "      <td>8000.0</td>\n",
       "      <td>287.10</td>\n",
       "      <td>18.17</td>\n",
       "      <td>0.0</td>\n",
       "      <td>2014</td>\n",
       "      <td>1.0</td>\n",
       "      <td>8.0</td>\n",
       "      <td>0.0</td>\n",
       "      <td>42.3</td>\n",
       "      <td>8.0</td>\n",
       "      <td>0.0</td>\n",
       "      <td>0.0</td>\n",
       "      <td>0.0</td>\n",
       "      <td>0.0</td>\n",
       "      <td>0.0</td>\n",
       "      <td>4.204147</td>\n",
       "      <td>3.490099</td>\n",
       "      <td>Charged Off</td>\n",
       "    </tr>\n",
       "    <tr>\n",
       "      <th>334</th>\n",
       "      <td>15000.0</td>\n",
       "      <td>318.12</td>\n",
       "      <td>6.23</td>\n",
       "      <td>0.0</td>\n",
       "      <td>2005</td>\n",
       "      <td>0.0</td>\n",
       "      <td>8.0</td>\n",
       "      <td>0.0</td>\n",
       "      <td>44.7</td>\n",
       "      <td>23.0</td>\n",
       "      <td>0.0</td>\n",
       "      <td>0.0</td>\n",
       "      <td>0.0</td>\n",
       "      <td>0.0</td>\n",
       "      <td>0.0</td>\n",
       "      <td>4.845104</td>\n",
       "      <td>3.908056</td>\n",
       "      <td>Fully Paid</td>\n",
       "    </tr>\n",
       "    <tr>\n",
       "      <th>142</th>\n",
       "      <td>8400.0</td>\n",
       "      <td>281.46</td>\n",
       "      <td>34.03</td>\n",
       "      <td>0.0</td>\n",
       "      <td>1994</td>\n",
       "      <td>0.0</td>\n",
       "      <td>8.0</td>\n",
       "      <td>0.0</td>\n",
       "      <td>97.0</td>\n",
       "      <td>11.0</td>\n",
       "      <td>0.0</td>\n",
       "      <td>0.0</td>\n",
       "      <td>0.0</td>\n",
       "      <td>0.0</td>\n",
       "      <td>0.0</td>\n",
       "      <td>4.650451</td>\n",
       "      <td>4.346490</td>\n",
       "      <td>Fully Paid</td>\n",
       "    </tr>\n",
       "  </tbody>\n",
       "</table>\n",
       "</div>"
      ],
      "text/plain": [
       "     loan_amnt  installment    dti  delinq_2yrs  earliest_cr_line  \\\n",
       "305    10000.0       230.52  26.27          0.0              1996   \n",
       "107    15000.0       571.70  14.03          1.0              2009   \n",
       "350     8000.0       287.10  18.17          0.0              2014   \n",
       "334    15000.0       318.12   6.23          0.0              2005   \n",
       "142     8400.0       281.46  34.03          0.0              1994   \n",
       "\n",
       "     inq_last_6mths  open_acc  pub_rec  revol_util  total_acc  \\\n",
       "305             1.0      10.0      0.0        56.8       18.0   \n",
       "107             0.0      14.0      0.0        33.4       27.0   \n",
       "350             1.0       8.0      0.0        42.3        8.0   \n",
       "334             0.0       8.0      0.0        44.7       23.0   \n",
       "142             0.0       8.0      0.0        97.0       11.0   \n",
       "\n",
       "     collections_12_mths_ex_med  acc_now_delinq  chargeoff_within_12_mths  \\\n",
       "305                         0.0             0.0                       0.0   \n",
       "107                         0.0             0.0                       0.0   \n",
       "350                         0.0             0.0                       0.0   \n",
       "334                         0.0             0.0                       0.0   \n",
       "142                         0.0             0.0                       0.0   \n",
       "\n",
       "     delinq_amnt  pub_rec_bankruptcies  log_annual_inc  log_revol_bal  \\\n",
       "305          0.0                   0.0        4.755882       4.242690   \n",
       "107          0.0                   0.0        4.875067       3.711639   \n",
       "350          0.0                   0.0        4.204147       3.490099   \n",
       "334          0.0                   0.0        4.845104       3.908056   \n",
       "142          0.0                   0.0        4.650451       4.346490   \n",
       "\n",
       "     loan_status  \n",
       "305   Fully Paid  \n",
       "107   Fully Paid  \n",
       "350  Charged Off  \n",
       "334   Fully Paid  \n",
       "142   Fully Paid  "
      ]
     },
     "execution_count": 354,
     "metadata": {},
     "output_type": "execute_result"
    }
   ],
   "source": [
    "subset_num = df_num[:500]\n",
    "X_num = subset_num.iloc[:, 1:]\n",
    "y_num = subset_num['loan_status']\n",
    "X_tr_num, X_te_num, y_tr_num, y_te_num = train_test_split(X_num, y_num, test_size = 0.2, random_state = 10)\n",
    "\n",
    "train_df_num = X_tr_num.copy()\n",
    "train_df_num['loan_status'] = y_tr_num\n",
    "train_df_num.head()   "
   ]
  },
  {
   "cell_type": "code",
   "execution_count": null,
   "metadata": {},
   "outputs": [],
   "source": []
  },
  {
   "cell_type": "code",
   "execution_count": null,
   "metadata": {
    "scrolled": false
   },
   "outputs": [],
   "source": [
    "# num only\n",
    "# sns.pairplot(pd.concat([X_train, y_train], axis=1), hue='loan_status')"
   ]
  },
  {
   "cell_type": "markdown",
   "metadata": {},
   "source": [
    "### 3b. numerical features & catergorical dummies features"
   ]
  },
  {
   "cell_type": "code",
   "execution_count": null,
   "metadata": {},
   "outputs": [],
   "source": [
    "df_final.head()  # num + cat dummies"
   ]
  },
  {
   "cell_type": "code",
   "execution_count": null,
   "metadata": {},
   "outputs": [],
   "source": [
    "subset = df_final[:500]\n",
    "X = subset.iloc[:, 1:]\n",
    "#X = pd.merge(subset[subset.columns[:11]],subset[subset.columns[12:]],left_index=True, right_index=True)\n",
    "X.head()\n",
    "y = subset['Charged Off']\n",
    "y"
   ]
  },
  {
   "cell_type": "code",
   "execution_count": null,
   "metadata": {},
   "outputs": [],
   "source": [
    "X_train, X_test, y_train, y_test = train_test_split(X, y, test_size = 0.2, random_state = 10)"
   ]
  },
  {
   "cell_type": "code",
   "execution_count": null,
   "metadata": {},
   "outputs": [],
   "source": [
    "train_df = X_train.copy()\n",
    "train_df['Charged Off'] = y_train\n",
    "train_df.head()   "
   ]
  },
  {
   "cell_type": "code",
   "execution_count": null,
   "metadata": {},
   "outputs": [],
   "source": [
    "sns.pairplot( train_df , hue='Charged Off')   # num + cat dummies"
   ]
  },
  {
   "cell_type": "markdown",
   "metadata": {},
   "source": [
    "# STEPS\n",
    "0. set subset to do baseline\n",
    "\n",
    "1. feature Engineer\n",
    "\n",
    "2. train_test_split\n",
    "\n",
    "3. pairplot\n",
    "   \n",
    "4. (scale) -> logisitic regression\n",
    "\n",
    "5. Regulariztion\n",
    "\n",
    "6. imbalance (CODE: class_imbalance_instacart-Copy1)\n",
    "\n",
    "7. Random Forest ( GridSearchCV )"
   ]
  },
  {
   "cell_type": "markdown",
   "metadata": {},
   "source": []
  },
  {
   "cell_type": "code",
   "execution_count": null,
   "metadata": {},
   "outputs": [],
   "source": []
  }
 ],
 "metadata": {
  "kernelspec": {
   "display_name": "Python 3",
   "language": "python",
   "name": "python3"
  },
  "language_info": {
   "codemirror_mode": {
    "name": "ipython",
    "version": 3
   },
   "file_extension": ".py",
   "mimetype": "text/x-python",
   "name": "python",
   "nbconvert_exporter": "python",
   "pygments_lexer": "ipython3",
   "version": "3.8.8"
  }
 },
 "nbformat": 4,
 "nbformat_minor": 4
}
