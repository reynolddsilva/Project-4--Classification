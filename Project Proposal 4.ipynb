{
 "cells": [
  {
   "cell_type": "markdown",
   "id": "99b9e5e8",
   "metadata": {},
   "source": [
    "## Project Proposal"
   ]
  },
  {
   "cell_type": "markdown",
   "id": "86faae06",
   "metadata": {},
   "source": [
    "# Abstract: \n",
    "The purpose of this project is to predict whether a lendee will repay the loan, based on Data Points available.   \n",
    "The model is set to guide my client in being prudent, thereby reducing lending risk.\n",
    "\n",
    "# Data:\n",
    "Lending Club data from Kaggle\n",
    "\n",
    "Features: loan amount, employee title, employee length, home ownership, annual income, debt to income ratio, loan purpose, FICO score, loan grades from Lending Club, interest rate, installments.\n",
    "\n",
    "Target: Loan Payment.\n",
    "\n",
    "# Tools:\n",
    "1) Numpy   \n",
    "2) Pandas  \n",
    "3) Scikit Learn  \n",
    "4) Matplotlib\n",
    "\n",
    "\n"
   ]
  },
  {
   "cell_type": "code",
   "execution_count": null,
   "id": "18096aa7",
   "metadata": {},
   "outputs": [],
   "source": []
  }
 ],
 "metadata": {
  "kernelspec": {
   "display_name": "Python 3",
   "language": "python",
   "name": "python3"
  },
  "language_info": {
   "codemirror_mode": {
    "name": "ipython",
    "version": 3
   },
   "file_extension": ".py",
   "mimetype": "text/x-python",
   "name": "python",
   "nbconvert_exporter": "python",
   "pygments_lexer": "ipython3",
   "version": "3.8.8"
  }
 },
 "nbformat": 4,
 "nbformat_minor": 5
}
